{
 "cells": [
  {
   "cell_type": "markdown",
   "metadata": {},
   "source": [
    "# Homework 2\n",
    "\n",
    "### Due Date: Thursday, September 27, 2018\n",
    "\n",
    "### Getting Started\n",
    "\n",
    "- Training optimal policies / value functions can take very long, so be sure to start solving the problems early to give yourself enough time to finish training everything.\n",
    "- Please save any plots you generate and add them to the notebook. We will not rerun your code for you."
   ]
  },
  {
   "cell_type": "markdown",
   "metadata": {},
   "source": [
    "# Question 1: Modeling Driving Behaviors via Regression\n",
    "\n",
    "In this problem, we will explore the potential of using neural network models to approximate the acceleration (or car-following) behavior of individual vehicles given certain local observations. Specifically, we will try to estiamte the acceleration $a_\\alpha$ of vehicle $\\alpha$ using only information on its bumper-to-bumper gaps with the lead vehicle $s_\\alpha = x_{\\alpha-1} - x_\\alpha$, the speed of the ego vehicle $v_\\alpha$, and the speed of the lead vehicle $v_{\\alpha-1}$. While the majority of this course focuses on sequential decision making tasks, regression problems such as these on deep neural networks may play a significant role in the future of transportation modeling.\n",
    "\n",
    "<img src=\"img/micro_data.png\" width=\"600\">"
   ]
  },
  {
   "cell_type": "markdown",
   "metadata": {},
   "source": [
    "### a. NGSIM dataset\n",
    "\n",
    "[NGSIM](https://ops.fhwa.dot.gov/trafficanalysistools/ngsim.htm) is a collection of datasets providing microscopic data on vehicles on the US 101 and I-80 for a total set of 6 intervals of 15 min, sampled at 0.1/s. It is one of the largest sets of open-source microscopic (per-vehicle) transportation data, and is a good candidate for modeling human driver behavior.\n",
    "\n",
    "We begin by importing a processed and filtered version of the dataset. In order to do so, go to https://data.transportation.gov/Automobiles/Next-Generation-Simulation-NGSIM-Vehicle-Trajector/8ect-6jqj and export the data as a csv file. You will now have a new csv file called \"Next\\_Generation\\_Simulation\\_\\_NGSIM\\_\\_Vehicle\\_Trajectories\\_and\\_Supporting\\_Data.csv\" containing all the aforementioned data.\n",
    "\n",
    "Feel free to open and review any of this file. `pandas` is a great tool for visualizing data in Python, and we highly recommend you explore it if you haven't in the past. If you do not have `pandas` installed, enter the following command in your terminal.\n",
    "\n",
    "    pip install pandas\n",
    "\n",
    "Once you have installed it, run the below cell to get a clearer visual representation of the data samples."
   ]
  },
  {
   "cell_type": "code",
   "execution_count": 64,
   "metadata": {},
   "outputs": [],
   "source": [
    "import pandas as pd"
   ]
  },
  {
   "cell_type": "code",
   "execution_count": 2,
   "metadata": {
    "scrolled": false
   },
   "outputs": [
    {
     "data": {
      "text/html": [
       "<div>\n",
       "<style scoped>\n",
       "    .dataframe tbody tr th:only-of-type {\n",
       "        vertical-align: middle;\n",
       "    }\n",
       "\n",
       "    .dataframe tbody tr th {\n",
       "        vertical-align: top;\n",
       "    }\n",
       "\n",
       "    .dataframe thead th {\n",
       "        text-align: right;\n",
       "    }\n",
       "</style>\n",
       "<table border=\"1\" class=\"dataframe\">\n",
       "  <thead>\n",
       "    <tr style=\"text-align: right;\">\n",
       "      <th></th>\n",
       "      <th>Vehicle_ID</th>\n",
       "      <th>Frame_ID</th>\n",
       "      <th>Total_Frames</th>\n",
       "      <th>Global_Time</th>\n",
       "      <th>Local_X</th>\n",
       "      <th>Local_Y</th>\n",
       "      <th>Global_X</th>\n",
       "      <th>Global_Y</th>\n",
       "      <th>v_length</th>\n",
       "      <th>v_Width</th>\n",
       "      <th>...</th>\n",
       "      <th>D_Zone</th>\n",
       "      <th>Int_ID</th>\n",
       "      <th>Section_ID</th>\n",
       "      <th>Direction</th>\n",
       "      <th>Movement</th>\n",
       "      <th>Preceding</th>\n",
       "      <th>Following</th>\n",
       "      <th>Space_Headway</th>\n",
       "      <th>Time_Headway</th>\n",
       "      <th>Location</th>\n",
       "    </tr>\n",
       "  </thead>\n",
       "  <tbody>\n",
       "    <tr>\n",
       "      <th>0</th>\n",
       "      <td>2</td>\n",
       "      <td>13</td>\n",
       "      <td>437</td>\n",
       "      <td>1118846980200</td>\n",
       "      <td>16.467</td>\n",
       "      <td>35.381</td>\n",
       "      <td>6451137.641</td>\n",
       "      <td>1873344.962</td>\n",
       "      <td>14.5</td>\n",
       "      <td>4.9</td>\n",
       "      <td>...</td>\n",
       "      <td>NaN</td>\n",
       "      <td>NaN</td>\n",
       "      <td>NaN</td>\n",
       "      <td>NaN</td>\n",
       "      <td>NaN</td>\n",
       "      <td>0</td>\n",
       "      <td>0</td>\n",
       "      <td>0.0</td>\n",
       "      <td>0.0</td>\n",
       "      <td>us-101</td>\n",
       "    </tr>\n",
       "    <tr>\n",
       "      <th>1</th>\n",
       "      <td>2</td>\n",
       "      <td>14</td>\n",
       "      <td>437</td>\n",
       "      <td>1118846980300</td>\n",
       "      <td>16.447</td>\n",
       "      <td>39.381</td>\n",
       "      <td>6451140.329</td>\n",
       "      <td>1873342.000</td>\n",
       "      <td>14.5</td>\n",
       "      <td>4.9</td>\n",
       "      <td>...</td>\n",
       "      <td>NaN</td>\n",
       "      <td>NaN</td>\n",
       "      <td>NaN</td>\n",
       "      <td>NaN</td>\n",
       "      <td>NaN</td>\n",
       "      <td>0</td>\n",
       "      <td>0</td>\n",
       "      <td>0.0</td>\n",
       "      <td>0.0</td>\n",
       "      <td>us-101</td>\n",
       "    </tr>\n",
       "    <tr>\n",
       "      <th>2</th>\n",
       "      <td>2</td>\n",
       "      <td>15</td>\n",
       "      <td>437</td>\n",
       "      <td>1118846980400</td>\n",
       "      <td>16.426</td>\n",
       "      <td>43.381</td>\n",
       "      <td>6451143.018</td>\n",
       "      <td>1873339.038</td>\n",
       "      <td>14.5</td>\n",
       "      <td>4.9</td>\n",
       "      <td>...</td>\n",
       "      <td>NaN</td>\n",
       "      <td>NaN</td>\n",
       "      <td>NaN</td>\n",
       "      <td>NaN</td>\n",
       "      <td>NaN</td>\n",
       "      <td>0</td>\n",
       "      <td>0</td>\n",
       "      <td>0.0</td>\n",
       "      <td>0.0</td>\n",
       "      <td>us-101</td>\n",
       "    </tr>\n",
       "    <tr>\n",
       "      <th>3</th>\n",
       "      <td>2</td>\n",
       "      <td>16</td>\n",
       "      <td>437</td>\n",
       "      <td>1118846980500</td>\n",
       "      <td>16.405</td>\n",
       "      <td>47.380</td>\n",
       "      <td>6451145.706</td>\n",
       "      <td>1873336.077</td>\n",
       "      <td>14.5</td>\n",
       "      <td>4.9</td>\n",
       "      <td>...</td>\n",
       "      <td>NaN</td>\n",
       "      <td>NaN</td>\n",
       "      <td>NaN</td>\n",
       "      <td>NaN</td>\n",
       "      <td>NaN</td>\n",
       "      <td>0</td>\n",
       "      <td>0</td>\n",
       "      <td>0.0</td>\n",
       "      <td>0.0</td>\n",
       "      <td>us-101</td>\n",
       "    </tr>\n",
       "    <tr>\n",
       "      <th>4</th>\n",
       "      <td>2</td>\n",
       "      <td>17</td>\n",
       "      <td>437</td>\n",
       "      <td>1118846980600</td>\n",
       "      <td>16.385</td>\n",
       "      <td>51.381</td>\n",
       "      <td>6451148.395</td>\n",
       "      <td>1873333.115</td>\n",
       "      <td>14.5</td>\n",
       "      <td>4.9</td>\n",
       "      <td>...</td>\n",
       "      <td>NaN</td>\n",
       "      <td>NaN</td>\n",
       "      <td>NaN</td>\n",
       "      <td>NaN</td>\n",
       "      <td>NaN</td>\n",
       "      <td>0</td>\n",
       "      <td>0</td>\n",
       "      <td>0.0</td>\n",
       "      <td>0.0</td>\n",
       "      <td>us-101</td>\n",
       "    </tr>\n",
       "  </tbody>\n",
       "</table>\n",
       "<p>5 rows × 25 columns</p>\n",
       "</div>"
      ],
      "text/plain": [
       "   Vehicle_ID  Frame_ID  Total_Frames    Global_Time  Local_X  Local_Y  \\\n",
       "0           2        13           437  1118846980200   16.467   35.381   \n",
       "1           2        14           437  1118846980300   16.447   39.381   \n",
       "2           2        15           437  1118846980400   16.426   43.381   \n",
       "3           2        16           437  1118846980500   16.405   47.380   \n",
       "4           2        17           437  1118846980600   16.385   51.381   \n",
       "\n",
       "      Global_X     Global_Y  v_length  v_Width    ...     D_Zone  Int_ID  \\\n",
       "0  6451137.641  1873344.962      14.5      4.9    ...        NaN     NaN   \n",
       "1  6451140.329  1873342.000      14.5      4.9    ...        NaN     NaN   \n",
       "2  6451143.018  1873339.038      14.5      4.9    ...        NaN     NaN   \n",
       "3  6451145.706  1873336.077      14.5      4.9    ...        NaN     NaN   \n",
       "4  6451148.395  1873333.115      14.5      4.9    ...        NaN     NaN   \n",
       "\n",
       "   Section_ID  Direction  Movement  Preceding  Following  Space_Headway  \\\n",
       "0         NaN        NaN       NaN          0          0            0.0   \n",
       "1         NaN        NaN       NaN          0          0            0.0   \n",
       "2         NaN        NaN       NaN          0          0            0.0   \n",
       "3         NaN        NaN       NaN          0          0            0.0   \n",
       "4         NaN        NaN       NaN          0          0            0.0   \n",
       "\n",
       "   Time_Headway  Location  \n",
       "0           0.0    us-101  \n",
       "1           0.0    us-101  \n",
       "2           0.0    us-101  \n",
       "3           0.0    us-101  \n",
       "4           0.0    us-101  \n",
       "\n",
       "[5 rows x 25 columns]"
      ]
     },
     "execution_count": 2,
     "metadata": {},
     "output_type": "execute_result"
    }
   ],
   "source": [
    "data = pd.read_csv(\"~/Downloads/Next_Generation_Simulation__NGSIM__\"\n",
    "                   \"Vehicle_Trajectories_and_Supporting_Data.csv\")\n",
    "\n",
    "data.head()"
   ]
  },
  {
   "cell_type": "code",
   "execution_count": 3,
   "metadata": {},
   "outputs": [],
   "source": [
    "RECORD = data.copy() #so that I always have a static immutable reference to the data, even after transformations"
   ]
  },
  {
   "cell_type": "code",
   "execution_count": 7,
   "metadata": {},
   "outputs": [
    {
     "name": "stdout",
     "output_type": "stream",
     "text": [
      "['Vehicle_ID', 'Frame_ID', 'Total_Frames', 'Global_Time', 'Local_X', 'Local_Y', 'Global_X', 'Global_Y', 'v_length', 'v_Width', 'v_Class', 'v_Vel', 'v_Acc', 'Lane_ID', 'O_Zone', 'D_Zone', 'Int_ID', 'Section_ID', 'Direction', 'Movement', 'Preceding', 'Following', 'Space_Headway', 'Time_Headway', 'Location']\n",
      "['Vehicle_ID', 'Frame_ID', 'Total_Frames', 'Global_Time', 'Local_X', 'Local_Y', 'Global_X', 'Global_Y', 'v_length', 'v_Width', 'v_Class', 'v_Vel', 'v_Acc', 'Lane_ID', 'O_Zone', 'D_Zone', 'Int_ID', 'Section_ID', 'Direction', 'Movement', 'Preceding', 'Following', 'Space_Headway', 'Time_Headway', 'Location']\n",
      "['us-101' 'lankershim' 'peachtree' 'i-80']\n"
     ]
    }
   ],
   "source": [
    "print([d for d in data])\n",
    "print(list(RECORD))\n",
    "print(RECORD.Location.unique())"
   ]
  },
  {
   "cell_type": "markdown",
   "metadata": {},
   "source": [
    "Note that this means that all locations are just 4 values of ['us-101' 'lankershim' 'peachtree' 'i-80']"
   ]
  },
  {
   "cell_type": "code",
   "execution_count": 15,
   "metadata": {},
   "outputs": [
    {
     "data": {
      "text/plain": [
       "(4588132, 25)"
      ]
     },
     "execution_count": 15,
     "metadata": {},
     "output_type": "execute_result"
    }
   ],
   "source": [
    "data.shape #TOT NUM = 11,850,526"
   ]
  },
  {
   "cell_type": "markdown",
   "metadata": {},
   "source": [
    "In order to train and validate our model in later sections, we begin by splitting the dataset to test and train sets. Accordingly, in the next cell, perform the following tasks:\n",
    "\n",
    "1. Filter from the dataset all datapoints that are not from the US-101. This can be done by looking at the \"Location\" variable.\n",
    "2. Collect the speed, gap (space headway - lead vehicle length), lead speed, and acceleration (action) for each vehicle at every time step. If a vehicle has no leader or it's headway is zero, remove it from the dataset.\n",
    "3. Place 80% of them in a train set and 20% in a test set. Justify, in writing, how you chose to split the data.\n",
    "\n",
    "**Hints**:\n",
    "\n",
    "- Locating the speeds of the lead vehicles will be computationally demanding if you are doing so by searching a large list. Instead, consider reading the speeds of vehicle from a generated dictionary with keys corresponding to the time and vehicle ID, and/or using a divide and conquer approach where the data is separated by unique time stamps."
   ]
  },
  {
   "cell_type": "code",
   "execution_count": 14,
   "metadata": {},
   "outputs": [],
   "source": [
    "from sklearn.model_selection import train_test_split"
   ]
  },
  {
   "cell_type": "code",
   "execution_count": 27,
   "metadata": {},
   "outputs": [],
   "source": [
    "#use this cell to recover data if your transformation doesn't work, so that you don't have to reload it\n",
    "data = RECORD.copy()"
   ]
  },
  {
   "cell_type": "code",
   "execution_count": 10,
   "metadata": {},
   "outputs": [],
   "source": [
    "#1.Filter from the dataset all datapoints that are not from the US-101. \n",
    "#This can be done by looking at the \"Location\" variable.\n",
    "data.drop(data[data.Location != 'us-101'].index, inplace=True)\n"
   ]
  },
  {
   "cell_type": "code",
   "execution_count": 14,
   "metadata": {},
   "outputs": [
    {
     "data": {
      "text/html": [
       "<div>\n",
       "<style scoped>\n",
       "    .dataframe tbody tr th:only-of-type {\n",
       "        vertical-align: middle;\n",
       "    }\n",
       "\n",
       "    .dataframe tbody tr th {\n",
       "        vertical-align: top;\n",
       "    }\n",
       "\n",
       "    .dataframe thead th {\n",
       "        text-align: right;\n",
       "    }\n",
       "</style>\n",
       "<table border=\"1\" class=\"dataframe\">\n",
       "  <thead>\n",
       "    <tr style=\"text-align: right;\">\n",
       "      <th></th>\n",
       "      <th>Vehicle_ID</th>\n",
       "      <th>Frame_ID</th>\n",
       "      <th>Total_Frames</th>\n",
       "      <th>Global_Time</th>\n",
       "      <th>Local_X</th>\n",
       "      <th>Local_Y</th>\n",
       "      <th>Global_X</th>\n",
       "      <th>Global_Y</th>\n",
       "      <th>v_length</th>\n",
       "      <th>v_Width</th>\n",
       "      <th>...</th>\n",
       "      <th>D_Zone</th>\n",
       "      <th>Int_ID</th>\n",
       "      <th>Section_ID</th>\n",
       "      <th>Direction</th>\n",
       "      <th>Movement</th>\n",
       "      <th>Preceding</th>\n",
       "      <th>Following</th>\n",
       "      <th>Space_Headway</th>\n",
       "      <th>Time_Headway</th>\n",
       "      <th>Location</th>\n",
       "    </tr>\n",
       "  </thead>\n",
       "  <tbody>\n",
       "    <tr>\n",
       "      <th>0</th>\n",
       "      <td>2</td>\n",
       "      <td>13</td>\n",
       "      <td>437</td>\n",
       "      <td>1118846980200</td>\n",
       "      <td>16.467</td>\n",
       "      <td>35.381</td>\n",
       "      <td>6451137.641</td>\n",
       "      <td>1873344.962</td>\n",
       "      <td>14.5</td>\n",
       "      <td>4.9</td>\n",
       "      <td>...</td>\n",
       "      <td>NaN</td>\n",
       "      <td>NaN</td>\n",
       "      <td>NaN</td>\n",
       "      <td>NaN</td>\n",
       "      <td>NaN</td>\n",
       "      <td>0</td>\n",
       "      <td>0</td>\n",
       "      <td>0.0</td>\n",
       "      <td>0.0</td>\n",
       "      <td>us-101</td>\n",
       "    </tr>\n",
       "    <tr>\n",
       "      <th>1</th>\n",
       "      <td>2</td>\n",
       "      <td>14</td>\n",
       "      <td>437</td>\n",
       "      <td>1118846980300</td>\n",
       "      <td>16.447</td>\n",
       "      <td>39.381</td>\n",
       "      <td>6451140.329</td>\n",
       "      <td>1873342.000</td>\n",
       "      <td>14.5</td>\n",
       "      <td>4.9</td>\n",
       "      <td>...</td>\n",
       "      <td>NaN</td>\n",
       "      <td>NaN</td>\n",
       "      <td>NaN</td>\n",
       "      <td>NaN</td>\n",
       "      <td>NaN</td>\n",
       "      <td>0</td>\n",
       "      <td>0</td>\n",
       "      <td>0.0</td>\n",
       "      <td>0.0</td>\n",
       "      <td>us-101</td>\n",
       "    </tr>\n",
       "    <tr>\n",
       "      <th>2</th>\n",
       "      <td>2</td>\n",
       "      <td>15</td>\n",
       "      <td>437</td>\n",
       "      <td>1118846980400</td>\n",
       "      <td>16.426</td>\n",
       "      <td>43.381</td>\n",
       "      <td>6451143.018</td>\n",
       "      <td>1873339.038</td>\n",
       "      <td>14.5</td>\n",
       "      <td>4.9</td>\n",
       "      <td>...</td>\n",
       "      <td>NaN</td>\n",
       "      <td>NaN</td>\n",
       "      <td>NaN</td>\n",
       "      <td>NaN</td>\n",
       "      <td>NaN</td>\n",
       "      <td>0</td>\n",
       "      <td>0</td>\n",
       "      <td>0.0</td>\n",
       "      <td>0.0</td>\n",
       "      <td>us-101</td>\n",
       "    </tr>\n",
       "    <tr>\n",
       "      <th>3</th>\n",
       "      <td>2</td>\n",
       "      <td>16</td>\n",
       "      <td>437</td>\n",
       "      <td>1118846980500</td>\n",
       "      <td>16.405</td>\n",
       "      <td>47.380</td>\n",
       "      <td>6451145.706</td>\n",
       "      <td>1873336.077</td>\n",
       "      <td>14.5</td>\n",
       "      <td>4.9</td>\n",
       "      <td>...</td>\n",
       "      <td>NaN</td>\n",
       "      <td>NaN</td>\n",
       "      <td>NaN</td>\n",
       "      <td>NaN</td>\n",
       "      <td>NaN</td>\n",
       "      <td>0</td>\n",
       "      <td>0</td>\n",
       "      <td>0.0</td>\n",
       "      <td>0.0</td>\n",
       "      <td>us-101</td>\n",
       "    </tr>\n",
       "    <tr>\n",
       "      <th>4</th>\n",
       "      <td>2</td>\n",
       "      <td>17</td>\n",
       "      <td>437</td>\n",
       "      <td>1118846980600</td>\n",
       "      <td>16.385</td>\n",
       "      <td>51.381</td>\n",
       "      <td>6451148.395</td>\n",
       "      <td>1873333.115</td>\n",
       "      <td>14.5</td>\n",
       "      <td>4.9</td>\n",
       "      <td>...</td>\n",
       "      <td>NaN</td>\n",
       "      <td>NaN</td>\n",
       "      <td>NaN</td>\n",
       "      <td>NaN</td>\n",
       "      <td>NaN</td>\n",
       "      <td>0</td>\n",
       "      <td>0</td>\n",
       "      <td>0.0</td>\n",
       "      <td>0.0</td>\n",
       "      <td>us-101</td>\n",
       "    </tr>\n",
       "    <tr>\n",
       "      <th>5</th>\n",
       "      <td>2</td>\n",
       "      <td>18</td>\n",
       "      <td>437</td>\n",
       "      <td>1118846980700</td>\n",
       "      <td>16.364</td>\n",
       "      <td>55.381</td>\n",
       "      <td>6451151.084</td>\n",
       "      <td>1873330.153</td>\n",
       "      <td>14.5</td>\n",
       "      <td>4.9</td>\n",
       "      <td>...</td>\n",
       "      <td>NaN</td>\n",
       "      <td>NaN</td>\n",
       "      <td>NaN</td>\n",
       "      <td>NaN</td>\n",
       "      <td>NaN</td>\n",
       "      <td>0</td>\n",
       "      <td>0</td>\n",
       "      <td>0.0</td>\n",
       "      <td>0.0</td>\n",
       "      <td>us-101</td>\n",
       "    </tr>\n",
       "    <tr>\n",
       "      <th>6</th>\n",
       "      <td>2</td>\n",
       "      <td>19</td>\n",
       "      <td>437</td>\n",
       "      <td>1118846980800</td>\n",
       "      <td>16.344</td>\n",
       "      <td>59.381</td>\n",
       "      <td>6451153.772</td>\n",
       "      <td>1873327.192</td>\n",
       "      <td>14.5</td>\n",
       "      <td>4.9</td>\n",
       "      <td>...</td>\n",
       "      <td>NaN</td>\n",
       "      <td>NaN</td>\n",
       "      <td>NaN</td>\n",
       "      <td>NaN</td>\n",
       "      <td>NaN</td>\n",
       "      <td>0</td>\n",
       "      <td>0</td>\n",
       "      <td>0.0</td>\n",
       "      <td>0.0</td>\n",
       "      <td>us-101</td>\n",
       "    </tr>\n",
       "    <tr>\n",
       "      <th>7</th>\n",
       "      <td>2</td>\n",
       "      <td>20</td>\n",
       "      <td>437</td>\n",
       "      <td>1118846980900</td>\n",
       "      <td>16.323</td>\n",
       "      <td>63.379</td>\n",
       "      <td>6451156.461</td>\n",
       "      <td>1873324.230</td>\n",
       "      <td>14.5</td>\n",
       "      <td>4.9</td>\n",
       "      <td>...</td>\n",
       "      <td>NaN</td>\n",
       "      <td>NaN</td>\n",
       "      <td>NaN</td>\n",
       "      <td>NaN</td>\n",
       "      <td>NaN</td>\n",
       "      <td>0</td>\n",
       "      <td>0</td>\n",
       "      <td>0.0</td>\n",
       "      <td>0.0</td>\n",
       "      <td>us-101</td>\n",
       "    </tr>\n",
       "    <tr>\n",
       "      <th>8</th>\n",
       "      <td>2</td>\n",
       "      <td>21</td>\n",
       "      <td>437</td>\n",
       "      <td>1118846981000</td>\n",
       "      <td>16.303</td>\n",
       "      <td>67.383</td>\n",
       "      <td>6451159.149</td>\n",
       "      <td>1873321.268</td>\n",
       "      <td>14.5</td>\n",
       "      <td>4.9</td>\n",
       "      <td>...</td>\n",
       "      <td>NaN</td>\n",
       "      <td>NaN</td>\n",
       "      <td>NaN</td>\n",
       "      <td>NaN</td>\n",
       "      <td>NaN</td>\n",
       "      <td>0</td>\n",
       "      <td>0</td>\n",
       "      <td>0.0</td>\n",
       "      <td>0.0</td>\n",
       "      <td>us-101</td>\n",
       "    </tr>\n",
       "    <tr>\n",
       "      <th>9</th>\n",
       "      <td>2</td>\n",
       "      <td>22</td>\n",
       "      <td>437</td>\n",
       "      <td>1118846981100</td>\n",
       "      <td>16.282</td>\n",
       "      <td>71.398</td>\n",
       "      <td>6451161.838</td>\n",
       "      <td>1873318.307</td>\n",
       "      <td>14.5</td>\n",
       "      <td>4.9</td>\n",
       "      <td>...</td>\n",
       "      <td>NaN</td>\n",
       "      <td>NaN</td>\n",
       "      <td>NaN</td>\n",
       "      <td>NaN</td>\n",
       "      <td>NaN</td>\n",
       "      <td>0</td>\n",
       "      <td>13</td>\n",
       "      <td>0.0</td>\n",
       "      <td>0.0</td>\n",
       "      <td>us-101</td>\n",
       "    </tr>\n",
       "  </tbody>\n",
       "</table>\n",
       "<p>10 rows × 25 columns</p>\n",
       "</div>"
      ],
      "text/plain": [
       "   Vehicle_ID  Frame_ID  Total_Frames    Global_Time  Local_X  Local_Y  \\\n",
       "0           2        13           437  1118846980200   16.467   35.381   \n",
       "1           2        14           437  1118846980300   16.447   39.381   \n",
       "2           2        15           437  1118846980400   16.426   43.381   \n",
       "3           2        16           437  1118846980500   16.405   47.380   \n",
       "4           2        17           437  1118846980600   16.385   51.381   \n",
       "5           2        18           437  1118846980700   16.364   55.381   \n",
       "6           2        19           437  1118846980800   16.344   59.381   \n",
       "7           2        20           437  1118846980900   16.323   63.379   \n",
       "8           2        21           437  1118846981000   16.303   67.383   \n",
       "9           2        22           437  1118846981100   16.282   71.398   \n",
       "\n",
       "      Global_X     Global_Y  v_length  v_Width    ...     D_Zone  Int_ID  \\\n",
       "0  6451137.641  1873344.962      14.5      4.9    ...        NaN     NaN   \n",
       "1  6451140.329  1873342.000      14.5      4.9    ...        NaN     NaN   \n",
       "2  6451143.018  1873339.038      14.5      4.9    ...        NaN     NaN   \n",
       "3  6451145.706  1873336.077      14.5      4.9    ...        NaN     NaN   \n",
       "4  6451148.395  1873333.115      14.5      4.9    ...        NaN     NaN   \n",
       "5  6451151.084  1873330.153      14.5      4.9    ...        NaN     NaN   \n",
       "6  6451153.772  1873327.192      14.5      4.9    ...        NaN     NaN   \n",
       "7  6451156.461  1873324.230      14.5      4.9    ...        NaN     NaN   \n",
       "8  6451159.149  1873321.268      14.5      4.9    ...        NaN     NaN   \n",
       "9  6451161.838  1873318.307      14.5      4.9    ...        NaN     NaN   \n",
       "\n",
       "   Section_ID  Direction  Movement  Preceding  Following  Space_Headway  \\\n",
       "0         NaN        NaN       NaN          0          0            0.0   \n",
       "1         NaN        NaN       NaN          0          0            0.0   \n",
       "2         NaN        NaN       NaN          0          0            0.0   \n",
       "3         NaN        NaN       NaN          0          0            0.0   \n",
       "4         NaN        NaN       NaN          0          0            0.0   \n",
       "5         NaN        NaN       NaN          0          0            0.0   \n",
       "6         NaN        NaN       NaN          0          0            0.0   \n",
       "7         NaN        NaN       NaN          0          0            0.0   \n",
       "8         NaN        NaN       NaN          0          0            0.0   \n",
       "9         NaN        NaN       NaN          0         13            0.0   \n",
       "\n",
       "   Time_Headway  Location  \n",
       "0           0.0    us-101  \n",
       "1           0.0    us-101  \n",
       "2           0.0    us-101  \n",
       "3           0.0    us-101  \n",
       "4           0.0    us-101  \n",
       "5           0.0    us-101  \n",
       "6           0.0    us-101  \n",
       "7           0.0    us-101  \n",
       "8           0.0    us-101  \n",
       "9           0.0    us-101  \n",
       "\n",
       "[10 rows x 25 columns]"
      ]
     },
     "execution_count": 14,
     "metadata": {},
     "output_type": "execute_result"
    }
   ],
   "source": [
    "data.head(10)"
   ]
  },
  {
   "cell_type": "code",
   "execution_count": 15,
   "metadata": {},
   "outputs": [
    {
     "name": "stdout",
     "output_type": "stream",
     "text": [
      "(4802933, 25)\n",
      "(11850526, 25)\n"
     ]
    }
   ],
   "source": [
    "#check that they add up\n",
    "print(data.shape)\n",
    "print(RECORD.shape)"
   ]
  },
  {
   "cell_type": "code",
   "execution_count": 16,
   "metadata": {},
   "outputs": [],
   "source": [
    "#2. Collect the speed, gap (space headway - lead vehicle length), lead speed, and acceleration (action) for each\n",
    "#vehicle at every time step.\n",
    "#If a vehicle has no leader or it's headway is zero, remove it from the dataset.\n",
    "datadict = {} #to avoid linear search of lead vehicle every time\n",
    "#keys: (Vehicle_ID, Global_Time) tuples\n",
    "#Values: (v_length, v_Vel, Space_Headway, acceleration, lead_ID)"
   ]
  },
  {
   "cell_type": "code",
   "execution_count": 19,
   "metadata": {},
   "outputs": [],
   "source": [
    "#get rid of all with no lead first\n",
    "data.drop(data[data.Preceding == 0].index, inplace=True)"
   ]
  },
  {
   "cell_type": "code",
   "execution_count": 20,
   "metadata": {},
   "outputs": [
    {
     "data": {
      "text/plain": [
       "(4588138, 25)"
      ]
     },
     "execution_count": 20,
     "metadata": {},
     "output_type": "execute_result"
    }
   ],
   "source": [
    "data.shape #dropped 214,795 vehicles"
   ]
  },
  {
   "cell_type": "code",
   "execution_count": 21,
   "metadata": {},
   "outputs": [],
   "source": [
    "#then, drop everything with no headway (and then drop with no gap after full dataset is constructed)\n",
    "data.drop(data[data.Space_Headway == 0].index, inplace=True)"
   ]
  },
  {
   "cell_type": "code",
   "execution_count": 1,
   "metadata": {},
   "outputs": [
    {
     "ename": "NameError",
     "evalue": "name 'data' is not defined",
     "output_type": "error",
     "traceback": [
      "\u001b[0;31m---------------------------------------------------------------------------\u001b[0m",
      "\u001b[0;31mNameError\u001b[0m                                 Traceback (most recent call last)",
      "\u001b[0;32m<ipython-input-1-5f540a759349>\u001b[0m in \u001b[0;36m<module>\u001b[0;34m()\u001b[0m\n\u001b[0;32m----> 1\u001b[0;31m \u001b[0mdata\u001b[0m\u001b[0;34m.\u001b[0m\u001b[0mshape\u001b[0m \u001b[0;31m#dropped 6 more vehicles\u001b[0m\u001b[0;34m\u001b[0m\u001b[0m\n\u001b[0m",
      "\u001b[0;31mNameError\u001b[0m: name 'data' is not defined"
     ]
    }
   ],
   "source": [
    "data.shape #dropped 6 more vehicles"
   ]
  },
  {
   "cell_type": "code",
   "execution_count": 36,
   "metadata": {},
   "outputs": [],
   "source": [
    "#create the dictionary\n",
    "datadict = dict(zip(zip(data['Vehicle_ID'], data['Global_Time']),\n",
    "                zip(data['v_length'], data['v_Vel'], data['Space_Headway'], data['v_Acc'], data['Preceding'])))"
   ]
  },
  {
   "cell_type": "code",
   "execution_count": 39,
   "metadata": {},
   "outputs": [],
   "source": [
    "#the top cell took me too gd long to run so i'm saving it and never trying to process it again\n",
    "f = open(\"datadict.txt\",\"w\")\n",
    "f.write( str(datadict) )\n",
    "f.close()"
   ]
  },
  {
   "cell_type": "code",
   "execution_count": 37,
   "metadata": {},
   "outputs": [],
   "source": [
    "sample20dict = {k: datadict[k] for k in list(datadict)[:20]}"
   ]
  },
  {
   "cell_type": "code",
   "execution_count": 38,
   "metadata": {},
   "outputs": [
    {
     "name": "stdout",
     "output_type": "stream",
     "text": [
      "{(438, 1118848057300): (15.0, 24.23, 59.5, 0.14, 432), (133, 1118848840900): (14.5, 31.87, 27.37, -11.2, 139), (996, 1118848299900): (16.0, 30.53, 44.53, 6.28, 990), (43, 1118848836800): (15.0, 29.71, 73.6, -2.59, 30), (1473, 1118849443100): (11.5, 29.17, 41.09, 5.05, 1441), (2328, 1118847665500): (16.5, 45.45, 74.46, -1.82, 2326), (1833, 1118848594600): (15.5, 22.7, 45.53, 0.98, 1824), (3008, 1118847864600): (9.0, 16.33, 47.68, 10.83, 3004), (867, 1118849147700): (13.5, 21.0, 60.55, 0.0, 861), (1678, 1118847459800): (7.5, 2.51, 24.24, -11.2, 1668), (1152, 1118849329100): (14.0, 18.01, 30.5, -4.83, 1153), (1715, 1118847491800): (10.5, 47.53, 88.43, -2.54, 1711), (1702, 1118849573300): (16.0, 27.64, 48.13, 0.0, 1696), (740, 1118848204700): (14.0, 0.0, 18.25, 0.0, 724), (321, 1118848002300): (18.5, 39.75, 45.94, 0.0, 318), (1928, 1118847534300): (11.0, 45.58, 63.28, 11.2, 1920), (1778, 1118849642600): (14.0, 17.62, 39.79, 0.0, 1774), (1679, 1118848559600): (14.5, 19.69, 69.45, -0.1, 1669), (78, 1118847919400): (14.0, 26.17, 51.71, 0.0, 73), (1150, 1118849344800): (16.0, 5.0, 30.04, 0.0, 1149)}\n"
     ]
    }
   ],
   "source": [
    "print(sample20dict)"
   ]
  },
  {
   "cell_type": "markdown",
   "metadata": {},
   "source": [
    "Now, create the dataframe you want with all the features"
   ]
  },
  {
   "cell_type": "code",
   "execution_count": 57,
   "metadata": {},
   "outputs": [],
   "source": [
    "#keys: (Vehicle_ID, Global_Time) tuples\n",
    "#Values: (v_length, v_Vel, Space_Headway, acceleration, lead_ID)\n",
    "#speed, gap (space headway - lead vehicle length), lead speed, and acceleration (action)\n",
    "#speed = datadict[k][1]\n",
    "#space headway = datadict[k][2]\n",
    "#lead vehicle length = datadict[(datadict[k][4], k[1])][0]\n",
    "#lead speed = datadict[(datadict[k][4], k[1])][1]\n",
    "#acceleration = datadict[k][3]\n",
    "wantedDict = {k: (datadict[k][1], datadict[k][2] - datadict[(datadict[k][4], k[1])][0],\n",
    "                  datadict[(datadict[k][4], k[1])][1], datadict[k][3]) \n",
    "              for k in datadict if (datadict[k][4], k[1]) in datadict }"
   ]
  },
  {
   "cell_type": "code",
   "execution_count": 58,
   "metadata": {},
   "outputs": [],
   "source": [
    "sample20wdict = {k: wantedDict[k] for k in list(wantedDict)[:20]}"
   ]
  },
  {
   "cell_type": "code",
   "execution_count": 59,
   "metadata": {},
   "outputs": [
    {
     "name": "stdout",
     "output_type": "stream",
     "text": [
      "{(438, 1118848057300): (24.23, 31.5, 25.0, 0.14), (133, 1118848840900): (31.87, 14.870000000000001, 31.35, -11.2), (996, 1118848299900): (30.53, 31.03, 34.87, 6.28), (43, 1118848836800): (29.71, 58.599999999999994, 30.0, -2.59), (1150, 1118849344800): (5.0, 14.04, 0.0, 0.0), (1840, 1118848494400): (10.0, 22.490000000000002, 10.0, 0.0), (2328, 1118847665500): (45.45, 59.959999999999994, 35.85, -1.82), (1833, 1118848594600): (22.7, 31.53, 20.0, 0.98), (1748, 1118849605400): (25.0, 40.01, 25.0, 0.0), (331, 1118848018300): (45.22, 27.6, 48.17, 6.13), (274, 1118848010500): (48.72, 147.08, 47.57, -4.03), (1152, 1118849329100): (18.01, 15.5, 14.76, -4.83), (1715, 1118847491800): (47.53, 76.93, 50.0, -2.54), (740, 1118848204700): (0.0, 1.25, 0.0, 0.0), (321, 1118848002300): (39.75, 30.939999999999998, 38.22, 0.0), (1684, 1118847488200): (56.96, 42.91, 55.0, 3.55), (1778, 1118849642600): (17.62, 23.79, 15.0, 0.0), (1679, 1118848559600): (19.69, 55.95, 28.88, -0.1), (78, 1118847919400): (26.17, 35.71, 25.83, 0.0), (1796, 1118849650200): (35.0, 91.64, 28.35, 0.0)}\n"
     ]
    }
   ],
   "source": [
    "print(sample20wdict)"
   ]
  },
  {
   "cell_type": "code",
   "execution_count": 60,
   "metadata": {},
   "outputs": [],
   "source": [
    "finalData = pd.DataFrame.from_dict(wantedDict, orient='index', columns=['Speed', 'Gap', 'Lead_Speed', 'Acceleration'])"
   ]
  },
  {
   "cell_type": "code",
   "execution_count": 67,
   "metadata": {},
   "outputs": [],
   "source": [
    "finalData.index.name = '(Vehicle_ID, Time)'"
   ]
  },
  {
   "cell_type": "code",
   "execution_count": 68,
   "metadata": {},
   "outputs": [
    {
     "data": {
      "text/html": [
       "<div>\n",
       "<style scoped>\n",
       "    .dataframe tbody tr th:only-of-type {\n",
       "        vertical-align: middle;\n",
       "    }\n",
       "\n",
       "    .dataframe tbody tr th {\n",
       "        vertical-align: top;\n",
       "    }\n",
       "\n",
       "    .dataframe thead th {\n",
       "        text-align: right;\n",
       "    }\n",
       "</style>\n",
       "<table border=\"1\" class=\"dataframe\">\n",
       "  <thead>\n",
       "    <tr style=\"text-align: right;\">\n",
       "      <th></th>\n",
       "      <th>Speed</th>\n",
       "      <th>Gap</th>\n",
       "      <th>Lead_Speed</th>\n",
       "      <th>Acceleration</th>\n",
       "    </tr>\n",
       "    <tr>\n",
       "      <th>(Vehicle_ID, Time)</th>\n",
       "      <th></th>\n",
       "      <th></th>\n",
       "      <th></th>\n",
       "      <th></th>\n",
       "    </tr>\n",
       "  </thead>\n",
       "  <tbody>\n",
       "    <tr>\n",
       "      <th>(438, 1118848057300)</th>\n",
       "      <td>24.23</td>\n",
       "      <td>31.50</td>\n",
       "      <td>25.00</td>\n",
       "      <td>0.14</td>\n",
       "    </tr>\n",
       "    <tr>\n",
       "      <th>(133, 1118848840900)</th>\n",
       "      <td>31.87</td>\n",
       "      <td>14.87</td>\n",
       "      <td>31.35</td>\n",
       "      <td>-11.20</td>\n",
       "    </tr>\n",
       "    <tr>\n",
       "      <th>(996, 1118848299900)</th>\n",
       "      <td>30.53</td>\n",
       "      <td>31.03</td>\n",
       "      <td>34.87</td>\n",
       "      <td>6.28</td>\n",
       "    </tr>\n",
       "    <tr>\n",
       "      <th>(2328, 1118847665500)</th>\n",
       "      <td>45.45</td>\n",
       "      <td>59.96</td>\n",
       "      <td>35.85</td>\n",
       "      <td>-1.82</td>\n",
       "    </tr>\n",
       "    <tr>\n",
       "      <th>(331, 1118848018300)</th>\n",
       "      <td>45.22</td>\n",
       "      <td>27.60</td>\n",
       "      <td>48.17</td>\n",
       "      <td>6.13</td>\n",
       "    </tr>\n",
       "    <tr>\n",
       "      <th>(1833, 1118848594600)</th>\n",
       "      <td>22.70</td>\n",
       "      <td>31.53</td>\n",
       "      <td>20.00</td>\n",
       "      <td>0.98</td>\n",
       "    </tr>\n",
       "    <tr>\n",
       "      <th>(1684, 1118847488200)</th>\n",
       "      <td>56.96</td>\n",
       "      <td>42.91</td>\n",
       "      <td>55.00</td>\n",
       "      <td>3.55</td>\n",
       "    </tr>\n",
       "    <tr>\n",
       "      <th>(274, 1118848010500)</th>\n",
       "      <td>48.72</td>\n",
       "      <td>147.08</td>\n",
       "      <td>47.57</td>\n",
       "      <td>-4.03</td>\n",
       "    </tr>\n",
       "    <tr>\n",
       "      <th>(1152, 1118849329100)</th>\n",
       "      <td>18.01</td>\n",
       "      <td>15.50</td>\n",
       "      <td>14.76</td>\n",
       "      <td>-4.83</td>\n",
       "    </tr>\n",
       "    <tr>\n",
       "      <th>(321, 1118848002300)</th>\n",
       "      <td>39.75</td>\n",
       "      <td>30.94</td>\n",
       "      <td>38.22</td>\n",
       "      <td>0.00</td>\n",
       "    </tr>\n",
       "    <tr>\n",
       "      <th>(1778, 1118849642600)</th>\n",
       "      <td>17.62</td>\n",
       "      <td>23.79</td>\n",
       "      <td>15.00</td>\n",
       "      <td>0.00</td>\n",
       "    </tr>\n",
       "    <tr>\n",
       "      <th>(1679, 1118848559600)</th>\n",
       "      <td>19.69</td>\n",
       "      <td>55.95</td>\n",
       "      <td>28.88</td>\n",
       "      <td>-0.10</td>\n",
       "    </tr>\n",
       "    <tr>\n",
       "      <th>(78, 1118847919400)</th>\n",
       "      <td>26.17</td>\n",
       "      <td>35.71</td>\n",
       "      <td>25.83</td>\n",
       "      <td>0.00</td>\n",
       "    </tr>\n",
       "    <tr>\n",
       "      <th>(1715, 1118847491800)</th>\n",
       "      <td>47.53</td>\n",
       "      <td>76.93</td>\n",
       "      <td>50.00</td>\n",
       "      <td>-2.54</td>\n",
       "    </tr>\n",
       "    <tr>\n",
       "      <th>(740, 1118848204700)</th>\n",
       "      <td>0.00</td>\n",
       "      <td>1.25</td>\n",
       "      <td>0.00</td>\n",
       "      <td>0.00</td>\n",
       "    </tr>\n",
       "    <tr>\n",
       "      <th>(1150, 1118849344800)</th>\n",
       "      <td>5.00</td>\n",
       "      <td>14.04</td>\n",
       "      <td>0.00</td>\n",
       "      <td>0.00</td>\n",
       "    </tr>\n",
       "    <tr>\n",
       "      <th>(1748, 1118849605400)</th>\n",
       "      <td>25.00</td>\n",
       "      <td>40.01</td>\n",
       "      <td>25.00</td>\n",
       "      <td>0.00</td>\n",
       "    </tr>\n",
       "    <tr>\n",
       "      <th>(43, 1118848836800)</th>\n",
       "      <td>29.71</td>\n",
       "      <td>58.60</td>\n",
       "      <td>30.00</td>\n",
       "      <td>-2.59</td>\n",
       "    </tr>\n",
       "    <tr>\n",
       "      <th>(1840, 1118848494400)</th>\n",
       "      <td>10.00</td>\n",
       "      <td>22.49</td>\n",
       "      <td>10.00</td>\n",
       "      <td>0.00</td>\n",
       "    </tr>\n",
       "    <tr>\n",
       "      <th>(1796, 1118849650200)</th>\n",
       "      <td>35.00</td>\n",
       "      <td>91.64</td>\n",
       "      <td>28.35</td>\n",
       "      <td>0.00</td>\n",
       "    </tr>\n",
       "  </tbody>\n",
       "</table>\n",
       "</div>"
      ],
      "text/plain": [
       "                       Speed     Gap  Lead_Speed  Acceleration\n",
       "(Vehicle_ID, Time)                                            \n",
       "(438, 1118848057300)   24.23   31.50       25.00          0.14\n",
       "(133, 1118848840900)   31.87   14.87       31.35        -11.20\n",
       "(996, 1118848299900)   30.53   31.03       34.87          6.28\n",
       "(2328, 1118847665500)  45.45   59.96       35.85         -1.82\n",
       "(331, 1118848018300)   45.22   27.60       48.17          6.13\n",
       "(1833, 1118848594600)  22.70   31.53       20.00          0.98\n",
       "(1684, 1118847488200)  56.96   42.91       55.00          3.55\n",
       "(274, 1118848010500)   48.72  147.08       47.57         -4.03\n",
       "(1152, 1118849329100)  18.01   15.50       14.76         -4.83\n",
       "(321, 1118848002300)   39.75   30.94       38.22          0.00\n",
       "(1778, 1118849642600)  17.62   23.79       15.00          0.00\n",
       "(1679, 1118848559600)  19.69   55.95       28.88         -0.10\n",
       "(78, 1118847919400)    26.17   35.71       25.83          0.00\n",
       "(1715, 1118847491800)  47.53   76.93       50.00         -2.54\n",
       "(740, 1118848204700)    0.00    1.25        0.00          0.00\n",
       "(1150, 1118849344800)   5.00   14.04        0.00          0.00\n",
       "(1748, 1118849605400)  25.00   40.01       25.00          0.00\n",
       "(43, 1118848836800)    29.71   58.60       30.00         -2.59\n",
       "(1840, 1118848494400)  10.00   22.49       10.00          0.00\n",
       "(1796, 1118849650200)  35.00   91.64       28.35          0.00"
      ]
     },
     "execution_count": 68,
     "metadata": {},
     "output_type": "execute_result"
    }
   ],
   "source": [
    "finalData.head(20)"
   ]
  },
  {
   "cell_type": "code",
   "execution_count": 69,
   "metadata": {},
   "outputs": [],
   "source": [
    "\n",
    "# 80 % of the data for training your model\n",
    "train_set, test_set =  train_test_split(finalData, test_size=0.2)\n",
    "\n",
    "# 20 % of the data for validation of your model test_set"
   ]
  },
  {
   "cell_type": "code",
   "execution_count": 70,
   "metadata": {},
   "outputs": [
    {
     "data": {
      "text/plain": [
       "(3002733, 4)"
      ]
     },
     "execution_count": 70,
     "metadata": {},
     "output_type": "execute_result"
    }
   ],
   "source": [
    "train_set.shape"
   ]
  },
  {
   "cell_type": "code",
   "execution_count": 7,
   "metadata": {},
   "outputs": [
    {
     "data": {
      "text/plain": [
       "(750684, 5)"
      ]
     },
     "execution_count": 7,
     "metadata": {},
     "output_type": "execute_result"
    }
   ],
   "source": [
    "test_set.shape"
   ]
  },
  {
   "cell_type": "code",
   "execution_count": 8,
   "metadata": {},
   "outputs": [
    {
     "data": {
      "text/html": [
       "<div>\n",
       "<style scoped>\n",
       "    .dataframe tbody tr th:only-of-type {\n",
       "        vertical-align: middle;\n",
       "    }\n",
       "\n",
       "    .dataframe tbody tr th {\n",
       "        vertical-align: top;\n",
       "    }\n",
       "\n",
       "    .dataframe thead th {\n",
       "        text-align: right;\n",
       "    }\n",
       "</style>\n",
       "<table border=\"1\" class=\"dataframe\">\n",
       "  <thead>\n",
       "    <tr style=\"text-align: right;\">\n",
       "      <th></th>\n",
       "      <th>(Vehicle_ID, Time)</th>\n",
       "      <th>Speed</th>\n",
       "      <th>Gap</th>\n",
       "      <th>Lead_Speed</th>\n",
       "      <th>Acceleration</th>\n",
       "    </tr>\n",
       "  </thead>\n",
       "  <tbody>\n",
       "    <tr>\n",
       "      <th>0</th>\n",
       "      <td>(220, 1118848890000)</td>\n",
       "      <td>30.00</td>\n",
       "      <td>130.06</td>\n",
       "      <td>30.00</td>\n",
       "      <td>0.00</td>\n",
       "    </tr>\n",
       "    <tr>\n",
       "      <th>1</th>\n",
       "      <td>(773, 1118848206300)</td>\n",
       "      <td>21.39</td>\n",
       "      <td>31.02</td>\n",
       "      <td>20.83</td>\n",
       "      <td>-0.89</td>\n",
       "    </tr>\n",
       "    <tr>\n",
       "      <th>2</th>\n",
       "      <td>(1180, 1118849370500)</td>\n",
       "      <td>35.00</td>\n",
       "      <td>30.43</td>\n",
       "      <td>38.05</td>\n",
       "      <td>0.00</td>\n",
       "    </tr>\n",
       "    <tr>\n",
       "      <th>3</th>\n",
       "      <td>(740, 1118848213300)</td>\n",
       "      <td>20.00</td>\n",
       "      <td>23.86</td>\n",
       "      <td>18.35</td>\n",
       "      <td>0.00</td>\n",
       "    </tr>\n",
       "    <tr>\n",
       "      <th>4</th>\n",
       "      <td>(1728, 1118847500100)</td>\n",
       "      <td>64.17</td>\n",
       "      <td>68.27</td>\n",
       "      <td>56.36</td>\n",
       "      <td>-11.20</td>\n",
       "    </tr>\n",
       "  </tbody>\n",
       "</table>\n",
       "</div>"
      ],
      "text/plain": [
       "      (Vehicle_ID, Time)  Speed     Gap  Lead_Speed  Acceleration\n",
       "0   (220, 1118848890000)  30.00  130.06       30.00          0.00\n",
       "1   (773, 1118848206300)  21.39   31.02       20.83         -0.89\n",
       "2  (1180, 1118849370500)  35.00   30.43       38.05          0.00\n",
       "3   (740, 1118848213300)  20.00   23.86       18.35          0.00\n",
       "4  (1728, 1118847500100)  64.17   68.27       56.36        -11.20"
      ]
     },
     "execution_count": 8,
     "metadata": {},
     "output_type": "execute_result"
    }
   ],
   "source": [
    "train_set.head()"
   ]
  },
  {
   "cell_type": "code",
   "execution_count": 9,
   "metadata": {},
   "outputs": [
    {
     "data": {
      "text/html": [
       "<div>\n",
       "<style scoped>\n",
       "    .dataframe tbody tr th:only-of-type {\n",
       "        vertical-align: middle;\n",
       "    }\n",
       "\n",
       "    .dataframe tbody tr th {\n",
       "        vertical-align: top;\n",
       "    }\n",
       "\n",
       "    .dataframe thead th {\n",
       "        text-align: right;\n",
       "    }\n",
       "</style>\n",
       "<table border=\"1\" class=\"dataframe\">\n",
       "  <thead>\n",
       "    <tr style=\"text-align: right;\">\n",
       "      <th></th>\n",
       "      <th>(Vehicle_ID, Time)</th>\n",
       "      <th>Speed</th>\n",
       "      <th>Gap</th>\n",
       "      <th>Lead_Speed</th>\n",
       "      <th>Acceleration</th>\n",
       "    </tr>\n",
       "  </thead>\n",
       "  <tbody>\n",
       "    <tr>\n",
       "      <th>0</th>\n",
       "      <td>(2508, 1118848743200)</td>\n",
       "      <td>34.27</td>\n",
       "      <td>47.74</td>\n",
       "      <td>31.03</td>\n",
       "      <td>-5.57</td>\n",
       "    </tr>\n",
       "    <tr>\n",
       "      <th>1</th>\n",
       "      <td>(1247, 1118849384400)</td>\n",
       "      <td>24.47</td>\n",
       "      <td>28.53</td>\n",
       "      <td>29.71</td>\n",
       "      <td>6.25</td>\n",
       "    </tr>\n",
       "    <tr>\n",
       "      <th>2</th>\n",
       "      <td>(145, 1118847011600)</td>\n",
       "      <td>39.23</td>\n",
       "      <td>28.56</td>\n",
       "      <td>34.32</td>\n",
       "      <td>0.00</td>\n",
       "    </tr>\n",
       "    <tr>\n",
       "      <th>3</th>\n",
       "      <td>(2616, 1118847768200)</td>\n",
       "      <td>18.89</td>\n",
       "      <td>38.84</td>\n",
       "      <td>15.70</td>\n",
       "      <td>-2.22</td>\n",
       "    </tr>\n",
       "    <tr>\n",
       "      <th>4</th>\n",
       "      <td>(1614, 1118848496800)</td>\n",
       "      <td>5.00</td>\n",
       "      <td>23.53</td>\n",
       "      <td>7.19</td>\n",
       "      <td>0.00</td>\n",
       "    </tr>\n",
       "  </tbody>\n",
       "</table>\n",
       "</div>"
      ],
      "text/plain": [
       "      (Vehicle_ID, Time)  Speed    Gap  Lead_Speed  Acceleration\n",
       "0  (2508, 1118848743200)  34.27  47.74       31.03         -5.57\n",
       "1  (1247, 1118849384400)  24.47  28.53       29.71          6.25\n",
       "2   (145, 1118847011600)  39.23  28.56       34.32          0.00\n",
       "3  (2616, 1118847768200)  18.89  38.84       15.70         -2.22\n",
       "4  (1614, 1118848496800)   5.00  23.53        7.19          0.00"
      ]
     },
     "execution_count": 9,
     "metadata": {},
     "output_type": "execute_result"
    }
   ],
   "source": [
    "test_set.head()"
   ]
  },
  {
   "cell_type": "code",
   "execution_count": 73,
   "metadata": {},
   "outputs": [],
   "source": [
    "#save the DATA so as to not have to recreate\n",
    "train_set.to_csv('train_vehicle.csv')\n",
    "test_set.to_csv('test_vehicle.csv')"
   ]
  },
  {
   "cell_type": "code",
   "execution_count": 65,
   "metadata": {},
   "outputs": [],
   "source": [
    "#similarly, RECOVER DATA SO AS TO NOT RECREATE! (eg when you restart computer/kernel/computer dies on 6 hr flight)\n",
    "train_set = pd.read_csv(\"train_vehicle.csv\")\n",
    "test_set = pd.read_csv(\"test_vehicle.csv\")"
   ]
  },
  {
   "cell_type": "markdown",
   "metadata": {},
   "source": [
    "### b. Fully-connected neural networks\n",
    "\n",
    "In order to estimate an appropriate acceleration model, we will perform regression on a deep fully-connected network using the NGSIM dataset presented in section a. As discussed in lecture 4a, this involves 1) running a **forward pass** through the neural network for a given input, 2) computing the **loss**, 3) **backpropagating** the loss through the neural network to compute the gradients, and finally 4) **updating** the weights and biases.\n",
    "\n",
    "We begin by implementing the forward pass. In the below method called `forward_pass`, we consider a neural network with *ReLU nonlinearities* applied to the hidden layers and *no nonlinearity* applied to the output layer. Fill in this method to get your forward pass running."
   ]
  },
  {
   "cell_type": "code",
   "execution_count": 66,
   "metadata": {},
   "outputs": [],
   "source": [
    "import numpy as np\n",
    "import time"
   ]
  },
  {
   "cell_type": "code",
   "execution_count": 67,
   "metadata": {},
   "outputs": [],
   "source": [
    "def relu(x):\n",
    "    assert type(x) is np.ndarray\n",
    "    return x*(x>0)"
   ]
  },
  {
   "cell_type": "code",
   "execution_count": 68,
   "metadata": {},
   "outputs": [
    {
     "data": {
      "text/plain": [
       "array([ 4.,  7., -0.,  2.,  5.,  3., -0.])"
      ]
     },
     "execution_count": 68,
     "metadata": {},
     "output_type": "execute_result"
    }
   ],
   "source": [
    "a=  np.array([4,7,-245,2,5,3,-.1])\n",
    "relu(a)"
   ]
  },
  {
   "cell_type": "markdown",
   "metadata": {},
   "source": [
    "We now attempt to justify using list comp instead of for loop"
   ]
  },
  {
   "cell_type": "code",
   "execution_count": 16,
   "metadata": {},
   "outputs": [],
   "source": [
    "def layer(a,b):\n",
    "    global val\n",
    "    val = a*val + b\n"
   ]
  },
  {
   "cell_type": "code",
   "execution_count": 17,
   "metadata": {},
   "outputs": [],
   "source": [
    "a_s = [i for i in range(10000000)]\n",
    "b_s = [i%2 - 0.5 for i in range(10000000)]"
   ]
  },
  {
   "cell_type": "code",
   "execution_count": 18,
   "metadata": {},
   "outputs": [
    {
     "name": "stdout",
     "output_type": "stream",
     "text": [
      "for loop time: 2.428355\n"
     ]
    }
   ],
   "source": [
    "start = time.clock()\n",
    "val=3\n",
    "for i in range(10000000):\n",
    "    layer(a_s[i], b_s[i])\n",
    "end=time.clock()\n",
    "print(\"for loop time:\", end-start)"
   ]
  },
  {
   "cell_type": "code",
   "execution_count": 19,
   "metadata": {},
   "outputs": [
    {
     "name": "stdout",
     "output_type": "stream",
     "text": [
      "for loop time: 2.372527\n"
     ]
    }
   ],
   "source": [
    "start = time.clock()\n",
    "val=3\n",
    "[layer(a_s[i], b_s[i]) for i in range(10000000)]\n",
    "end=time.clock()\n",
    "print(\"for loop time:\", end-start)"
   ]
  },
  {
   "cell_type": "markdown",
   "metadata": {},
   "source": [
    "Actually, the difference here is only marginal and can be attributed to non-determinism in the system. Therefore no conclusion can be made. Since the list comp was marginally faster we use that."
   ]
  },
  {
   "cell_type": "code",
   "execution_count": 83,
   "metadata": {},
   "outputs": [],
   "source": [
    "def relu_layer(weight, bias):\n",
    "    global vec\n",
    "    assert type(vec) is np.ndarray\n",
    "    linpart = np.dot(weight, vec) + bias\n",
    "    vec = relu(linpart)\n",
    "    return linpart"
   ]
  },
  {
   "cell_type": "code",
   "execution_count": 82,
   "metadata": {},
   "outputs": [],
   "source": [
    "def forward_pass(x, W, b):\n",
    "    \"\"\"Performs a forward pass on a deep fully-connected network.\n",
    "\n",
    "    Parameters\n",
    "    ----------\n",
    "        x : np.ndarray\n",
    "            datapoints from a minibatch of N samples of shape (N,D) eg n R^d data points\n",
    "        W : list of np.ndarray\n",
    "            weight matrices applied to each layer\n",
    "        b : list of np.ndarray\n",
    "            bias vectors applied to each layer\n",
    "\n",
    "    Returns\n",
    "    -------\n",
    "        np.ndarray\n",
    "            output from the neural network with shape (N, A)\n",
    "        list of list of np.ndarray\n",
    "            per sample, per layer pre-nonlinearity activation of\n",
    "            the hidden layers for each sample in the minibatch.\n",
    "            The first layer should be the input features\n",
    "    \"\"\"\n",
    "    ######################################\n",
    "    ##### implement your method here #####\n",
    "    ######################################\n",
    "    global vec\n",
    "    vec = np.transpose(x) #trying this out b/c x gives vectors in rows. I want columnwise so as to have columnwise W*X\n",
    "    partial_z = [relu_layer(W[i], b[i]) for i in range(len(W))]\n",
    "    partial_z.insert(0, x) #so we can have the input in the z list as well\n",
    "    output = np.transpose(vec)\n",
    "    \n",
    "    z = [[partial_z[l][:,i] for l in range(len(W))]for i in range(len(x))]#i is sample. N = len(x) = len(output) l is layer \n",
    "    \n",
    "    return output, z"
   ]
  },
  {
   "cell_type": "markdown",
   "metadata": {},
   "source": [
    "Next, we implement a backwards pass to compute the gradient of the loss with respect to the different hidden and input nodes. This involves computing the derivative of loss with respect to the nodes of the output layers, then incrementally moving through the hidden layers and computing their gradients as well. As you had done for the forward pass, fill in the method for the backwards pass to get it running as well. Assume a mean square error loss:\n",
    "\n",
    "\\begin{equation}\n",
    "\\hat{L}(o,t) = \\frac{1}{2N} \\big|\\big|\\ o - t \\ \\big|\\big|^2\n",
    "\\end{equation}\n",
    "\n",
    "where $o$ is the output from the model, $t$ is the target value, and $N$ is the batch size."
   ]
  },
  {
   "cell_type": "code",
   "execution_count": 70,
   "metadata": {},
   "outputs": [],
   "source": [
    "def backward_pass(output, target, z, W, b):\n",
    "    \"\"\"Performs a backwards pass on a deep fully-connected network.\n",
    "\n",
    "    Parameters\n",
    "    ----------\n",
    "        output : np.ndarray\n",
    "            per sample prediciton of the model with shape (N,A)\n",
    "        target : np.ndarray\n",
    "            per sample actual/target values for each sample with \n",
    "            shape (N,D)\n",
    "        z : list of list of np.ndarray\n",
    "            per sample, per layer pre-nonlinearity activation of\n",
    "            the hidden layers for each sample in the minibatch.\n",
    "            The first layer is the input features\n",
    "        W : list of np.ndarray\n",
    "            weight matrices applied to each layer\n",
    "        b : list of np.ndarray\n",
    "            bias vectors applied to each layer\n",
    "\n",
    "    Returns\n",
    "    -------\n",
    "        list of np.ndarray\n",
    "            gradients for the weights each hidden layer\n",
    "        list of np.ndarray\n",
    "            gradients for the biases each hidden layer\n",
    "    \"\"\"\n",
    "    ######################################\n",
    "    ##### implement your method here #####\n",
    "    ######################################\n",
    "    dW = []\n",
    "    db = []\n",
    "    dZ = None\n",
    "    gamma = 0.7\n",
    "    for i in reversed(range(len(W))):\n",
    "        if i == len(W)-1:\n",
    "            dError = output - target\n",
    "            dZ = np.multiply(dError, (dReLU(z[i+1])))\n",
    "            dW_ = np.dot(np.transpose((1/output.shape[0])*ReLU(z[i])),dZ) + (gamma/output.shape[0])*W[i]\n",
    "            #note that * is just direct hadamard among vectors!\n",
    "            dW.insert(0, dW_)\n",
    "            db_ = (1/output.shape[0])*np.sum(dZ, axis=0, keepdims=True)\n",
    "            db.insert(0, db_)\n",
    "        else:\n",
    "            dZ = np.multiply((dReLU(z[i+1])), dZ@(W[i+1].T))\n",
    "            #note that * is just direct hadamard among vectors!\n",
    "            dW_ = np.dot(np.transpose(1/output.shape[0])*ReLU(z[i]),dZ) + (gamma/output.shape[0])*W[i]\n",
    "            dW.insert(0, dW_)\n",
    "            db_ = (1/output.shape[0])*np.sum(dZ, axis=0, keepdims=True)\n",
    "            db.insert(0, db_)\n",
    "    ######################################\n",
    "    return dW, db\n",
    "    return dW, db"
   ]
  },
  {
   "cell_type": "markdown",
   "metadata": {},
   "source": [
    "Finally, we are ready to train the parameters of a neural network to approximate the car-following behavior of people within the NGSIM dataset. In the below cell, perform the following tasks:\n",
    "\n",
    "1. Initialize the weights of deep neural network of hidden shape [32, 32] with 3 inputs and 1 output, with random uniform numbers between 0 and 1. Also, initialize the biases as all zeros.\n",
    "2. Using the `forward_pass` and `backward_pass` methods we created earlier in this problem, perform an SGD step to optimize the parameters of your neural network for the loss function described previously in this section. You may use the learning rate and batch size of your choosing. Continue to do so for 200 iterations.\n",
    "3. Once training is complete, plot the learning curve of your algorithm, i.e. the loss on the test set vs. the SGD step count."
   ]
  },
  {
   "cell_type": "code",
   "execution_count": 84,
   "metadata": {},
   "outputs": [
    {
     "ename": "ValueError",
     "evalue": "shapes (3,32) and (3,750684) not aligned: 32 (dim 1) != 3 (dim 0)",
     "output_type": "error",
     "traceback": [
      "\u001b[0;31m---------------------------------------------------------------------------\u001b[0m",
      "\u001b[0;31mValueError\u001b[0m                                Traceback (most recent call last)",
      "\u001b[0;32m<ipython-input-84-ad6f0ce58c9e>\u001b[0m in \u001b[0;36m<module>\u001b[0;34m()\u001b[0m\n\u001b[1;32m     44\u001b[0m \u001b[0minput_train\u001b[0m \u001b[0;34m=\u001b[0m \u001b[0mnp\u001b[0m\u001b[0;34m.\u001b[0m\u001b[0marray\u001b[0m\u001b[0;34m(\u001b[0m\u001b[0mtrain_set\u001b[0m\u001b[0;34m[\u001b[0m\u001b[0minputcolslist\u001b[0m\u001b[0;34m]\u001b[0m\u001b[0;34m)\u001b[0m\u001b[0;34m\u001b[0m\u001b[0m\n\u001b[1;32m     45\u001b[0m \u001b[0moutput_train\u001b[0m \u001b[0;34m=\u001b[0m \u001b[0mnp\u001b[0m\u001b[0;34m.\u001b[0m\u001b[0marray\u001b[0m\u001b[0;34m(\u001b[0m\u001b[0mtrain_set\u001b[0m\u001b[0;34m[\u001b[0m\u001b[0;34m[\u001b[0m\u001b[0;34m\"Acceleration\"\u001b[0m\u001b[0;34m]\u001b[0m\u001b[0;34m]\u001b[0m\u001b[0;34m)\u001b[0m\u001b[0;34m\u001b[0m\u001b[0m\n\u001b[0;32m---> 46\u001b[0;31m \u001b[0mtest_loss\u001b[0m \u001b[0;34m=\u001b[0m \u001b[0msgd\u001b[0m\u001b[0;34m(\u001b[0m\u001b[0minput_train\u001b[0m\u001b[0;34m,\u001b[0m \u001b[0moutput_train\u001b[0m\u001b[0;34m)\u001b[0m\u001b[0;34m\u001b[0m\u001b[0m\n\u001b[0m\u001b[1;32m     47\u001b[0m \u001b[0;31m##########################################\u001b[0m\u001b[0;34m\u001b[0m\u001b[0;34m\u001b[0m\u001b[0m\n\u001b[1;32m     48\u001b[0m \u001b[0;31m################# Step 3 #################\u001b[0m\u001b[0;34m\u001b[0m\u001b[0;34m\u001b[0m\u001b[0m\n",
      "\u001b[0;32m<ipython-input-84-ad6f0ce58c9e>\u001b[0m in \u001b[0;36msgd\u001b[0;34m(data, labels, init_weights, init_biases, loss_function, epoch, batch_size, lr, test_input, test_output)\u001b[0m\n\u001b[1;32m     28\u001b[0m     \u001b[0mbatch_index\u001b[0m \u001b[0;34m=\u001b[0m \u001b[0mrandom\u001b[0m\u001b[0;34m.\u001b[0m\u001b[0msample\u001b[0m\u001b[0;34m(\u001b[0m\u001b[0mrange\u001b[0m\u001b[0;34m(\u001b[0m\u001b[0;36m0\u001b[0m\u001b[0;34m,\u001b[0m \u001b[0mlen\u001b[0m\u001b[0;34m(\u001b[0m\u001b[0mlabels\u001b[0m\u001b[0;34m)\u001b[0m\u001b[0;34m)\u001b[0m\u001b[0;34m,\u001b[0m \u001b[0mbatch_size\u001b[0m\u001b[0;34m)\u001b[0m\u001b[0;34m\u001b[0m\u001b[0m\n\u001b[1;32m     29\u001b[0m     \u001b[0mdata_batch\u001b[0m\u001b[0;34m,\u001b[0m \u001b[0mlabels_batch\u001b[0m \u001b[0;34m=\u001b[0m \u001b[0mdata\u001b[0m\u001b[0;34m[\u001b[0m\u001b[0mbatch_index\u001b[0m\u001b[0;34m]\u001b[0m\u001b[0;34m,\u001b[0m \u001b[0mlabels\u001b[0m\u001b[0;34m[\u001b[0m\u001b[0mbatch_index\u001b[0m\u001b[0;34m]\u001b[0m\u001b[0;34m\u001b[0m\u001b[0m\n\u001b[0;32m---> 30\u001b[0;31m     \u001b[0mtest_loss\u001b[0m \u001b[0;34m=\u001b[0m \u001b[0;34m[\u001b[0m\u001b[0mloss_function\u001b[0m\u001b[0;34m(\u001b[0m\u001b[0mweights\u001b[0m\u001b[0;34m,\u001b[0m \u001b[0mbiases\u001b[0m\u001b[0;34m,\u001b[0m \u001b[0mtest_input\u001b[0m\u001b[0;34m,\u001b[0m \u001b[0mtest_output\u001b[0m\u001b[0;34m)\u001b[0m\u001b[0;34m]\u001b[0m\u001b[0;34m\u001b[0m\u001b[0m\n\u001b[0m\u001b[1;32m     31\u001b[0m \u001b[0;34m\u001b[0m\u001b[0m\n\u001b[1;32m     32\u001b[0m     \u001b[0mepoch\u001b[0m \u001b[0;34m=\u001b[0m \u001b[0mepoch\u001b[0m\u001b[0;34m\u001b[0m\u001b[0m\n",
      "\u001b[0;32m<ipython-input-84-ad6f0ce58c9e>\u001b[0m in \u001b[0;36mmse\u001b[0;34m(weight, bias, data, labels)\u001b[0m\n\u001b[1;32m     18\u001b[0m \u001b[0;34m\u001b[0m\u001b[0m\n\u001b[1;32m     19\u001b[0m \u001b[0;32mdef\u001b[0m \u001b[0mmse\u001b[0m\u001b[0;34m(\u001b[0m\u001b[0mweight\u001b[0m\u001b[0;34m,\u001b[0m \u001b[0mbias\u001b[0m\u001b[0;34m,\u001b[0m \u001b[0mdata\u001b[0m\u001b[0;34m,\u001b[0m \u001b[0mlabels\u001b[0m\u001b[0;34m)\u001b[0m\u001b[0;34m:\u001b[0m\u001b[0;34m\u001b[0m\u001b[0m\n\u001b[0;32m---> 20\u001b[0;31m     \u001b[0moutput\u001b[0m\u001b[0;34m,\u001b[0m \u001b[0m_\u001b[0m \u001b[0;34m=\u001b[0m \u001b[0mforward_pass\u001b[0m\u001b[0;34m(\u001b[0m\u001b[0mdata\u001b[0m\u001b[0;34m,\u001b[0m \u001b[0mweight\u001b[0m\u001b[0;34m,\u001b[0m \u001b[0mbias\u001b[0m\u001b[0;34m)\u001b[0m\u001b[0;34m\u001b[0m\u001b[0m\n\u001b[0m\u001b[1;32m     21\u001b[0m     \u001b[0;32mreturn\u001b[0m \u001b[0;34m(\u001b[0m\u001b[0;36m1\u001b[0m\u001b[0;34m/\u001b[0m\u001b[0;34m(\u001b[0m\u001b[0moutput\u001b[0m\u001b[0;34m.\u001b[0m\u001b[0mshape\u001b[0m\u001b[0;34m[\u001b[0m\u001b[0;36m0\u001b[0m\u001b[0;34m]\u001b[0m\u001b[0;34m)\u001b[0m\u001b[0;34m)\u001b[0m\u001b[0;34m*\u001b[0m\u001b[0mnp\u001b[0m\u001b[0;34m.\u001b[0m\u001b[0msum\u001b[0m\u001b[0;34m(\u001b[0m\u001b[0;34m(\u001b[0m\u001b[0moutput\u001b[0m\u001b[0;34m-\u001b[0m\u001b[0mlabels\u001b[0m\u001b[0;34m)\u001b[0m\u001b[0;34m**\u001b[0m\u001b[0;36m2\u001b[0m\u001b[0;34m)\u001b[0m\u001b[0;34m\u001b[0m\u001b[0m\n\u001b[1;32m     22\u001b[0m \u001b[0;34m\u001b[0m\u001b[0m\n",
      "\u001b[0;32m<ipython-input-82-d16d5deab2ac>\u001b[0m in \u001b[0;36mforward_pass\u001b[0;34m(x, W, b)\u001b[0m\n\u001b[1;32m     25\u001b[0m     \u001b[0;32mglobal\u001b[0m \u001b[0mvec\u001b[0m\u001b[0;34m\u001b[0m\u001b[0m\n\u001b[1;32m     26\u001b[0m     \u001b[0mvec\u001b[0m \u001b[0;34m=\u001b[0m \u001b[0mnp\u001b[0m\u001b[0;34m.\u001b[0m\u001b[0mtranspose\u001b[0m\u001b[0;34m(\u001b[0m\u001b[0mx\u001b[0m\u001b[0;34m)\u001b[0m \u001b[0;31m#trying this out b/c x gives vectors in rows. I want columnwise so as to have columnwise W*X\u001b[0m\u001b[0;34m\u001b[0m\u001b[0m\n\u001b[0;32m---> 27\u001b[0;31m     \u001b[0mpartial_z\u001b[0m \u001b[0;34m=\u001b[0m \u001b[0;34m[\u001b[0m\u001b[0mrelu_layer\u001b[0m\u001b[0;34m(\u001b[0m\u001b[0mW\u001b[0m\u001b[0;34m[\u001b[0m\u001b[0mi\u001b[0m\u001b[0;34m]\u001b[0m\u001b[0;34m,\u001b[0m \u001b[0mb\u001b[0m\u001b[0;34m[\u001b[0m\u001b[0mi\u001b[0m\u001b[0;34m]\u001b[0m\u001b[0;34m)\u001b[0m \u001b[0;32mfor\u001b[0m \u001b[0mi\u001b[0m \u001b[0;32min\u001b[0m \u001b[0mrange\u001b[0m\u001b[0;34m(\u001b[0m\u001b[0mlen\u001b[0m\u001b[0;34m(\u001b[0m\u001b[0mW\u001b[0m\u001b[0;34m)\u001b[0m\u001b[0;34m)\u001b[0m\u001b[0;34m]\u001b[0m\u001b[0;34m\u001b[0m\u001b[0m\n\u001b[0m\u001b[1;32m     28\u001b[0m     \u001b[0mpartial_z\u001b[0m\u001b[0;34m.\u001b[0m\u001b[0minsert\u001b[0m\u001b[0;34m(\u001b[0m\u001b[0;36m0\u001b[0m\u001b[0;34m,\u001b[0m \u001b[0mx\u001b[0m\u001b[0;34m)\u001b[0m \u001b[0;31m#so we can have the input in the z list as well\u001b[0m\u001b[0;34m\u001b[0m\u001b[0m\n\u001b[1;32m     29\u001b[0m     \u001b[0moutput\u001b[0m \u001b[0;34m=\u001b[0m \u001b[0mnp\u001b[0m\u001b[0;34m.\u001b[0m\u001b[0mtranspose\u001b[0m\u001b[0;34m(\u001b[0m\u001b[0mvec\u001b[0m\u001b[0;34m)\u001b[0m\u001b[0;34m\u001b[0m\u001b[0m\n",
      "\u001b[0;32m<ipython-input-82-d16d5deab2ac>\u001b[0m in \u001b[0;36m<listcomp>\u001b[0;34m(.0)\u001b[0m\n\u001b[1;32m     25\u001b[0m     \u001b[0;32mglobal\u001b[0m \u001b[0mvec\u001b[0m\u001b[0;34m\u001b[0m\u001b[0m\n\u001b[1;32m     26\u001b[0m     \u001b[0mvec\u001b[0m \u001b[0;34m=\u001b[0m \u001b[0mnp\u001b[0m\u001b[0;34m.\u001b[0m\u001b[0mtranspose\u001b[0m\u001b[0;34m(\u001b[0m\u001b[0mx\u001b[0m\u001b[0;34m)\u001b[0m \u001b[0;31m#trying this out b/c x gives vectors in rows. I want columnwise so as to have columnwise W*X\u001b[0m\u001b[0;34m\u001b[0m\u001b[0m\n\u001b[0;32m---> 27\u001b[0;31m     \u001b[0mpartial_z\u001b[0m \u001b[0;34m=\u001b[0m \u001b[0;34m[\u001b[0m\u001b[0mrelu_layer\u001b[0m\u001b[0;34m(\u001b[0m\u001b[0mW\u001b[0m\u001b[0;34m[\u001b[0m\u001b[0mi\u001b[0m\u001b[0;34m]\u001b[0m\u001b[0;34m,\u001b[0m \u001b[0mb\u001b[0m\u001b[0;34m[\u001b[0m\u001b[0mi\u001b[0m\u001b[0;34m]\u001b[0m\u001b[0;34m)\u001b[0m \u001b[0;32mfor\u001b[0m \u001b[0mi\u001b[0m \u001b[0;32min\u001b[0m \u001b[0mrange\u001b[0m\u001b[0;34m(\u001b[0m\u001b[0mlen\u001b[0m\u001b[0;34m(\u001b[0m\u001b[0mW\u001b[0m\u001b[0;34m)\u001b[0m\u001b[0;34m)\u001b[0m\u001b[0;34m]\u001b[0m\u001b[0;34m\u001b[0m\u001b[0m\n\u001b[0m\u001b[1;32m     28\u001b[0m     \u001b[0mpartial_z\u001b[0m\u001b[0;34m.\u001b[0m\u001b[0minsert\u001b[0m\u001b[0;34m(\u001b[0m\u001b[0;36m0\u001b[0m\u001b[0;34m,\u001b[0m \u001b[0mx\u001b[0m\u001b[0;34m)\u001b[0m \u001b[0;31m#so we can have the input in the z list as well\u001b[0m\u001b[0;34m\u001b[0m\u001b[0m\n\u001b[1;32m     29\u001b[0m     \u001b[0moutput\u001b[0m \u001b[0;34m=\u001b[0m \u001b[0mnp\u001b[0m\u001b[0;34m.\u001b[0m\u001b[0mtranspose\u001b[0m\u001b[0;34m(\u001b[0m\u001b[0mvec\u001b[0m\u001b[0;34m)\u001b[0m\u001b[0;34m\u001b[0m\u001b[0m\n",
      "\u001b[0;32m<ipython-input-83-ba83cfc41d8e>\u001b[0m in \u001b[0;36mrelu_layer\u001b[0;34m(weight, bias)\u001b[0m\n\u001b[1;32m      2\u001b[0m     \u001b[0;32mglobal\u001b[0m \u001b[0mvec\u001b[0m\u001b[0;34m\u001b[0m\u001b[0m\n\u001b[1;32m      3\u001b[0m     \u001b[0;32massert\u001b[0m \u001b[0mtype\u001b[0m\u001b[0;34m(\u001b[0m\u001b[0mvec\u001b[0m\u001b[0;34m)\u001b[0m \u001b[0;32mis\u001b[0m \u001b[0mnp\u001b[0m\u001b[0;34m.\u001b[0m\u001b[0mndarray\u001b[0m\u001b[0;34m\u001b[0m\u001b[0m\n\u001b[0;32m----> 4\u001b[0;31m     \u001b[0mlinpart\u001b[0m \u001b[0;34m=\u001b[0m \u001b[0mnp\u001b[0m\u001b[0;34m.\u001b[0m\u001b[0mdot\u001b[0m\u001b[0;34m(\u001b[0m\u001b[0mweight\u001b[0m\u001b[0;34m,\u001b[0m \u001b[0mvec\u001b[0m\u001b[0;34m)\u001b[0m \u001b[0;34m+\u001b[0m \u001b[0mbias\u001b[0m\u001b[0;34m\u001b[0m\u001b[0m\n\u001b[0m\u001b[1;32m      5\u001b[0m     \u001b[0mvec\u001b[0m \u001b[0;34m=\u001b[0m \u001b[0mrelu\u001b[0m\u001b[0;34m(\u001b[0m\u001b[0mlinpart\u001b[0m\u001b[0;34m)\u001b[0m\u001b[0;34m\u001b[0m\u001b[0m\n\u001b[1;32m      6\u001b[0m     \u001b[0;32mreturn\u001b[0m \u001b[0mlinpart\u001b[0m\u001b[0;34m\u001b[0m\u001b[0m\n",
      "\u001b[0;31mValueError\u001b[0m: shapes (3,32) and (3,750684) not aligned: 32 (dim 1) != 3 (dim 0)"
     ]
    }
   ],
   "source": [
    "##########################################\n",
    "################# Step 1 #################\n",
    "##########################################\n",
    "weights = []\n",
    "weights.append(np.random.uniform(low=0, high=1, size=(3,32)))\n",
    "weights.append(np.random.uniform(low=0, high=1, size=(32,32)))\n",
    "weights.append(np.random.uniform(low=0, high=1, size=(32,1)))\n",
    "biases = []\n",
    "biases.append(np.zeros((1,32)))\n",
    "biases.append(np.zeros((1,32)))\n",
    "biases.append(np.zeros((1,1)))\n",
    "inputcolslist = [\"Speed\", \"Gap\", \"Lead_Speed\"]\n",
    "##########################################\n",
    "################# Step 2 #################\n",
    "##########################################\n",
    "import random\n",
    "import matplotlib.pyplot as plt\n",
    "\n",
    "def mse(weight, bias, data, labels):\n",
    "    output, _ = forward_pass(data, weight, bias)\n",
    "    return (1/(output.shape[0]))*np.sum((output-labels)**2)\n",
    "\n",
    "def sgd(data, labels, init_weights=weights,\n",
    "        init_biases=biases, loss_function=mse, \n",
    "        epoch=200, batch_size=100, lr=0.0005,\n",
    "        test_input = np.array(test_set[inputcolslist]), test_output = np.array(test_set[[\"Acceleration\"]])):\n",
    "    weights, biases = init_weights, init_biases\n",
    "    batch_index = random.sample(range(0, len(labels)), batch_size) \n",
    "    data_batch, labels_batch = data[batch_index], labels[batch_index] \n",
    "    test_loss = [loss_function(weights, biases, test_input, test_output)]\n",
    "\n",
    "    epoch = epoch\n",
    "    for i in range(epoch):\n",
    "        output, z = forward_pass(data_batch, weights, biases)\n",
    "        dW, db = backward_pass(output=output, target=labels_batch, z=z, W=weights, b=biases)\n",
    "        for i in range(len(weights)):\n",
    "            weights[i] -= lr*dW[i]\n",
    "            biases[i] -= lr*db[i]\n",
    "        batch_index = random.sample(range(0, len(labels)), batch_size) #index of data to sample for batch\n",
    "        data_batch, labels_batch = data[batch_index], labels[batch_index] #recreated data for batch-size\n",
    "        test_error = loss_function(weights, biases, test_X, test_Y)\n",
    "        test_loss.append(test_error)\n",
    "    return test_loss\n",
    "input_train = np.array(train_set[inputcolslist])\n",
    "output_train = np.array(train_set[[\"Acceleration\"]])\n",
    "test_loss = sgd(input_train, output_train)\n",
    "##########################################\n",
    "################# Step 3 #################\n",
    "#########################################\n",
    "plt.plot(test_loss)\n",
    "plt.title(\"Test Loss over Iterations\")\n",
    "plt.ylabel(\"Loss\")\n",
    "plt.xlabel(\"Epoch\")\n",
    "plt.show()"
   ]
  },
  {
   "cell_type": "code",
   "execution_count": null,
   "metadata": {},
   "outputs": [],
   "source": [
    "##########################################\n",
    "################# Step 1 #################\n",
    "##########################################\n",
    "\n",
    "##########################################\n",
    "################# Step 2 #################\n",
    "##########################################\n",
    "\n",
    "##########################################\n",
    "################# Step 3 #################\n",
    "##########################################"
   ]
  },
  {
   "cell_type": "markdown",
   "metadata": {},
   "source": [
    "### c. Tensorflow\n",
    "\n",
    "While implementing regression alorithms in mathematical libraries such as `numpy` is great practice for learning how these algorithms work, in reality practitioners rarely do so and instead rely on machine learning libraries such as `tensorflow`. In the below cell, perform the following tasks:\n",
    "\n",
    "1. Implement the regression algorithm for the problem posed in this exercise using `tensorflow`. Maintain the same model parameters as those described in section b).\n",
    "2. Try adding a batch normalization$^1$ or dropout$^2$ layer and compare the training performance of the neural network model wit or without these tricks. What do your results tell you about the chosen modification to the neural network?\n",
    "\n",
    "**Hint**: some useful tensroflow classes and methods include: `tf.layers.dense`, `tensorflow.contrib.slim.fully_connected`, `tf.nn.relu`, `tf.nn.batch_normalization`, `tf.nn.dropout`\n",
    "\n",
    "$^1$ Ioffe, Sergey, and Christian Szegedy. \"Batch normalization: Accelerating deep network training by reducing internal covariate shift.\" arXiv preprint arXiv:1502.03167 (2015).\n",
    "\n",
    "$^2$ Srivastava, Nitish, et al. \"Dropout: a simple way to prevent neural networks from overfitting.\" The Journal of Machine Learning Research 15.1 (2014): 1929-1958."
   ]
  },
  {
   "cell_type": "code",
   "execution_count": 2,
   "metadata": {},
   "outputs": [],
   "source": [
    "import tensorflow as tf"
   ]
  },
  {
   "cell_type": "code",
   "execution_count": 41,
   "metadata": {},
   "outputs": [],
   "source": [
    "############################################################\n",
    "########## train your model here using tensorflow ##########\n",
    "############################################################\n",
    "\n",
    "def create_model(num_inputs, num_layers, nodeslist, num_outputs):\n",
    "    # create inputs\n",
    "    input_ph = tf.placeholder(dtype=tf.float32, shape=[None, num_inputs])\n",
    "    output_ph = tf.placeholder(dtype=tf.float32, shape=[None, num_outputs])\n",
    "\n",
    "    # create a fully connected network layer\n",
    "    hidden_layer = input_ph\n",
    "    \n",
    "    for i in range(num_layers):\n",
    "        hidden_layer = tf.contrib.slim.fully_connected(\n",
    "            hidden_layer,\n",
    "            nodeslist[i],\n",
    "            weights_initializer=tf.random_uniform_initializer(0,1),\n",
    "            activation_fn=tf.nn.relu,\n",
    "            scope=\"hidden_{}\".format(i),\n",
    "            reuse=tf.AUTO_REUSE)\n",
    "\n",
    "    # create an output layer\n",
    "    output_layer = tf.contrib.slim.fully_connected(\n",
    "        hidden_layer,\n",
    "        1,\n",
    "        weights_initializer=tf.random_uniform_initializer(0,1),\n",
    "        activation_fn=None,\n",
    "        scope=\"output\",\n",
    "        reuse=tf.AUTO_REUSE)\n",
    "    \n",
    "\n",
    "    return input_ph, output_ph, output_layer\n",
    "\n"
   ]
  },
  {
   "cell_type": "code",
   "execution_count": 42,
   "metadata": {},
   "outputs": [],
   "source": [
    "def tf_reset():\n",
    "    try:\n",
    "        sess.close()\n",
    "    except:\n",
    "        pass\n",
    "    tf.reset_default_graph()\n",
    "    return tf.Session()"
   ]
  },
  {
   "cell_type": "code",
   "execution_count": 97,
   "metadata": {
    "scrolled": true
   },
   "outputs": [
    {
     "name": "stdout",
     "output_type": "stream",
     "text": [
      "testloss:  147961558.529\n",
      "trainingloss:\n",
      "0000 mse: 154936016.000\n",
      "testloss:  205482.210141\n",
      "trainingloss:\n",
      "1000 mse: 142716.297\n",
      "testloss:  71.1655953636\n",
      "trainingloss:\n",
      "2000 mse: 53.220\n",
      "testloss:  36.8737855158\n",
      "trainingloss:\n",
      "3000 mse: 45.344\n",
      "testloss:  44.8435971593\n",
      "trainingloss:\n",
      "4000 mse: 58.694\n",
      "testloss:  52.3835488819\n",
      "trainingloss:\n",
      "5000 mse: 79.408\n",
      "testloss:  80.0668046529\n",
      "trainingloss:\n",
      "6000 mse: 33.252\n",
      "testloss:  32.8691929515\n",
      "trainingloss:\n",
      "7000 mse: 34.793\n",
      "testloss:  30.2034949477\n",
      "trainingloss:\n",
      "8000 mse: 19.833\n",
      "testloss:  19.8130151922\n",
      "trainingloss:\n",
      "9000 mse: 30.607\n",
      "testloss:  21.1952531009\n",
      "trainingloss:\n",
      "10000 mse: 29.850\n",
      "testloss:  17.3841986305\n",
      "trainingloss:\n",
      "11000 mse: 27.012\n",
      "testloss:  15.4989650851\n",
      "trainingloss:\n",
      "12000 mse: 22.171\n",
      "testloss:  10.8558833089\n",
      "trainingloss:\n",
      "13000 mse: 15.016\n",
      "testloss:  11.3209423344\n",
      "trainingloss:\n",
      "14000 mse: 11.773\n",
      "testloss:  10.4720401298\n",
      "trainingloss:\n",
      "15000 mse: 10.937\n",
      "testloss:  7.74468573563\n",
      "trainingloss:\n",
      "16000 mse: 10.450\n",
      "testloss:  17.5666881194\n",
      "trainingloss:\n",
      "17000 mse: 8.857\n",
      "testloss:  11.2535632914\n",
      "trainingloss:\n",
      "18000 mse: 9.827\n",
      "testloss:  11.525955084\n",
      "trainingloss:\n",
      "19000 mse: 9.754\n",
      "testloss:  14.3109618081\n",
      "trainingloss:\n",
      "20000 mse: 11.986\n"
     ]
    }
   ],
   "source": [
    "tf.reset_default_graph()\n",
    "\n",
    "input_ph, output_ph, output_pred = create_model(3, 2, [32,32], 1)\n",
    "\n",
    "# create a tensorflow session\n",
    "sess = tf.Session()\n",
    "\n",
    "# create loss as MSE (can switch to cross entropy or KL divergence)\n",
    "mse = tf.reduce_mean(0.5 * tf.square(output_pred - output_ph))\n",
    "#mse = tf.losses.mean_squared_error(output_pred, output_ph)\n",
    "\n",
    "# create optimizer\n",
    "opt = tf.train.AdamOptimizer().minimize(mse)\n",
    "\n",
    "# initialize variables\n",
    "sess.run(tf.global_variables_initializer())\n",
    "\n",
    "# create saver to save model variables\n",
    "saver = tf.train.Saver()\n",
    "\n",
    "# run training\n",
    "batch_size = 100\n",
    "iters= 20001 #num epochs\n",
    "msetrain_history = np.zeros(iters) #maintain the training loss\n",
    "msetest_history = np.zeros(iters//1000 + 1) #evaluate against tet/validation\n",
    "for training_step in range(iters):\n",
    "    # get a random subset of the training data\n",
    "    indices = np.random.randint(low=0, high=len(train_set.index), size=batch_size)\n",
    "    inputcolslist = [\"Speed\", \"Gap\", \"Lead_Speed\"]\n",
    "    input_batch = np.array(train_set[inputcolslist])[indices]\n",
    "    output_batch = np.array(train_set[[\"Acceleration\"]])[indices]\n",
    "    test_indices = np.random.randint(low=0, high = len(test_set.index), size =batch_size)\n",
    "    test_input = np.array(test_set[inputcolslist])[test_indices]\n",
    "    test_output = np.array(test_set[[\"Acceleration\"]])[test_indices]\n",
    "\n",
    "    # run the optimizer and get the mse\n",
    "    _, mse_run = sess.run([opt, mse], feed_dict={input_ph: input_batch, output_ph: output_batch})\n",
    "    msetrain_history[training_step] =  mse_run\n",
    "    \n",
    "    # print the mse every so often\n",
    "    if training_step % 1000 == 0:\n",
    "        test_pred = sess.run(output_pred, feed_dict={input_ph: test_input})\n",
    "        mse_test = np.mean(0.5 * np.square(test_pred - test_output))\n",
    "        msetest_history[training_step//1000] = mse_test\n",
    "        print(\"testloss: \", msetest_history[training_step//1000])\n",
    "        print(\"trainingloss:\")\n",
    "        print('{0:04d} mse: {1:.3f}'.format(training_step, mse_run))\n",
    "        saver.save(sess, '/tmp/model.ckpt')\n",
    "\n"
   ]
  },
  {
   "cell_type": "code",
   "execution_count": 53,
   "metadata": {},
   "outputs": [],
   "source": [
    "import matplotlib.pyplot as plt"
   ]
  },
  {
   "cell_type": "code",
   "execution_count": 110,
   "metadata": {},
   "outputs": [
    {
     "data": {
      "text/plain": [
       "<matplotlib.legend.Legend at 0x7f6cad8a8c50>"
      ]
     },
     "execution_count": 110,
     "metadata": {},
     "output_type": "execute_result"
    },
    {
     "data": {
      "image/png": "[encoded data removed]",
      "text/plain": [
       "<matplotlib.figure.Figure at 0x7f6cadb9e8d0>"
      ]
     },
     "metadata": {},
     "output_type": "display_data"
    }
   ],
   "source": [
    "plt.plot(msetrain_history[:2000], 'b', label = \"training loss\")\n",
    "plt.plot([1000*i for i in range(len(msetest_history))][:3], msetest_history[:3], 'r', label = \"sampled test loss\")\n",
    "plt.title('Training/Test Error over Time Early Stage' )\n",
    "plt.grid(True)\n",
    "plt.xlabel('epochs/iters')\n",
    "plt.ylabel('training loss')\n",
    "plt.legend()"
   ]
  },
  {
   "cell_type": "code",
   "execution_count": 111,
   "metadata": {},
   "outputs": [
    {
     "data": {
      "text/plain": [
       "<matplotlib.legend.Legend at 0x7f6cadb2b0f0>"
      ]
     },
     "execution_count": 111,
     "metadata": {},
     "output_type": "execute_result"
    },
    {
     "data": {
      "image/png": "[encoded data removed]",
      "text/plain": [
       "<matplotlib.figure.Figure at 0x7f6cad8a0d30>"
      ]
     },
     "metadata": {},
     "output_type": "display_data"
    }
   ],
   "source": [
    "plt.plot([i for i in range(2000,10001)], msetrain_history[2000:10001], 'b', label = \"training loss\")\n",
    "plt.plot([1000*i for i in range(len(msetest_history))][2:11], msetest_history[2:11], 'r', label = \"sampled test loss\")\n",
    "plt.title('Training/Test Error over Time Mid Stage' )\n",
    "plt.grid(True)\n",
    "plt.xlabel('epochs/iters')\n",
    "plt.ylabel('training loss')\n",
    "plt.legend()"
   ]
  },
  {
   "cell_type": "code",
   "execution_count": 112,
   "metadata": {},
   "outputs": [
    {
     "data": {
      "text/plain": [
       "<matplotlib.legend.Legend at 0x7f6cadaea160>"
      ]
     },
     "execution_count": 112,
     "metadata": {},
     "output_type": "execute_result"
    },
    {
     "data": {
      "image/png": "[encoded data removed]",
      "text/plain": [
       "<matplotlib.figure.Figure at 0x7f6cad8b3128>"
      ]
     },
     "metadata": {},
     "output_type": "display_data"
    }
   ],
   "source": [
    "plt.plot([i for i in range(10001,len(msetrain_history))], msetrain_history[10001:], 'b', label = \"training loss\")\n",
    "plt.plot([1000*i for i in range(len(msetest_history))][10:], msetest_history[10:], 'r', label = \"sampled test loss\")\n",
    "plt.title('Training/Test Error over Time Late Stage' )\n",
    "plt.grid(True)\n",
    "plt.xlabel('epochs/iters')\n",
    "plt.ylabel('training loss')\n",
    "plt.legend()"
   ]
  },
  {
   "cell_type": "markdown",
   "metadata": {},
   "source": [
    "The preceding plots can be found here without needing to be rerun:\n",
    "https://gyazo.com/890798c933676e6701dd1343966fbdf7 \n",
    "\n",
    "\n",
    "https://gyazo.com/3aa26a6d38aa4db3d6684016d303a2b3"
   ]
  },
  {
   "cell_type": "code",
   "execution_count": 118,
   "metadata": {},
   "outputs": [],
   "source": [
    "############################################################\n",
    "###### train your model using a neural network trick #######\n",
    "############################################################\n",
    "\n",
    "def create_normed_dropout_model(num_inputs, num_layers, nodeslist, num_outputs,keep_prob):\n",
    "    # create inputs\n",
    "    input_ph = tf.placeholder(dtype=tf.float32, shape=[None, num_inputs])\n",
    "    output_ph = tf.placeholder(dtype=tf.float32, shape=[None, num_outputs])\n",
    "\n",
    "    # create a fully connected network layer\n",
    "    hidden_layer = input_ph\n",
    "    \n",
    "    for i in range(num_layers):\n",
    "        hidden_layer = tf.contrib.slim.fully_connected(\n",
    "            hidden_layer,\n",
    "            nodeslist[i],\n",
    "            weights_initializer=tf.truncated_normal_initializer(),\n",
    "            activation_fn=tf.nn.relu,\n",
    "            scope=\"hidden_{}\".format(i),\n",
    "            reuse=tf.AUTO_REUSE)\n",
    "        \n",
    "        mean, variance = tf.nn.moments(hidden_layer, axes=0)\n",
    "        hidden_layer = tf.nn.batch_normalization(\n",
    "            hidden_layer,\n",
    "            mean,\n",
    "            variance,\n",
    "            offset=0,\n",
    "            scale=None,\n",
    "            variance_epsilon=1,\n",
    "            name=None\n",
    "        )\n",
    "        \n",
    "        \n",
    "\n",
    "    drop_out = tf.nn.dropout(hidden_layer, keep_prob)  # DROP-OUT here\n",
    "    # create an output layer\n",
    "    output_layer = tf.contrib.slim.fully_connected(\n",
    "        drop_out,\n",
    "        1,\n",
    "        weights_initializer=tf.random_uniform_initializer(0,1),\n",
    "        activation_fn=None,\n",
    "        scope=\"output\",\n",
    "        reuse=tf.AUTO_REUSE)\n",
    "    \n",
    "\n",
    "    return input_ph, output_ph, output_layer"
   ]
  },
  {
   "cell_type": "code",
   "execution_count": 120,
   "metadata": {},
   "outputs": [
    {
     "name": "stdout",
     "output_type": "stream",
     "text": [
      "testloss:  30.4077695426\n",
      "trainingloss:\n",
      "0000 mse: 24.118\n",
      "testloss:  11.5688336992\n",
      "trainingloss:\n",
      "1000 mse: 8.290\n",
      "testloss:  9.81788627086\n",
      "trainingloss:\n",
      "2000 mse: 10.586\n",
      "testloss:  10.2865378834\n",
      "trainingloss:\n",
      "3000 mse: 9.810\n",
      "testloss:  11.4881477178\n",
      "trainingloss:\n",
      "4000 mse: 9.064\n",
      "testloss:  9.68685699131\n",
      "trainingloss:\n",
      "5000 mse: 8.456\n",
      "testloss:  9.28299183426\n",
      "trainingloss:\n",
      "6000 mse: 9.605\n",
      "testloss:  7.79098150417\n",
      "trainingloss:\n",
      "7000 mse: 8.298\n",
      "testloss:  9.67694799755\n",
      "trainingloss:\n",
      "8000 mse: 9.302\n",
      "testloss:  8.64989863501\n",
      "trainingloss:\n",
      "9000 mse: 6.645\n",
      "testloss:  12.2322851354\n",
      "trainingloss:\n",
      "10000 mse: 9.206\n",
      "testloss:  11.6497766075\n",
      "trainingloss:\n",
      "11000 mse: 10.808\n",
      "testloss:  9.17139454897\n",
      "trainingloss:\n",
      "12000 mse: 9.927\n",
      "testloss:  8.23674704453\n",
      "trainingloss:\n",
      "13000 mse: 9.514\n",
      "testloss:  7.98853639548\n",
      "trainingloss:\n",
      "14000 mse: 10.563\n",
      "testloss:  12.7653993173\n",
      "trainingloss:\n",
      "15000 mse: 6.000\n",
      "testloss:  9.47310654177\n",
      "trainingloss:\n",
      "16000 mse: 10.176\n",
      "testloss:  7.65901795648\n",
      "trainingloss:\n",
      "17000 mse: 6.786\n",
      "testloss:  9.72263689479\n",
      "trainingloss:\n",
      "18000 mse: 11.048\n",
      "testloss:  14.9318148093\n",
      "trainingloss:\n",
      "19000 mse: 9.563\n",
      "testloss:  9.99439105394\n",
      "trainingloss:\n",
      "20000 mse: 11.927\n"
     ]
    }
   ],
   "source": [
    "tf.reset_default_graph()\n",
    "\n",
    "input_ph, output_ph, output_pred = create_normed_dropout_model(3, 2, [32,32], 1, keep_prob=0.5)\n",
    "\n",
    "# create a tensorflow session\n",
    "sess = tf.Session()\n",
    "\n",
    "# create loss as MSE (can switch to cross entropy or KL divergence)\n",
    "mse = tf.reduce_mean(0.5 * tf.square(output_pred - output_ph))\n",
    "#mse = tf.losses.mean_squared_error(output_pred, output_ph)\n",
    "\n",
    "# create optimizer\n",
    "opt = tf.train.AdamOptimizer().minimize(mse)\n",
    "\n",
    "# initialize variables\n",
    "sess.run(tf.global_variables_initializer())\n",
    "\n",
    "# create saver to save model variables\n",
    "saver2 = tf.train.Saver()\n",
    "\n",
    "# run training\n",
    "batch_size = 100\n",
    "iters= 20001 #num epochs\n",
    "msetrain_history = np.zeros(iters) #maintain the training loss\n",
    "msetest_history = np.zeros(iters//1000 + 1) #evaluate against tet/validation\n",
    "for training_step in range(iters):\n",
    "    # get a random subset of the training data\n",
    "    indices = np.random.randint(low=0, high=len(train_set.index), size=batch_size)\n",
    "    inputcolslist = [\"Speed\", \"Gap\", \"Lead_Speed\"]\n",
    "    input_batch = np.array(train_set[inputcolslist])[indices]\n",
    "    output_batch = np.array(train_set[[\"Acceleration\"]])[indices]\n",
    "    test_indices = np.random.randint(low=0, high = len(test_set.index), size =batch_size)\n",
    "    test_input = np.array(test_set[inputcolslist])[test_indices]\n",
    "    test_output = np.array(test_set[[\"Acceleration\"]])[test_indices]\n",
    "\n",
    "    # run the optimizer and get the mse\n",
    "    _, mse_run = sess.run([opt, mse], feed_dict={input_ph: input_batch, output_ph: output_batch})\n",
    "    msetrain_history[training_step] =  mse_run\n",
    "    \n",
    "    # print the mse every so often\n",
    "    if training_step % 1000 == 0:\n",
    "        test_pred = sess.run(output_pred, feed_dict={input_ph: test_input})\n",
    "        mse_test = np.mean(0.5 * np.square(test_pred - test_output))\n",
    "        msetest_history[training_step//1000] = mse_test\n",
    "        print(\"testloss: \", msetest_history[training_step//1000])\n",
    "        print(\"trainingloss:\")\n",
    "        print('{0:04d} mse: {1:.3f}'.format(training_step, mse_run))\n",
    "        saver2.save(sess, '/tmp/model.ckpt')\n",
    "\n"
   ]
  },
  {
   "cell_type": "code",
   "execution_count": 126,
   "metadata": {},
   "outputs": [
    {
     "data": {
      "text/plain": [
       "<matplotlib.legend.Legend at 0x7f6cac16aac8>"
      ]
     },
     "execution_count": 126,
     "metadata": {},
     "output_type": "execute_result"
    },
    {
     "data": {
      "image/png": "[encoded data removed]",
      "text/plain": [
       "<matplotlib.figure.Figure at 0x7f6cac110a20>"
      ]
     },
     "metadata": {},
     "output_type": "display_data"
    }
   ],
   "source": [
    "plt.plot(msetrain_history[:2000], 'b', label = \"training loss\")\n",
    "plt.plot([1000*i for i in range(len(msetest_history))][:3], msetest_history[:3], 'r', label = \"sampled test loss\")\n",
    "plt.title('Training/Test Error over Time Early Stage w/batch normalization and dropout' )\n",
    "plt.grid(True)\n",
    "plt.xlabel('epochs/iters')\n",
    "plt.ylabel('training loss')\n",
    "plt.legend()"
   ]
  },
  {
   "cell_type": "code",
   "execution_count": 127,
   "metadata": {},
   "outputs": [
    {
     "data": {
      "text/plain": [
       "<matplotlib.legend.Legend at 0x7f6cac0b2cf8>"
      ]
     },
     "execution_count": 127,
     "metadata": {},
     "output_type": "execute_result"
    },
    {
     "data": {
      "image/png": "[encoded data removed]",
      "text/plain": [
       "<matplotlib.figure.Figure at 0x7f6cac0bf9e8>"
      ]
     },
     "metadata": {},
     "output_type": "display_data"
    }
   ],
   "source": [
    "plt.plot([i for i in range(2000,10001)], msetrain_history[2000:10001], 'b', label = \"training loss\")\n",
    "plt.plot([1000*i for i in range(len(msetest_history))][2:11], msetest_history[2:11], 'r', label = \"sampled test loss\")\n",
    "plt.title('Training/Test Error over Time Mid Stage w/batch normalization and dropout' )\n",
    "plt.grid(True)\n",
    "plt.xlabel('epochs/iters')\n",
    "plt.ylabel('training loss')\n",
    "plt.legend()"
   ]
  },
  {
   "cell_type": "code",
   "execution_count": 128,
   "metadata": {},
   "outputs": [
    {
     "data": {
      "text/plain": [
       "<matplotlib.legend.Legend at 0x7f6c87fd29e8>"
      ]
     },
     "execution_count": 128,
     "metadata": {},
     "output_type": "execute_result"
    },
    {
     "data": {
      "image/png": "[encoded data removed]",
      "text/plain": [
       "<matplotlib.figure.Figure at 0x7f6cac0a3f98>"
      ]
     },
     "metadata": {},
     "output_type": "display_data"
    }
   ],
   "source": [
    "plt.plot([i for i in range(10001,len(msetrain_history))], msetrain_history[10001:], 'b', label = \"training loss\")\n",
    "plt.plot([1000*i for i in range(len(msetest_history))][10:], msetest_history[10:], 'r', label = \"sampled test loss\")\n",
    "plt.title('Training/Test Error over Time Late Stage w/batch normalization and dropout' )\n",
    "plt.grid(True)\n",
    "plt.xlabel('epochs/iters')\n",
    "plt.ylabel('training loss')\n",
    "plt.legend()"
   ]
  },
  {
   "cell_type": "markdown",
   "metadata": {},
   "source": [
    "The previous graphs can be found here. https://gyazo.com/39676703a687de95b7cf1d1ce2cad656\n",
    "\n",
    "However, note that there is more fluctuation around the minimum/local minima near the end. This is because with dropout and batch normalization, we started with low loss and then CONVERGE MUCH FASTER (maybe normaliziation gives us things that we think are nice minima but was not that optimal to begin with since our data is now just small = small outputs = smaller losses). So an overall graph might be nicer:"
   ]
  },
  {
   "cell_type": "code",
   "execution_count": 129,
   "metadata": {},
   "outputs": [
    {
     "data": {
      "text/plain": [
       "<matplotlib.legend.Legend at 0x7f6cac03e4a8>"
      ]
     },
     "execution_count": 129,
     "metadata": {},
     "output_type": "execute_result"
    },
    {
     "data": {
      "image/png": "[encoded data removed]",
      "text/plain": [
       "<matplotlib.figure.Figure at 0x7f6cac076780>"
      ]
     },
     "metadata": {},
     "output_type": "display_data"
    }
   ],
   "source": [
    "plt.plot(msetrain_history, 'b', label = \"training loss\")\n",
    "plt.plot([1000*i for i in range(len(msetest_history))], msetest_history, 'r', label = \"sampled test loss\")\n",
    "plt.title('Training/Test Error over Time Early Stage w/batch normalization and dropout' )\n",
    "plt.grid(True)\n",
    "plt.xlabel('epochs/iters')\n",
    "plt.ylabel('training loss')\n",
    "plt.legend()"
   ]
  },
  {
   "cell_type": "markdown",
   "metadata": {},
   "source": [
    "You can see that a quick convergence to the minima with some stochastic fluctuations occur even after only 1000 iterations of SGD.\n",
    "\n",
    "https://gyazo.com/6c9349ba2fcd66fb34a9f5e8e3d789cd"
   ]
  },
  {
   "cell_type": "markdown",
   "metadata": {},
   "source": [
    "# Question 2: Traffic Signal Timing with DQN\n",
    "\n",
    "In this problem, you will implement your first reinforcement learning algorithm: DQN. The algorithm will then be used to control traffic lights in a simple network. Specifically, we consider a single intersection as seen in the figure below, with lanes of length 300 m on either direction and vehicles entering the network from the north-south and east-west directions at a rate of 300 veh/hr and 100 veh/hr, respectively. We choose to study the problem of traffic light signal control using DQN because of the discretizable nature of the action space for the resulting MDP (see the [implementation of the environment](https://github.com/flow-project/flow/blob/master/flow/envs/green_wave_env.py) for more).\n",
    "\n",
    "<img src=\"img/dqn_network.png\" width=\"600\">\n",
    "\n",
    "Before we begin optimizing the performance of the traffic light in the given problem, let us first analyze the performance of the baseline form of this problem. Such baselines in Flow can be extracted by simulating the dynamical behavior the network in the absence of any reinforcement learning agent. In this case, we consider a baseline signal schedule where the portion of time when the light is equal for both directions. This control strategy is not optimal, and is symptomatic of one of the primary sources of traffic congestion today.\n",
    "\n",
    "The below cell instantiates the above described network and computes the average delay of vehicles in the system. Run it once and look at the average return that you get. Note that, while it is not necessary, if you interested in further understanding the inner working of the below lines of code, we recommend you review the following [tutorial on traffic lights](https://github.com/berkeleyflow/flow/blob/master/tutorials/tutorial08_traffic_lights.ipynb) in Flow."
   ]
  },
  {
   "cell_type": "code",
   "execution_count": 3,
   "metadata": {
    "scrolled": true
   },
   "outputs": [
    {
     "name": "stdout",
     "output_type": "stream",
     "text": [
      "Round 0, return: 265.9383312068948\n",
      "Round 1, return: 262.50088011116526\n",
      "Average, std return: 264.21960565903004, 1.7187255478647785\n",
      "Average, std speed: 11.880784504834846, 0.0214035455790218\n",
      "-----------------\n",
      "The total return across 2 runs is 264.220 seconds\n"
     ]
    }
   ],
   "source": [
    "import numpy as np\n",
    "from flow.envs import PO_TrafficLightGridEnv\n",
    "from flow.core.experiment import SumoExperiment\n",
    "from hw2_utils import create_scenario, env_params\n",
    "from hw2_utils import sumo_params_test as sumo_params\n",
    "\n",
    "scenario = create_scenario()\n",
    "env = PO_TrafficLightGridEnv(env_params, sumo_params, scenario)\n",
    "exp = SumoExperiment(env, scenario)\n",
    "\n",
    "num_runs = 2\n",
    "results = exp.run(num_runs, env_params.horizon)\n",
    "total_return = np.mean(results[\"returns\"])\n",
    "print(\"-----------------\")\n",
    "print('The total return across %d runs is %.3f seconds' %(num_runs, total_return))"
   ]
  },
  {
   "cell_type": "markdown",
   "metadata": {},
   "source": [
    "### a. Creating a neural network\n",
    "\n",
    "We now begin to design the various constituents of our algorithm. The algorithm we will create here, as well as most online RL algorithms in practice, consists of four primary components:\n",
    "\n",
    "- a **function approximator**, either for the policy or the value/Q function\n",
    "- a method for **computing actions**,\n",
    "- a **sample generator**,\n",
    "- and an **optimization scheme**.\n",
    "\n",
    "The function approximator is the part of the control strategy that is periodically trained by the RL algorithm. In the case of DQN, the policy denotes the RL agent's estimation of the Q function ($Q : S \\to \\mathbb{R}^A$), which computes the value of any given action $a_i \\in [0, A-1]$ from a starting state $s \\in S$.\n",
    "\n",
    "For this problem, let us consider a simple feed forward network of hidden shape *[100, 50, 25]* with a *ReLU* nonlinearity for the hidden layers, and a weighted sum of with *no nonlinearity* for the output layer. Moreover, let the initial values of all weights in the network to set to truncated normal values with standard a devaition of 1.0, and all biases be initially set to zero. In the below cell, implement this neural network and have the method return the tensorflow Variable corresponding to the output layer. Note that the scope of the output layer should match the one specified in the input parameters.\n",
    "\n",
    "**Hint**: some useful tensroflow classes and methods include: `tf.layers.dense`, `tensorflow.contrib.slim.fully_connected`, `tf.nn.relu`, `tf.truncated_normal_initializer`, `tf.zeros_initializer`, "
   ]
  },
  {
   "cell_type": "code",
   "execution_count": 10,
   "metadata": {},
   "outputs": [],
   "source": [
    "def fully_connected_network(inputs, num_actions, scope):\n",
    "    \"\"\"Creates a fully-connected neural network computation graph.\n",
    "\n",
    "    Parameters\n",
    "    ----------\n",
    "        inputs : tf.Placeholder\n",
    "            placeholders for the input features\n",
    "        num_actions : int\n",
    "            range of actions that can be performed by the policy. Actions \n",
    "            returned must be between 0 to num_actions, inclusive.\n",
    "        scope : str\n",
    "            a label that is used to call a specific component in the \n",
    "            computation graph\n",
    "\n",
    "    Returns\n",
    "    -------\n",
    "        tf.Variable\n",
    "            the output player that is responsible for returning the neural\n",
    "            network estimation. The scope of the output layer should match \n",
    "            the one specified in the above parameters.\n",
    "    \"\"\"\n",
    "    ##############################################\n",
    "    ##### construct your neural network here #####\n",
    "    #############################################\n",
    "    \n",
    "    \n",
    "\n",
    "    # number of output actions\n",
    "    num_outputs = num_actions\n",
    "\n",
    "\n",
    "    # create a fully connected network layers\n",
    "    hidden_layer_1 = tf.contrib.slim.fully_connected(\n",
    "        inputs,                                               # input placeholder\n",
    "        100,                                                     # number of hidden nodes\n",
    "        activation_fn = tf.nn.relu,                               # nonlinearity (None means linear combination)\n",
    "        weights_initializer=tf.truncated_normal_initializer(stddev=1.0),  # initializer for the weights\n",
    "        biases_initializer = tf.zeros_initializer(), #initializes bias\n",
    "        scope=scope+'1',                                         # name of the node\n",
    "        reuse=tf.AUTO_REUSE)\n",
    "    \n",
    "    hidden_layer_2 = tf.contrib.slim.fully_connected(\n",
    "        hidden_layer_1,                                               # input placeholder\n",
    "        50,                                                     # number of hidden nodes\n",
    "        activation_fn = tf.nn.relu,                               # nonlinearity (None means linear combination)\n",
    "        weights_initializer=tf.truncated_normal_initializer(stddev=1.0),  # initializer for the weights\n",
    "        biases_initializer = tf.zeros_initializer(), #initializes bias\n",
    "        scope= scope + \"2\",                                         # name of the node\n",
    "        reuse=tf.AUTO_REUSE)\n",
    "    \n",
    "    hidden_layer_3 = tf.contrib.slim.fully_connected(\n",
    "        hidden_layer_2,                                               # input placeholder\n",
    "        25,                                                     # number of hidden nodes\n",
    "        activation_fn = tf.nn.relu,                               # nonlinearity (None means linear combination)\n",
    "        weights_initializer=tf.truncated_normal_initializer(stddev=1.0),  # initializer for the weight\n",
    "        biases_initializer = tf.zeros_initializer(),    #initializes bias  \n",
    "        scope= scope + \"3\",                                         # name of the node\n",
    "        reuse=tf.AUTO_REUSE)\n",
    "\n",
    "    # create an output layer\n",
    "    output_layer = tf.contrib.slim.fully_connected(\n",
    "        hidden_layer_3,                                           # input placeholder\n",
    "        num_outputs,                                            # number of hidden nodes\n",
    "        activation_fn = tf.nn.relu,                               # nonlinearity (None means linear combination)\n",
    "        weights_initializer=tf.truncated_normal_initializer(stddev=1.0),  # initializer for the weights\n",
    "        biases_initializer = tf.zeros_initializer(), #initializes bias\n",
    "        scope=\"output\",                                         # name of the node\n",
    "        reuse=tf.AUTO_REUSE)\n",
    "\n",
    "\n",
    "\n",
    "    return output_layer"
   ]
  },
  {
   "cell_type": "markdown",
   "metadata": {},
   "source": [
    "### b. Computing actions\n",
    "\n",
    "Next, we impelment our method for computing actions. In DQN, the action taken by the RL agent is chosen to be the action which maximizes the Q value estimated by the policy in section a). Moreover, in order to promote exploration of the task space, the agent performs a random action with probability $\\epsilon$, where $\\epsilon$ is an exploration rate term that in practice starts high, and is periodically annealed to a smaller value. Mathematically, this is written as:\n",
    "\n",
    "\\begin{equation}\n",
    "a_t(s_t) = \n",
    "\\begin{cases}\n",
    "randint(0, A-1) && \\text{if }uniform(0,1) < \\epsilon \\\\\n",
    "\\underset{a}{\\arg\\max}(Q(s_t,a))  && \\text{otherwise}\n",
    "\\end{cases}\n",
    "\\end{equation}\n",
    "\n",
    "Fill in the below cell to compute and return appropriate actions for the given state."
   ]
  },
  {
   "cell_type": "code",
   "execution_count": 5,
   "metadata": {},
   "outputs": [],
   "source": [
    "def compute_action(sess, obs, obs_ph, num_actions, q_func, exploration_rate):\n",
    "    \"\"\"Computes an action from the RL policy given an observation.\n",
    "\n",
    "    With probability exploration_rate, the action is a random integer within \n",
    "    the range of the action space.\n",
    "\n",
    "    Parameters\n",
    "    ----------\n",
    "        sess : tf.session\n",
    "            The tensorflow session\n",
    "        obs : list\n",
    "            The observation\n",
    "        obs_ph : tf.placeholder\n",
    "            placeholder for the observation\n",
    "        num_actions : int\n",
    "            range of actions (the returned action must be an integer between\n",
    "            0 and num_actions-1, inclusive)\n",
    "        exploration_rate : float\n",
    "            Probability of selecting action other than the argmax of the \n",
    "            q function\n",
    "\n",
    "    Returns\n",
    "    -------\n",
    "        int\n",
    "            action to take\n",
    "    \"\"\"\n",
    "    ##################################################\n",
    "    ##### implement your action computing method #####\n",
    "    if np.random.uniform(0,1) < exploration_rate: #epsilon = exploration_rate\n",
    "        return np.random.randint(num_actions) #A = num_actions\n",
    "    \n",
    "    \n",
    "    ##################################################\n",
    "    outputs = sess.run(q_func, feed_dict = {obs_ph: obs}) #obs is JUST the states as input! no i/o pair\n",
    "    action = np.argmax(outputs)\n",
    "    \n",
    "    \n",
    "    return action"
   ]
  },
  {
   "cell_type": "markdown",
   "metadata": {},
   "source": [
    "### c. Collecting samples from OpenAI gym environments\n",
    "\n",
    "All RL algorithms require data to train the parameters of their policies. This is generally done by allowing the policy to specify an action $a_t(s_t)$ and then having a simulation environment return an updated state $s_{t+1}$ as well as a reward value associated with the state/action paire $r_t(s_t,a_t)$. In the lectures, we discussed the library \"OpenAI gym\", which serves to standardize the process of collecting data across multiple RL algorithms. Gym environments do so by relying on two methods for updating the simulation:\n",
    "\n",
    "- **step**: Advances the simulation by one step. Takes as an input an action from the agent, and returns the next state, the reward, a boolean term to specify whether the rollout completed prematurely, and an additional (optional) info dict.\n",
    "- **reset**: Returns the environment to some initial state. Unlike the step method, it does not take as an input any action, and only returns the initial state of the environment.\n",
    "\n",
    "The below method is designed to collect a single rollout worth of simulation data from gym-compatible environments and return the samples as a list of dictionary elements. Fill in the missing elements of this method."
   ]
  },
  {
   "cell_type": "code",
   "execution_count": 30,
   "metadata": {},
   "outputs": [],
   "source": [
    "def rollout(env, sess, s_t_ph, q_func, exploration_policy):\n",
    "    \"\"\"Executes a single rollout of the environment.\n",
    "\n",
    "    Parameters\n",
    "    ----------\n",
    "        env : gym.Env\n",
    "            OpenAI gym-compatible environment\n",
    "        sess : tf.Session\n",
    "            blank\n",
    "        s_t_ph : tf.Placeholder\n",
    "            placeholder for the input states\n",
    "        q_func : tf.Variable\n",
    "            output layer to the Q function, which returns expected values\n",
    "        exploration_policy : object\n",
    "            an object that provides appropriate exploration rates for the\n",
    "            action computing procedure\n",
    "\n",
    "    Returns\n",
    "    -------\n",
    "        list of dict\n",
    "            each element is a new sample, with each dict containing keys \n",
    "            for \"state\", \"action\", \"next_state\", \"reward\", and \"done_mask\"\n",
    "    \"\"\"\n",
    "    # the samples list will contain information from all new simulation steps\n",
    "    samples = []\n",
    "\n",
    "    # start a new rollout by resetting the environment and collecting the initial state\n",
    "    ### FILL IN ###\n",
    "    init_state = env.reset()\n",
    "    num_actions = env.action_space.n\n",
    "    \n",
    "    obs = init_state\n",
    "\n",
    "    for i in range(env_params.horizon):\n",
    "        # compute the action from the compute_action method from part b)\n",
    "        ### FILL IN ###\n",
    "        \n",
    "        opt_a = compute_action(sess, [obs], s_t_ph, num_actions, q_func, exploration_policy(i)) \n",
    "        #must include extra dimensional layer to observation!\n",
    "\n",
    "        # advance the environment once and collect the next state, reward, done, \n",
    "        # and info parameters from the environment\n",
    "        ### FILL IN ###\n",
    "        s_tplus1, r_tplus1, done, info = env.step(opt_a)\n",
    "        \n",
    "\n",
    "        # add to the samples list a dict containing: \"state\", \"action\", \"next_state\", \n",
    "        # \"reward\", and \"done_mask\"\n",
    "        samples.append({\"state\": obs,       ### FILL IN ###\n",
    "                        \"action\": opt_a,      ### FILL IN ###\n",
    "                        \"next_state\": s_tplus1,  ### FILL IN ###\n",
    "                        \"reward\": r_tplus1,      ### FILL IN ###\n",
    "                        \"done_mask\": done})  ### FILL IN ###\n",
    "        obs = s_tplus1\n",
    "\n",
    "        # if the environment returns a True for the done parameter, end the rollout \n",
    "        # before the time horizon is met\n",
    "        ### FILL IN ###\n",
    "        if done:\n",
    "            break\n",
    "\n",
    "    return samples"
   ]
  },
  {
   "cell_type": "markdown",
   "metadata": {},
   "source": [
    "### d. Training\n",
    "\n",
    "In this section, we implement the core of our RL algorithm: the training operation. For the standard form of DQN, training occurs at the level of the Q function $Q(s,a)$ by optimizing over the loss:\n",
    "\n",
    "\\begin{equation}\n",
    "\\hat{Q}(s_t,a_t) = \\big( R(s_t,a_t) + \\gamma \\cdot \\max_a Q_\\text{target}(s_{t+1},a) \\big) - Q(s_t,a_t)\n",
    "\\end{equation}\n",
    "\n",
    "where $\\gamma$ is a discount rate and $Q_\\text{target}$ is the Q target function that is stored separately from the Q value and updated less frequently in order to further stabilize the training procedure.\n",
    "\n",
    "The below cell is responsible for constructing the tensforflow placeholders and methods that will be called during the optimization scheme. Following the comments placed on each of the empty operations, and referring to the lecture on DQN, fill in the remainder of this cell.\n",
    "\n",
    "**Hint**: some useful tensroflow classes and methods include: `tf.placeholder`, `tf.one_hot`, `tf.losses.huber_loss`, `tf.train.AdamOptimizer`, `tf.clip_by_norm`, `tf.assign`, `tf.group`, `tf.global_variables_initializer`"
   ]
  },
  {
   "cell_type": "code",
   "execution_count": 21,
   "metadata": {},
   "outputs": [],
   "source": [
    "def construct_update(env, gamma, learning_rate, norm_clipping):\n",
    "    \"\"\"Constructs the necessary tensforflow components needed to execute\n",
    "    the DQN optimization scheme.\n",
    "\n",
    "    Parameters\n",
    "    ----------\n",
    "        env : gym.Env\n",
    "            OpenAI gym-compatible environment\n",
    "        gamma : float\n",
    "            discount rate\n",
    "        learning_rate : float\n",
    "            used during the optimization step\n",
    "        norm_clipping : float\n",
    "            saturation point for the gradients\n",
    "\n",
    "    Returns\n",
    "    -------\n",
    "        tf.Variable\n",
    "            output layer to the Q function\n",
    "        list of tf.Placeholder\n",
    "            several placeholders that we create to later feed data through\n",
    "        tf.Operation\n",
    "            method for updating the parameters of the Q function\n",
    "        tf.Operation\n",
    "            method for transferring the parameters of the Q function to the \n",
    "            Q target\n",
    "        tf.Session\n",
    "            tensorflow session\n",
    "    \"\"\"\n",
    "    # initialize a tensorflow session\n",
    "    sess = tf.Session()\n",
    "\n",
    "    # number of discrete actions the agent can perform\n",
    "    num_actions = env.action_space.n\n",
    "    # number of elements in the observation space\n",
    "    obs_size = env.observation_space.shape[0]\n",
    "\n",
    "    # actions placeholder (use tf.int32 as the dtype)\n",
    "    a_t_ph =  tf.placeholder(dtype=tf.int32, shape=[None], name='a_t_ph')   ### FILL IN ###\n",
    "    # state placeholder (use tf.int32 as the dtype)\n",
    "    s_t_ph = tf.placeholder(tf.float32, shape=[None, obs_size], name='s_t_ph')  ### FILL IN ###\n",
    "    # next state placeholder (use tf.int32 as the dtype)\n",
    "    s_tp1_ph = tf.placeholder(tf.float32, shape=[None, obs_size], name='s_tp1_ph')  ### FILL IN ###\n",
    "    # reward placeholder (use tf.int32 as the dtype)\n",
    "    rew_ph = tf.placeholder(tf.float32, shape=[None], name='rew_ph')  ### FILL IN ###\n",
    "    # done placeholder (use tf.int32 as the dtype)\n",
    "    done_ph = tf.placeholder(tf.float32, shape=[None], name='done_ph')  ### FILL IN ###\n",
    "    \n",
    "    ph_list = s_t_ph, s_tp1_ph, a_t_ph, rew_ph, done_ph\n",
    "\n",
    "    # construct your q functions using the method from part a) and give it the scope \"q_func\"\n",
    "    q = fully_connected_network(s_t_ph, num_actions, \"q_func\")### FILL IN ###\n",
    "\n",
    "    # get the weights of your q function\n",
    "    q_params = tf.get_collection(tf.GraphKeys.GLOBAL_VARIABLES,\n",
    "                                 scope=tf.get_variable_scope().name + \"q_func\")\n",
    "\n",
    "    # construct the q target using the method from part a) and give it the scope \"q_target\"\n",
    "    q_target = fully_connected_network(s_tp1_ph, num_actions, 'q_target')### FILL IN ###\n",
    "\n",
    "    # get the weights of your q function\n",
    "    q_target_params = tf.get_collection(tf.GraphKeys.GLOBAL_VARIABLES,\n",
    "                                        scope=tf.get_variable_scope().name + \"q_target\")\n",
    "\n",
    "    # perform the update step here. Be sure to use \"gamma\" and \"learning_rate\"\n",
    "    # as specified by the input parameters, and clip the gradients by the \n",
    "    q_val = rew_ph + gamma*(1-done_ph)*tf.reduce_max(q_target, axis=1)\n",
    "    q_pred = tf.reduce_max(q*tf.one_hot(a_t_ph, num_actions), axis=1)\n",
    "    loss = tf.losses.huber_loss(q_val, q_pred) #makes less sensitive to noise\n",
    "    \n",
    "    opt = tf.train.AdamOptimizer(learning_rate=learning_rate)\n",
    "    grad_var_list = opt.compute_gradients(loss, var_list=q_params)\n",
    "    # Gives a list of (grad, var) pairs w.r.t. q_params only (grad compute at var)\n",
    "    grad, var = zip(*grad_var_list) #zip together the grads and the vars and separates\n",
    "    grad, _ = tf.clip_by_global_norm(grad, norm_clipping)# \"norm_clipping\" term \n",
    "    #separated just to apply norm clipping\n",
    "    update = opt.apply_gradients(grad_var_list)\n",
    "\n",
    "    # create an assignment operator q_target_params to copy the q function params\n",
    "    # to the q_target params. \"update_target_expr\" will be called periodically to \n",
    "    # copy Q network to target Q network. You will want to use the variables q_params\n",
    "    # and q_target_params\n",
    "    ### FILL IN ###\n",
    "    update_target_expr = []\n",
    "    \n",
    "    sorted_q_params = sorted(q_params, key=lambda v: v.name)\n",
    "    sorted_target_params = sorted(q_target_params, key=lambda v: v.name)\n",
    "    \n",
    "    for i in range (len(sorted_q_params)):\n",
    "        update_target_expr.append(tf.assign(sorted_target_params[i], sorted_q_params[i]))\n",
    "    update_target_expr  = tf.group(*update_target_expr)\n",
    "\n",
    "    # initialize all the variables\n",
    "    ### FILL IN ###\n",
    "    sess = tf.Session()\n",
    "    sess.run(tf.global_variables_initializer())\n",
    "\n",
    "    return q, ph_list, update, update_target_expr, sess"
   ]
  },
  {
   "cell_type": "markdown",
   "metadata": {},
   "source": [
    "The next method is responsible for executing the entire training session. In this method, the replay buffer is periodically updated with data from the rollouts in part c) and a series of update steps are performed after every rollout. Note that this is somewhat different from the regular DQN approach, where the Q functions are trained after a number of steps instead of rollouts. Finally, after a number of rollouts, the parameters of the target Q function are modified to match those of the actual Q function.\n",
    "\n",
    "With the above description in mind, fill in the below cell to complete your DQN algorithm."
   ]
  },
  {
   "cell_type": "code",
   "execution_count": 55,
   "metadata": {},
   "outputs": [],
   "source": [
    "import os\n",
    "\n",
    "def train(env,\n",
    "          num_iterations=20,\n",
    "          steps_per_iteration=10000,\n",
    "          num_opt_steps=10,\n",
    "          batch_size=1000,\n",
    "          learning_rate=1e-4,\n",
    "          buffer_size=50000,\n",
    "          initial_explore_rate=1.0,\n",
    "          final_explore_rate=0.02,\n",
    "          anneal_rate=int(1e5),\n",
    "          norm_clipping=10, \n",
    "          gamma=0.5):\n",
    "    \"\"\"Runs an entire training session of DQN on an environment.\n",
    "\n",
    "    Note that the hyper-parameters are inputs to this method in order to \n",
    "    facilitate hyper-parameter tuning.\n",
    "\n",
    "    Parameters\n",
    "    ----------\n",
    "        env : gym.Env\n",
    "            OpenAI gym-compatible environment\n",
    "        num_iterations : int\n",
    "            number of training iterations before training stops\n",
    "        steps_per_iteration : int\n",
    "            number of steps to perform before the parameters of the \n",
    "            Q target are updated\n",
    "        num_opt_steps : int\n",
    "            number of optimization steps to take after every rollout\n",
    "        learning_rate : float\n",
    "            used by the optimizer\n",
    "        buffer_size : int\n",
    "            maximum number of elements the replay buffer can hold\n",
    "        initial_explore_rate : float\n",
    "            used by the exploration strategy\n",
    "        final_explore_rate : float\n",
    "            used by the exploration strategy\n",
    "        anneal_rate : int\n",
    "            used by the exploration strategy\n",
    "        batch_size : int\n",
    "            number of samples used to compute the gradient\n",
    "        norm_clipping : float\n",
    "            saturation point for the gradients\n",
    "        gamma : float\n",
    "            discount rate\n",
    "\n",
    "    Returns\n",
    "    -------\n",
    "        list of float\n",
    "            a list of average returns per ten rollouts\n",
    "    \"\"\"\n",
    "    # define the replay buffer\n",
    "    replay_buffer = [] ### FILL IN ###\n",
    "\n",
    "    # define the exploration policy (the y term corresponds to the number of previous steps)\n",
    "    exploration_policy_offset = lambda x,y: max(initial_explore_rate - 1/anneal_rate * (x+y), final_explore_rate)\n",
    "\n",
    "    # collect the necessary tensorflow-specific components\n",
    "    q_func, ph_list, update, update_target_expr, sess = construct_update(env, gamma, learning_rate, norm_clipping)\n",
    "    s_t_ph, s_tp1_ph, a_t_ph, rew_ph, done_ph = ph_list\n",
    "\n",
    "    # to store cumulative returns per rollout\n",
    "    cumulative_return_per_rollout = []\n",
    "    cumulative_return_per_ten_rollouts = []\n",
    "\n",
    "    # create saver to save model variables\n",
    "    saver = tf.train.Saver()\n",
    "    \n",
    "    # variables used during saving the checkpoint\n",
    "    current_dir = os.getcwd()\n",
    "    max_cumulative_ret = -float(\"inf\")\n",
    "\n",
    "    total_steps = 0\n",
    "    num_rollouts = 0\n",
    "    for i in range(num_iterations):\n",
    "        while total_steps < steps_per_iteration * (i+1):\n",
    "            # update the policy with the number of previous timesteps\n",
    "            exploration_policy = lambda x: exploration_policy_offset(x, total_steps)\n",
    "\n",
    "            # perform one rollout of the policy on the environment and collect the samples\n",
    "            samples = rollout(env, sess, s_t_ph, q_func, exploration_policy)\n",
    "            total_steps += len(samples)\n",
    "            num_rollouts += 1\n",
    "\n",
    "            # update the cumulative rewards terms (so that we may visualize the \n",
    "            # improvements later)\n",
    "            cumulative_return_per_rollout.append(sum(sample[\"reward\"] for sample in samples))\n",
    "\n",
    "            # store cumulative returns in means of 10 rollouts\n",
    "            if num_rollouts % 10 == 0:\n",
    "                cumulative_return_per_ten_rollouts.append(\n",
    "                    np.mean(cumulative_return_per_rollout))\n",
    "                cumulative_return_per_rollout = []\n",
    "\n",
    "            for sample in samples:\n",
    "                # add to the replay buffer a dict containing: \"states\", \"next_states\", \n",
    "                # \"actions\", \"rewards\", and \"done_masks\". Note that the number of elements \n",
    "                # should should match the input parameter **buffer_size**.\n",
    "                ### FILL IN ###\n",
    "                replay_buffer.append(sample) #this dict is simply obtained \n",
    "                if len(replay_buffer) > buffer_size:\n",
    "                    replay_buffer.pop(0)\n",
    "\n",
    "            # perform actual training here\n",
    "            for _ in range(num_opt_steps):\n",
    "                # collect a subset of samples from the replay buffer with length \n",
    "                # **batch_size**\n",
    "                ### FILL IN ###\n",
    "\n",
    "                # perform the update process by calling the update method and feeding \n",
    "                # the samples to their corresponding placeholders\n",
    "                sample_indices = np.random.randint(0, len(replay_buffer), size=batch_size)\n",
    "                batch = np.array(replay_buffer)[sample_indices]\n",
    "\n",
    "                # perform the update process by calling the update method and feeding \n",
    "                # the samples to their corresponding placeholders\n",
    "                feed_dict = {\n",
    "                    s_t_ph: np.array([sample['state'] for sample in batch]),\n",
    "                    s_tp1_ph: np.array([sample['next_state'] for sample in batch]),\n",
    "                    a_t_ph: np.array([sample['action'] for sample in batch]),\n",
    "                    rew_ph:  np.array([sample['reward'] for sample in batch]),\n",
    "                    done_ph: np.array([sample['done_mask'] for sample in batch])\n",
    "                }\n",
    "                sess.run([update], feed_dict=feed_dict)  ### FILL IN ###\n",
    "                \n",
    "\n",
    "        # update the parameters of the target q function to match those of the actual\n",
    "        # q function\n",
    "        sess.run(update_target_expr)  ### FILL IN ###\n",
    "\n",
    "        # used to monitor progress\n",
    "        print('------------------')\n",
    "        print('|the total reward of 10 rollouts was:', np.mean(cumulative_return_per_rollout[-10:]))\n",
    "        print('|the exploration fraction is:', exploration_policy(total_steps))\n",
    "        print('|number of episodes so far:', len(cumulative_return_per_rollout))\n",
    "        print('|steps so far:', total_steps)\n",
    "        print('------------------\\n')\n",
    "\n",
    "        # save the model for later viewing (save only the max)\n",
    "        if np.mean(cumulative_return_per_rollout[-10:]) > max_cumulative_ret:\n",
    "            max_cumulative_ret = np.mean(cumulative_return_per_rollout[-10:])\n",
    "            saver.save(sess, os.path.join(current_dir, \"model.ckpt\"))\n",
    "\n",
    "    return cumulative_return_per_ten_rollouts"
   ]
  },
  {
   "cell_type": "markdown",
   "metadata": {},
   "source": [
    "You can test your implementation of DQN on the \"CartPole-v0\" environment below."
   ]
  },
  {
   "cell_type": "code",
   "execution_count": 31,
   "metadata": {},
   "outputs": [
    {
     "name": "stdout",
     "output_type": "stream",
     "text": [
      "\u001b[33mWARN: gym.spaces.Box autodetected dtype as <class 'numpy.float32'>. Please provide explicit dtype.\u001b[0m\n",
      "------------------\n",
      "|the total reward of 10 rollouts was: nan\n",
      "|the exploration fraction is: 0.7997799999999999\n",
      "|number of episodes so far: 0\n",
      "|steps so far: 10011\n",
      "------------------\n",
      "\n"
     ]
    },
    {
     "name": "stderr",
     "output_type": "stream",
     "text": [
      "/home/charlie/anaconda3/lib/python3.5/site-packages/numpy/core/fromnumeric.py:2909: RuntimeWarning: Mean of empty slice.\n",
      "  out=out, **kwargs)\n",
      "/home/charlie/anaconda3/lib/python3.5/site-packages/numpy/core/_methods.py:80: RuntimeWarning: invalid value encountered in double_scalars\n",
      "  ret = ret.dtype.type(ret / rcount)\n"
     ]
    },
    {
     "name": "stdout",
     "output_type": "stream",
     "text": [
      "------------------\n",
      "|the total reward of 10 rollouts was: 12.0\n",
      "|the exploration fraction is: 0.6\n",
      "|number of episodes so far: 1\n",
      "|steps so far: 20000\n",
      "------------------\n",
      "\n",
      "------------------\n",
      "|the total reward of 10 rollouts was: 49.0\n",
      "|the exploration fraction is: 0.3994399999999999\n",
      "|number of episodes so far: 3\n",
      "|steps so far: 30028\n",
      "------------------\n",
      "\n",
      "------------------\n",
      "|the total reward of 10 rollouts was: 13.6666666667\n",
      "|the exploration fraction is: 0.19985999999999993\n",
      "|number of episodes so far: 9\n",
      "|steps so far: 40007\n",
      "------------------\n",
      "\n",
      "------------------\n",
      "|the total reward of 10 rollouts was: 15.3333333333\n",
      "|the exploration fraction is: 0.02\n",
      "|number of episodes so far: 9\n",
      "|steps so far: 50004\n",
      "------------------\n",
      "\n",
      "------------------\n",
      "|the total reward of 10 rollouts was: 18.2857142857\n",
      "|the exploration fraction is: 0.02\n",
      "|number of episodes so far: 7\n",
      "|steps so far: 60002\n",
      "------------------\n",
      "\n",
      "------------------\n",
      "|the total reward of 10 rollouts was: 14.8571428571\n",
      "|the exploration fraction is: 0.02\n",
      "|number of episodes so far: 7\n",
      "|steps so far: 70004\n",
      "------------------\n",
      "\n",
      "------------------\n",
      "|the total reward of 10 rollouts was: 30.0\n",
      "|the exploration fraction is: 0.02\n",
      "|number of episodes so far: 1\n",
      "|steps so far: 80020\n",
      "------------------\n",
      "\n",
      "------------------\n",
      "|the total reward of 10 rollouts was: 8.0\n",
      "|the exploration fraction is: 0.02\n",
      "|number of episodes so far: 1\n",
      "|steps so far: 90006\n",
      "------------------\n",
      "\n",
      "------------------\n",
      "|the total reward of 10 rollouts was: 15.0\n",
      "|the exploration fraction is: 0.02\n",
      "|number of episodes so far: 2\n",
      "|steps so far: 100009\n",
      "------------------\n",
      "\n",
      "------------------\n",
      "|the total reward of 10 rollouts was: 14.6\n",
      "|the exploration fraction is: 0.02\n",
      "|number of episodes so far: 5\n",
      "|steps so far: 110011\n",
      "------------------\n",
      "\n",
      "------------------\n",
      "|the total reward of 10 rollouts was: 28.8\n",
      "|the exploration fraction is: 0.02\n",
      "|number of episodes so far: 5\n",
      "|steps so far: 120002\n",
      "------------------\n",
      "\n",
      "------------------\n",
      "|the total reward of 10 rollouts was: 33.3333333333\n",
      "|the exploration fraction is: 0.02\n",
      "|number of episodes so far: 3\n",
      "|steps so far: 130005\n",
      "------------------\n",
      "\n",
      "------------------\n",
      "|the total reward of 10 rollouts was: 23.3333333333\n",
      "|the exploration fraction is: 0.02\n",
      "|number of episodes so far: 9\n",
      "|steps so far: 140002\n",
      "------------------\n",
      "\n",
      "------------------\n",
      "|the total reward of 10 rollouts was: 54.3333333333\n",
      "|the exploration fraction is: 0.02\n",
      "|number of episodes so far: 3\n",
      "|steps so far: 150066\n",
      "------------------\n",
      "\n",
      "------------------\n",
      "|the total reward of 10 rollouts was: 33.8571428571\n",
      "|the exploration fraction is: 0.02\n",
      "|number of episodes so far: 7\n",
      "|steps so far: 160028\n",
      "------------------\n",
      "\n",
      "------------------\n",
      "|the total reward of 10 rollouts was: 42.6666666667\n",
      "|the exploration fraction is: 0.02\n",
      "|number of episodes so far: 3\n",
      "|steps so far: 170045\n",
      "------------------\n",
      "\n",
      "------------------\n",
      "|the total reward of 10 rollouts was: 67.6666666667\n",
      "|the exploration fraction is: 0.02\n",
      "|number of episodes so far: 3\n",
      "|steps so far: 180068\n",
      "------------------\n",
      "\n",
      "------------------\n",
      "|the total reward of 10 rollouts was: 33.8333333333\n",
      "|the exploration fraction is: 0.02\n",
      "|number of episodes so far: 6\n",
      "|steps so far: 190009\n",
      "------------------\n",
      "\n",
      "------------------\n",
      "|the total reward of 10 rollouts was: 35.0\n",
      "|the exploration fraction is: 0.02\n",
      "|number of episodes so far: 3\n",
      "|steps so far: 200004\n",
      "------------------\n",
      "\n"
     ]
    }
   ],
   "source": [
    "import tensorflow as tf\n",
    "import gym\n",
    "\n",
    "tf.reset_default_graph()\n",
    "env = gym.make(\"CartPole-v0\")\n",
    "avg_reward_per_iteration = train(env, learning_rate=5e-6)"
   ]
  },
  {
   "cell_type": "markdown",
   "metadata": {},
   "source": [
    "We are now finally ready to train your traffic signal schedule. The below cell executes one complete instance of training. Run this cell, and in the cell immediately below it, plot the average return per iteration. **Note**: If all went well, it is still possible that your algorithm's raining curve is still very noisy; for this reason, we will in the final problem look to augmentations of DQN, namely double q-learning."
   ]
  },
  {
   "cell_type": "code",
   "execution_count": 56,
   "metadata": {},
   "outputs": [
    {
     "name": "stdout",
     "output_type": "stream",
     "text": [
      "------------------\n",
      "|the total reward of 10 rollouts was: 258.021361364\n",
      "|the exploration fraction is: 0.8\n",
      "|number of episodes so far: 5\n",
      "|steps so far: 10000\n",
      "------------------\n",
      "\n"
     ]
    },
    {
     "ename": "KeyboardInterrupt",
     "evalue": "",
     "output_type": "error",
     "traceback": [
      "\u001b[0;31m---------------------------------------------------------------------------\u001b[0m",
      "\u001b[0;31mKeyboardInterrupt\u001b[0m                         Traceback (most recent call last)",
      "\u001b[0;32m<ipython-input-56-8c24f6670f4b>\u001b[0m in \u001b[0;36m<module>\u001b[0;34m()\u001b[0m\n\u001b[1;32m     26\u001b[0m \u001b[0;34m\u001b[0m\u001b[0m\n\u001b[1;32m     27\u001b[0m \u001b[0;31m# perform the training iterations for set duration\u001b[0m\u001b[0;34m\u001b[0m\u001b[0;34m\u001b[0m\u001b[0m\n\u001b[0;32m---> 28\u001b[0;31m \u001b[0mavg_reward_per_iteration\u001b[0m \u001b[0;34m=\u001b[0m \u001b[0mtrain\u001b[0m\u001b[0;34m(\u001b[0m\u001b[0menv\u001b[0m\u001b[0;34m)\u001b[0m\u001b[0;34m\u001b[0m\u001b[0m\n\u001b[0m",
      "\u001b[0;32m<ipython-input-55-665ea8700942>\u001b[0m in \u001b[0;36mtrain\u001b[0;34m(env, num_iterations, steps_per_iteration, num_opt_steps, batch_size, learning_rate, buffer_size, initial_explore_rate, final_explore_rate, anneal_rate, norm_clipping, gamma)\u001b[0m\n\u001b[1;32m     80\u001b[0m \u001b[0;34m\u001b[0m\u001b[0m\n\u001b[1;32m     81\u001b[0m             \u001b[0;31m# perform one rollout of the policy on the environment and collect the samples\u001b[0m\u001b[0;34m\u001b[0m\u001b[0;34m\u001b[0m\u001b[0m\n\u001b[0;32m---> 82\u001b[0;31m             \u001b[0msamples\u001b[0m \u001b[0;34m=\u001b[0m \u001b[0mrollout\u001b[0m\u001b[0;34m(\u001b[0m\u001b[0menv\u001b[0m\u001b[0;34m,\u001b[0m \u001b[0msess\u001b[0m\u001b[0;34m,\u001b[0m \u001b[0ms_t_ph\u001b[0m\u001b[0;34m,\u001b[0m \u001b[0mq_func\u001b[0m\u001b[0;34m,\u001b[0m \u001b[0mexploration_policy\u001b[0m\u001b[0;34m)\u001b[0m\u001b[0;34m\u001b[0m\u001b[0m\n\u001b[0m\u001b[1;32m     83\u001b[0m             \u001b[0mtotal_steps\u001b[0m \u001b[0;34m+=\u001b[0m \u001b[0mlen\u001b[0m\u001b[0;34m(\u001b[0m\u001b[0msamples\u001b[0m\u001b[0;34m)\u001b[0m\u001b[0;34m\u001b[0m\u001b[0m\n\u001b[1;32m     84\u001b[0m             \u001b[0mnum_rollouts\u001b[0m \u001b[0;34m+=\u001b[0m \u001b[0;36m1\u001b[0m\u001b[0;34m\u001b[0m\u001b[0m\n",
      "\u001b[0;32m<ipython-input-30-43de2860a2b7>\u001b[0m in \u001b[0;36mrollout\u001b[0;34m(env, sess, s_t_ph, q_func, exploration_policy)\u001b[0m\n\u001b[1;32m     27\u001b[0m     \u001b[0;31m# start a new rollout by resetting the environment and collecting the initial state\u001b[0m\u001b[0;34m\u001b[0m\u001b[0;34m\u001b[0m\u001b[0m\n\u001b[1;32m     28\u001b[0m     \u001b[0;31m### FILL IN ###\u001b[0m\u001b[0;34m\u001b[0m\u001b[0;34m\u001b[0m\u001b[0m\n\u001b[0;32m---> 29\u001b[0;31m     \u001b[0minit_state\u001b[0m \u001b[0;34m=\u001b[0m \u001b[0menv\u001b[0m\u001b[0;34m.\u001b[0m\u001b[0mreset\u001b[0m\u001b[0;34m(\u001b[0m\u001b[0;34m)\u001b[0m\u001b[0;34m\u001b[0m\u001b[0m\n\u001b[0m\u001b[1;32m     30\u001b[0m     \u001b[0mnum_actions\u001b[0m \u001b[0;34m=\u001b[0m \u001b[0menv\u001b[0m\u001b[0;34m.\u001b[0m\u001b[0maction_space\u001b[0m\u001b[0;34m.\u001b[0m\u001b[0mn\u001b[0m\u001b[0;34m\u001b[0m\u001b[0m\n\u001b[1;32m     31\u001b[0m \u001b[0;34m\u001b[0m\u001b[0m\n",
      "\u001b[0;32m~/gym/gym/wrappers/time_limit.py\u001b[0m in \u001b[0;36mreset\u001b[0;34m(self)\u001b[0m\n\u001b[1;32m     42\u001b[0m         \u001b[0mself\u001b[0m\u001b[0;34m.\u001b[0m\u001b[0m_episode_started_at\u001b[0m \u001b[0;34m=\u001b[0m \u001b[0mtime\u001b[0m\u001b[0;34m.\u001b[0m\u001b[0mtime\u001b[0m\u001b[0;34m(\u001b[0m\u001b[0;34m)\u001b[0m\u001b[0;34m\u001b[0m\u001b[0m\n\u001b[1;32m     43\u001b[0m         \u001b[0mself\u001b[0m\u001b[0;34m.\u001b[0m\u001b[0m_elapsed_steps\u001b[0m \u001b[0;34m=\u001b[0m \u001b[0;36m0\u001b[0m\u001b[0;34m\u001b[0m\u001b[0m\n\u001b[0;32m---> 44\u001b[0;31m         \u001b[0;32mreturn\u001b[0m \u001b[0mself\u001b[0m\u001b[0;34m.\u001b[0m\u001b[0menv\u001b[0m\u001b[0;34m.\u001b[0m\u001b[0mreset\u001b[0m\u001b[0;34m(\u001b[0m\u001b[0;34m)\u001b[0m\u001b[0;34m\u001b[0m\u001b[0m\n\u001b[0m",
      "\u001b[0;32m~/flow/flow/envs/base_env.py\u001b[0m in \u001b[0;36mreset\u001b[0;34m(self)\u001b[0m\n\u001b[1;32m    492\u001b[0m             \u001b[0mself\u001b[0m\u001b[0;34m.\u001b[0m\u001b[0mvehicles\u001b[0m \u001b[0;34m=\u001b[0m \u001b[0mdeepcopy\u001b[0m\u001b[0;34m(\u001b[0m\u001b[0mself\u001b[0m\u001b[0;34m.\u001b[0m\u001b[0minitial_vehicles\u001b[0m\u001b[0;34m)\u001b[0m\u001b[0;34m\u001b[0m\u001b[0m\n\u001b[1;32m    493\u001b[0m             \u001b[0;31m# restart the sumo instance\u001b[0m\u001b[0;34m\u001b[0m\u001b[0;34m\u001b[0m\u001b[0m\n\u001b[0;32m--> 494\u001b[0;31m             \u001b[0mself\u001b[0m\u001b[0;34m.\u001b[0m\u001b[0mrestart_sumo\u001b[0m\u001b[0;34m(\u001b[0m\u001b[0mself\u001b[0m\u001b[0;34m.\u001b[0m\u001b[0msumo_params\u001b[0m\u001b[0;34m)\u001b[0m\u001b[0;34m\u001b[0m\u001b[0m\n\u001b[0m\u001b[1;32m    495\u001b[0m \u001b[0;34m\u001b[0m\u001b[0m\n\u001b[1;32m    496\u001b[0m         \u001b[0;31m# perform shuffling (if requested)\u001b[0m\u001b[0;34m\u001b[0m\u001b[0;34m\u001b[0m\u001b[0m\n",
      "\u001b[0;32m~/flow/flow/envs/base_env.py\u001b[0m in \u001b[0;36mrestart_sumo\u001b[0;34m(self, sumo_params, sumo_binary)\u001b[0m\n\u001b[1;32m    154\u001b[0m             \u001b[0mself\u001b[0m\u001b[0;34m.\u001b[0m\u001b[0msumo_params\u001b[0m\u001b[0;34m.\u001b[0m\u001b[0memission_path\u001b[0m \u001b[0;34m=\u001b[0m \u001b[0msumo_params\u001b[0m\u001b[0;34m.\u001b[0m\u001b[0memission_path\u001b[0m\u001b[0;34m\u001b[0m\u001b[0m\n\u001b[1;32m    155\u001b[0m \u001b[0;34m\u001b[0m\u001b[0m\n\u001b[0;32m--> 156\u001b[0;31m         \u001b[0mself\u001b[0m\u001b[0;34m.\u001b[0m\u001b[0mstart_sumo\u001b[0m\u001b[0;34m(\u001b[0m\u001b[0;34m)\u001b[0m\u001b[0;34m\u001b[0m\u001b[0m\n\u001b[0m\u001b[1;32m    157\u001b[0m         \u001b[0mself\u001b[0m\u001b[0;34m.\u001b[0m\u001b[0msetup_initial_state\u001b[0m\u001b[0;34m(\u001b[0m\u001b[0;34m)\u001b[0m\u001b[0;34m\u001b[0m\u001b[0m\n\u001b[1;32m    158\u001b[0m \u001b[0;34m\u001b[0m\u001b[0m\n",
      "\u001b[0;32m~/flow/flow/envs/base_env.py\u001b[0m in \u001b[0;36mstart_sumo\u001b[0;34m(self)\u001b[0m\n\u001b[1;32m    242\u001b[0m                     \u001b[0mtime\u001b[0m\u001b[0;34m.\u001b[0m\u001b[0msleep\u001b[0m\u001b[0;34m(\u001b[0m\u001b[0;36m0.1\u001b[0m\u001b[0;34m)\u001b[0m\u001b[0;34m\u001b[0m\u001b[0m\n\u001b[1;32m    243\u001b[0m                 \u001b[0;32melse\u001b[0m\u001b[0;34m:\u001b[0m\u001b[0;34m\u001b[0m\u001b[0m\n\u001b[0;32m--> 244\u001b[0;31m                     \u001b[0mtime\u001b[0m\u001b[0;34m.\u001b[0m\u001b[0msleep\u001b[0m\u001b[0;34m(\u001b[0m\u001b[0mconfig\u001b[0m\u001b[0;34m.\u001b[0m\u001b[0mSUMO_SLEEP\u001b[0m\u001b[0;34m)\u001b[0m\u001b[0;34m\u001b[0m\u001b[0m\n\u001b[0m\u001b[1;32m    245\u001b[0m \u001b[0;34m\u001b[0m\u001b[0m\n\u001b[1;32m    246\u001b[0m                 \u001b[0mself\u001b[0m\u001b[0;34m.\u001b[0m\u001b[0mtraci_connection\u001b[0m \u001b[0;34m=\u001b[0m \u001b[0mtraci\u001b[0m\u001b[0;34m.\u001b[0m\u001b[0mconnect\u001b[0m\u001b[0;34m(\u001b[0m\u001b[0mport\u001b[0m\u001b[0;34m,\u001b[0m \u001b[0mnumRetries\u001b[0m\u001b[0;34m=\u001b[0m\u001b[0;36m100\u001b[0m\u001b[0;34m)\u001b[0m\u001b[0;34m\u001b[0m\u001b[0m\n",
      "\u001b[0;31mKeyboardInterrupt\u001b[0m: "
     ]
    }
   ],
   "source": [
    "import tensorflow as tf\n",
    "import gym\n",
    "from gym.envs.registration import register\n",
    "from hw2_utils import create_scenario, env_params\n",
    "from hw2_utils import sumo_params_train as sumo_params\n",
    "\n",
    "tf.reset_default_graph()\n",
    "scenario = create_scenario()\n",
    "\n",
    "# register the Flow gym environment with OpenAI gym\n",
    "env_name = \"PO_TrafficLightGridEnv\"\n",
    "try:\n",
    "    register(\n",
    "        id=env_name + \"-v0\",\n",
    "        entry_point='flow.envs:' + env_name,\n",
    "        max_episode_steps=env_params.horizon,\n",
    "        kwargs={\n",
    "            \"env_params\": env_params,\n",
    "            \"sumo_params\": sumo_params,\n",
    "            \"scenario\": scenario\n",
    "        }\n",
    "    )\n",
    "except:  # this will happen if you already registered the environment\n",
    "    pass\n",
    "env = gym.envs.make(env_name + \"-v0\")\n",
    "\n",
    "# perform the training iterations for set duration\n",
    "avg_reward_per_iteration = train(env)"
   ]
  },
  {
   "cell_type": "code",
   "execution_count": 37,
   "metadata": {},
   "outputs": [
    {
     "data": {
      "text/plain": [
       "Text(0,0.5,'Reward')"
      ]
     },
     "execution_count": 37,
     "metadata": {},
     "output_type": "execute_result"
    },
    {
     "data": {
      "image/png": "[encoded data removed]",
      "text/plain": [
       "<matplotlib.figure.Figure at 0x7f64158ac668>"
      ]
     },
     "metadata": {},
     "output_type": "display_data"
    }
   ],
   "source": [
    "######################################\n",
    "###### plot learning curve here ######\n",
    "######################################\n",
    "import matplotlib.pyplot as plt\n",
    "plt.plot(np.linspace(0,2000000,50), avg_reward_per_iteration)\n",
    "plt.xlabel('Step')\n",
    "plt.ylabel('Reward')"
   ]
  },
  {
   "cell_type": "markdown",
   "metadata": {},
   "source": [
    "The above plot will be saved at https://gyazo.com/0703d27c94a6b2e4fbf50d418409ab16"
   ]
  },
  {
   "cell_type": "markdown",
   "metadata": {},
   "source": [
    "### e. Visualizing Learned Control Strategies\n",
    "\n",
    "Let us now try to visualize the performance of the policy in simulation. In the below cell, we once again run the simulation as we had at the start, expect with the addition of an *rl_actions* method. This method allows us to dictate the actions of RL agents outside of the training loop. Fill in the *rl_actions* method with your new trained policy, and run the cell to visualize your traffic light policy in action. Assuming your algorithm ran as expected, the average delay you receive from the trained policy should be less than the value you received at the start of this the problem before training, meaning that your algorithm has improved traffic flow!"
   ]
  },
  {
   "cell_type": "code",
   "execution_count": 59,
   "metadata": {},
   "outputs": [
    {
     "name": "stdout",
     "output_type": "stream",
     "text": [
      "INFO:tensorflow:Restoring parameters from /home/charlie/Documents/fall2018class/EECS290O/EE290O/homeworks/homework2/model.ckpt\n"
     ]
    },
    {
     "name": "stderr",
     "output_type": "stream",
     "text": [
      "INFO:tensorflow:Restoring parameters from /home/charlie/Documents/fall2018class/EECS290O/EE290O/homeworks/homework2/model.ckpt\n"
     ]
    },
    {
     "name": "stdout",
     "output_type": "stream",
     "text": [
      "Round 0, return: 312.28536605211247\n",
      "Round 1, return: 300.69608901938784\n",
      "Round 2, return: 303.3199040162256\n",
      "Round 3, return: 304.82415409251576\n",
      "Round 4, return: 307.1096322262666\n",
      "Round 5, return: 308.78849553064975\n",
      "Round 6, return: 310.29339786989914\n",
      "Round 7, return: 312.01255542127893\n",
      "Round 8, return: 300.23892129156303\n",
      "Round 9, return: 303.116707367588\n",
      "Average, std return: 306.26852228874867, 4.249426634715605\n",
      "Average, std speed: 8.201504299734491, 0.2527944328411202\n",
      "-----------------\n",
      "The new total return is 306.269 seconds\n"
     ]
    }
   ],
   "source": [
    "import numpy as np\n",
    "from flow.envs import PO_TrafficLightGridEnv\n",
    "from flow.core.experiment import SumoExperiment\n",
    "from hw2_utils import create_scenario, env_params\n",
    "from hw2_utils import sumo_params_test as sumo_params\n",
    "\n",
    "tf.reset_default_graph()\n",
    "\n",
    "scenario = create_scenario()\n",
    "env = PO_TrafficLightGridEnv(env_params, sumo_params, scenario)\n",
    "\n",
    "num_iterations=20\n",
    "steps_per_iteration=10000\n",
    "num_opt_steps=10\n",
    "batch_size=1000\n",
    "learning_rate=1e-4\n",
    "buffer_size=50000\n",
    "initial_explore_rate=1.0\n",
    "final_explore_rate=0.02\n",
    "anneal_rate=int(1e5)\n",
    "norm_clipping=10\n",
    "gamma=0.5\n",
    "q_func, ph_list, update, update_target_expr, sess = construct_update(env, gamma, learning_rate, norm_clipping)\n",
    "s_t_ph, s_tp1_ph, a_t_ph, rew_ph, done_ph = ph_list\n",
    "\n",
    "# sess = tf.Session()\n",
    "current_dir = os.getcwd()\n",
    "saver = tf.train.Saver()\n",
    "#saver = tf.train.import_meta_graph('model.ckpt.meta')\n",
    "saver.restore(sess, os.path.join(current_dir, \"model.ckpt\"))\n",
    "\n",
    "\n",
    "#placed function here to know what \"saver\" is\n",
    "def rl_actions(state):\n",
    "    ###########################################################\n",
    "    ###### return the action from the trained Q function ######\n",
    "    ###########################################################\n",
    "    #action = compute_action(sess, [state], s_t_ph, num_actions, q_func, exploration_policy(i))\n",
    "    action = np.argmax(sess.run(q_func, feed_dict={s_t_ph: [state]}))\n",
    "\n",
    "    return action\n",
    "\n",
    "\n",
    "##################### DO NOT MODIFY BELOW HERE #####################\n",
    "\n",
    "# run 10 rollouts of the environment with the RL actions being specified by\n",
    "# your trained policy\n",
    "exp = SumoExperiment(env, scenario)\n",
    "results = exp.run(10, env_params.horizon, rl_actions=rl_actions)\n",
    "\n",
    "# compute and print the new total delay\n",
    "total_delay = np.mean(results[\"returns\"])\n",
    "print(\"-----------------\")\n",
    "print('The new total return is %.3f seconds' %(total_delay))"
   ]
  },
  {
   "cell_type": "markdown",
   "metadata": {},
   "source": [
    "### f. (BONUS) Double Q Learning\n",
    "\n",
    "Several variants of DQN have arisen over the years as a means of potentially improving training performance. Once such modification is the double Q learning procedure, where the Q functions used to perform action selection and value estimation are separated in order to prevent the Q algorithm from prioritizing optimistically evaluated actions.\n",
    "\n",
    "In the below cell, extract the method from the previous parts that needs to be updated to implement double Q learning and modify the necessary lines of code. **Hint**: you only need to modify one method."
   ]
  },
  {
   "cell_type": "code",
   "execution_count": null,
   "metadata": {},
   "outputs": [],
   "source": [
    "##############################################\n",
    "###### implement double Q learning here ######\n",
    "##############################################"
   ]
  },
  {
   "cell_type": "markdown",
   "metadata": {},
   "source": [
    "Once you have implemented the double Q learning modification, test the performance of the new algorithm on the training procedure by plotting the the average and std of the training for both methods across 3 training sessions. Use default hyperparameters for all training instances. You may refer to the supplementary cell below for plotting average/range training curves, or use your own."
   ]
  },
  {
   "cell_type": "code",
   "execution_count": null,
   "metadata": {},
   "outputs": [],
   "source": [
    "##############################################################\n",
    "###### train both variants and plot the training curves ######\n",
    "##############################################################"
   ]
  },
  {
   "cell_type": "code",
   "execution_count": 42,
   "metadata": {
    "scrolled": false
   },
   "outputs": [
    {
     "data": {
      "image/png": "[encoded data removed]",
      "text/plain": [
       "<matplotlib.figure.Figure at 0x7f40c8271160>"
      ]
     },
     "metadata": {},
     "output_type": "display_data"
    }
   ],
   "source": [
    "###### Sample Plotting Method ######\n",
    "\n",
    "import matplotlib.pyplot as plt\n",
    "import numpy as np\n",
    "\n",
    "# collect 5 noisy samples of some function (in this case y = 0.5x)\n",
    "x = np.arange(0, 100, 0.1)\n",
    "y = [0.5 * x + np.random.normal(0, 5, len(x)) for _ in range(5)]\n",
    "\n",
    "# Actual plotting past here\n",
    "\n",
    "plt.figure(figsize=(16,10))\n",
    "# add line for mean of y values\n",
    "plt.plot(x, np.mean(y, 0), color=\"b\")\n",
    "# fill in between min and max with lighter color\n",
    "plt.fill_between(x, np.min(y, 0), np.max(y, 0), alpha=0.25, color='b')\n",
    "plt.title(\"Sample Mean/Range Plot\", fontsize=25)\n",
    "plt.ylabel('y values', fontsize=20)\n",
    "plt.xlabel('x values', fontsize=20)\n",
    "plt.tick_params(labelsize=15)\n",
    "plt.show()"
   ]
  },
  {
   "cell_type": "code",
   "execution_count": null,
   "metadata": {},
   "outputs": [],
   "source": []
  }
 ],
 "metadata": {
  "kernelspec": {
   "display_name": "Python 3",
   "language": "python",
   "name": "python3"
  },
  "language_info": {
   "codemirror_mode": {
    "name": "ipython",
    "version": 3
   },
   "file_extension": ".py",
   "mimetype": "text/x-python",
   "name": "python",
   "nbconvert_exporter": "python",
   "pygments_lexer": "ipython3",
   "version": "3.5.5"
  }
 },
 "nbformat": 4,
 "nbformat_minor": 2
}
