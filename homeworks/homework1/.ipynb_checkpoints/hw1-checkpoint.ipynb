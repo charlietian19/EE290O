{
 "cells": [
  {
   "cell_type": "markdown",
   "metadata": {},
   "source": [
    "# Homework 1\n",
    "\n",
    "### Due Date: Thursday, September 13, 2018\n",
    "\n",
    "### Getting Started\n",
    "\n",
    "If you haven't installed Flow onto your computer at this point, it's highly recommended that you go to https://berkeleyflow.readthedocs.io/en/latest/flow_setup.html and follow the instructions to do so.\n",
    "A few key points:\n",
    "- This course is done in Python 3 and code in Python 2 will not be supported. Please upgrade if you haven't.\n",
    "- It is highly recommended that you perform the installation in a virtual environment such an Anaconda."
   ]
  },
  {
   "cell_type": "markdown",
   "metadata": {},
   "source": [
    "# Question 1: Markov Decision Processes\n",
    "\n",
    "Markov decision problems (MDPs) are an important prelude to all reinforcement learning applications, as they define the task space of the application in question. These MDPs consist of a tuple ($\\mathcal{S}$, $\\mathcal{A}$, $\\mathcal{P}$, $r$), where:\n",
    "\n",
    "- $\\mathcal{S} \\in \\mathbb{R}^n$ is an $n$ dimensional state space\n",
    "- $\\mathcal{A} \\in \\mathbb{R}^m$ is an $m$ dimensional action space\n",
    "- $\\mathcal{P} : \\mathcal{S} \\times \\mathcal{A} \\times \\mathcal{S} \\to \\mathbb{R}_+$ is a transition probability function\n",
    "- $r : \\mathcal{S} \\to \\mathbb{R}$ is a reward function\n",
    "\n",
    "Note that MDPs are often characterized with other properties as well (e.g. a time horizon $T$), but for this problem we will consider the above representation.\n",
    "\n",
    "### a. Fully autonomous intersections\n",
    "\n",
    "Consider the fully autonomous intersection problem in the figure below, where vehicles are attempting to cross an intersection from either sides. In this problem, all vehicles in the network are fully autonomous and are equipped with sensors that can provide an arbitrary amount of state information. The objective is to develop a control strategy whereby all vehicles may pass the intersection as quickly as possible without colliding into one another.\n",
    "\n",
    "<img src=\"img/two_way_intersection.png\" width=\"400\">\n",
    "\n",
    "Given the above description, design an MDP that can be used to represent the above system.\n",
    "\n",
    "### b. \"Markov\" decision process?\n",
    "\n",
    "Is the MDP you designed in section a) truly Markovian? Why or why not?\n",
    "\n",
    "### c. Mixed autonomy intersections\n",
    "\n",
    "Let as now consider an modification to the problem presented in section a) where only a subset of the vehicles are autonomous, while the rest are driven by humans and do not communicate with the autonomous vehicles. How does the inclusion of human vehicles affect the MDP presented in section a)? Is this problem Markovian? If not, what can be changed to make it Markovian?"
   ]
  },
  {
   "cell_type": "markdown",
   "metadata": {},
   "source": [
    "$$\\textbf{Student Solutions to Question 1}$$\n",
    "$$\\textbf{a.}$$ First, we must be rigorous on deciding what the agent is. As given in piazza the whole system becomes the agent, and our actions and transitions are given by what the whole system experiences. \n",
    "\n",
    "$$\\mathcal{S} = x_{car}, v_{car}, a_{car}$$ for EVERY car in the system. These state features can be used to compute auxillary features such as the headway between each car, and the relative speed. We can include those features in our state too, if we wish.\n",
    "\n",
    "$$\\mathcal{A} = \\mathbb{R}^n$$ where $n$ is the number of cars in the system. Each vector entry will represent the acceleration, positive or negative, of a car. This may not be the TRUE acceleration of the car, but it will be the value that the controller inputs to achieve a theoretical acceleration of $a$, assuming absolute ideal deterministic conditions\n",
    "\n",
    "The value of the position of $\\mathcal{A}$ can be given by the transition function which will be a continuous probability density function. The expected value of the pdf will be $$x_0 + \\frac{1}{2}a\\Delta t^2 + v_0\\Delta t$$ given by mechanics, assuming no jerk (ie acceleration during this $\\Delta t$ discrete time sampling will be constant). Any random variable of noise can be thought as a random variable with mean 0, added to this deterministic signal, with variance $\\sigma^2$. This defines a continuous probability distribution function, where we can give probability masses only to AREAS or intervals that the car could be in. Let the PDF that represents $X \\sim \\mathcal{N}(0, \\sigma^2)$ be $f(x)$. Then, we have that $$\\mathcal{P} = \\int\\limits_{x_0}^{x_f}{f(x)}$$\n",
    "\n",
    "The reward $\\mathcal{r}: \\mathcal{S} \\rightarrow \\mathbb{R}$ is $+1$ for every car through the intersection -eg the throughput. The maximum amount of positive reward can be only the number of cars in the system $n$. Therefore, settings a negative reward for every collision prohibitively higher in magnitude than $n$ eg $Nn$ for large $N$, will ensure that simply doing nothing (moving no cars) is more optimal than a single collision. This is a similar idea to duality and reforming a constraint into the objective function.\n",
    "\n",
    "\n",
    "$$\\textbf{b.}$$ In the purely autonomous case where you know all time derivatives of all the cars, then yes it is Markovian since you can simply use all the time derivatives of each car and solve the differential equation to know the path of the next state, given some pertubations. Sometimes the pertubation may be determined by prior incidents (eg crashes or weather that is not Markovian) - in this case it is not Markovian. However we can assume ideal conditions and optimal policies that prevent crashing.\n",
    "\n",
    "\n",
    "$$\\textbf{c.}$$ There is now greater uncertainty introduced. $\\mathcal{S}$ and actiosn $\\mathcal{A}$ will stay the same for the cars that ARE controlled by the system. However, human drivers can be suboptimal frequently and we don't know their behavior. Therefore, the transition function (in RL we need to learn this from supervised data! Learn the probability distributions) will depend on observations of past behavior of each human driver individually.\n",
    "\n",
    "In this sense, it is not Markovian since past behavior defines the actions - humans are generally not Markovian and we have memories. Some humans may drive with a grudge or bias against other drivers/autonomous vehicles. We have simply try our best to estimate a probability distribution on the condition ONLY with the states and the probability we end up in another state given the action and given the initial state. Eventually this will converge into one conditional distribution $p(s_{t+1}|s_t,a_t)$"
   ]
  },
  {
   "cell_type": "markdown",
   "metadata": {},
   "source": [
    "# Question 2: Simulating and Stabilizing Traffic in a Ring Road\n",
    "\n",
    "In this problem, we will consider the problem of stabilizing traffic in a straight highway while using a ring road network as a surrogate. The formation of traffic instabilities (often referred to as traffic congestion, stop-and-go traffic, traffic waves, etc.) in ring roads is a widely studied problem, as it is analytically tractable and has been empirically shown to generate similar instabilities in field studies (see [this video](https://www.youtube.com/watch?v=7wm-pZp_mi0)) as those witnessed in real network settings such as highways (see [this video](https://www.youtube.com/watch?v=6ZC9h8jgSj4)). A thorough explanation of these instabilities is left until later in the course; instead here we are interested in reproducing them in simulation and we will build a few controllers to try to counteract these instabilities.\n",
    "\n",
    "We will simulate the performance of vehicles in a ring road using the microscopic traffic simulator SUMO. In order to setup a ring road network in SUMO and study the performance of different car-following models and controllers, we will use the computational framework Flow."
   ]
  },
  {
   "cell_type": "markdown",
   "metadata": {},
   "source": [
    "### a. Modeling microscopic car-following dynamics\n",
    "\n",
    "We begin by implementing a car-following model that can recreate the types of traffic instabilities experienced in reality. Several car-following models exist to realistically depict the longitudinal (acceleration) behavior of vehicles in a network. One such model is the Intelligent Driver Model (IDM), in which the acceleration $a_{IDM}$ of a vehicle is defined as:\n",
    "\n",
    "\\begin{equation}\n",
    "a_{IDM}(v, v_l, h) = a \\bigg[ 1 - \\bigg( \\frac{v}{v_0} \\bigg) ^\\delta - \\bigg( \\frac{s^* (v, v_l)}{h} \\bigg)^2 \\bigg]\n",
    "\\end{equation}\n",
    "\n",
    "where $v$ the vehicle's speed, $h$ is its bumper-to-bumper headway, $v_l$ is the speed of the vehicle ahead of it, and $s^*$ is the desired headway of the vehicle, denoted by:\n",
    "\n",
    "\\begin{equation}\n",
    "s^*(v, v_l)  = s_0 + \\max \\bigg( 0, v T + \\frac{v (v - v_l)}{2 \\sqrt{ab}}  \\bigg)\n",
    "\\end{equation}\n",
    "\n",
    "where $s_0$, $v_0$, $T$, $\\delta$, $a$, $b$ are given parameters that may be calibrated to model highway traffic.\n",
    "\n",
    "Using the *BaseController* class in Flow, design a controller that can recreate the behavior of this model in simulation. You can create this controller class by filling in the below script. Use the following values for each of the model parameters:\n",
    "\n",
    "- $s_0$: 2 m\n",
    "- $v_0$: 30 m/s\n",
    "- $T$: 1 s\n",
    "- $\\delta$: 4\n",
    "- $a$: 1 m/s$^2$\n",
    "- $b$: 1.5 m/s$^2$\n",
    "\n",
    "For more information of designing controllers in Flow, we recommend you review this [tutorial](https://github.com/berkeleyflow/flow/blob/master/tutorials/tutorial07_controllers.ipynb). **Note**: You are allowed to import any module you find valuable."
   ]
  },
  {
   "cell_type": "code",
   "execution_count": 243,
   "metadata": {},
   "outputs": [],
   "source": [
    "from flow.controllers import BaseController\n",
    "#added\n",
    "import numpy as np\n",
    "\n",
    "class IDM(BaseController):\n",
    "    \n",
    "    #added method (not sure if necessary)\n",
    "    def __init__(self, veh_id, v0=30, T=1, a=1, b=1.5, \n",
    "                 delta=4, s0=2, s1=0, time_delay=0.0, \n",
    "                 dt=0.1, noise=0, fail_safe=None, sumo_cf_params=None):\n",
    "        \"\"\"Docstring eliminated here for brevity\"\"\"\n",
    "        BaseController.__init__(self, veh_id, sumo_cf_params,\n",
    "                                delay=time_delay, fail_safe=fail_safe,\n",
    "                                noise=noise)\n",
    "        #initiate hyperparams (params with more meta context)\n",
    "        #initial desired headway of vehicle \n",
    "        self.s0 = 2\n",
    "        \n",
    "        #initial veloctiy to start simulation\n",
    "        self.v0 = 30\n",
    "        \n",
    "        #Headway calibration deterining weight of current speed for headway (time reaction)\n",
    "        self.T = 1\n",
    "        \n",
    "        #exponential of decreasing acceleration due to current velocity\n",
    "        self.delta = 4\n",
    "        \n",
    "        #base acceleration\n",
    "        self.a = 1\n",
    "        \n",
    "        #proportionality constant for high relative speed added headway\n",
    "        self.b = 1.5\n",
    "        \n",
    "        #desired headway function\n",
    "        \n",
    "        self.v0 = v0\n",
    "        self.T = T\n",
    "        self.a = a\n",
    "        self.b = b\n",
    "        self.delta = delta\n",
    "        self.s0 = s0\n",
    "        self.s1 = s1\n",
    "        self.dt = dt\n",
    "        \n",
    "\n",
    "    def get_accel(self, env):\n",
    "        # bumper-to-bumper headway\n",
    "        h = env.vehicles.get_headway(self.veh_id)\n",
    "\n",
    "        # speed of the current vehicle\n",
    "        v = env.vehicles.get_speed(self.veh_id)\n",
    "\n",
    "        # speed of the lead vehicle\n",
    "        v_l = env.vehicles.get_speed(env.vehicles.get_leader(self.veh_id))\n",
    "\n",
    "        ######################################\n",
    "        ###### your implementation here ######\n",
    "        # as it sees fit at these points.\n",
    "        lead_id = env.vehicles.get_leader(self.veh_id)\n",
    "        if abs(h) < 1e-3: #avoids div by 0\n",
    "            h = 1e-3\n",
    "\n",
    "        if lead_id is None or lead_id == '':  # no car ahead\n",
    "            s_star = 0\n",
    "        else:\n",
    "            s_star = self.s0 + max(0, \n",
    "                                   v * self.T + v*(v-v_l) / (2*np.sqrt(self.a*self.b)))        \n",
    "        acceleration = self.a*(1 - np.power((v/self.v0), self.delta) -  np.power((s_star/h),2))\n",
    "        ######################################\n",
    "        ######################################\n",
    "\n",
    "        # return the acceleration of the current vehicle\n",
    "        return acceleration"
   ]
  },
  {
   "cell_type": "markdown",
   "metadata": {},
   "source": [
    "### b. Preparing the simulation\n",
    "\n",
    "Next, we will run the simulation in SUMO using the *SumoExperiment* class in Flow. This class allows us to specify the type of scenario we would like to simulate as well as the longitudinal and lateral dynamics of vehicles in the simulation. Referring to the [tutorial in Flow on simulating traffic](https://github.com/berkeleyflow/flow/blob/master/tutorials/tutorial01_sumo.ipynb), fill in the below parameters in order to produce an experiment with a single lane ring road network of length 260 m with a total of 22 vehicles following the IDM model from part a), where the vehicles are initially perturbed from equal spacing by an additive random normal term with standard deviation 1.0 m."
   ]
  },
  {
   "cell_type": "code",
   "execution_count": 244,
   "metadata": {},
   "outputs": [],
   "source": [
    "# some objects we will use to define the parameters of the simulation\n",
    "from flow.core.params import EnvParams, SumoParams, NetParams, InitialConfig\n",
    "from flow.core.vehicles import Vehicles\n",
    "\n",
    "from flow.scenarios.loop.loop_scenario import ADDITIONAL_NET_PARAMS #added from tutorial\n",
    "\n",
    "# these are the scenario and generator classes for the ring road (they do not need to be modified)\n",
    "from flow.scenarios.loop.loop_scenario import LoopScenario\n",
    "from flow.scenarios.loop.gen import CircleGenerator\n",
    "\n",
    "# this is the environment we will be using during the simulation (it does not need to be modified)\n",
    "from flow.envs.test import TestEnv\n",
    "\n",
    "# the EnvParams object is left empty for the above environment (this does not need to be modified)\n",
    "env_params = EnvParams()\n",
    "\n",
    "#from flow.controllers.car_following_models import IDMController #import IDM Controller (added)\n",
    "from flow.controllers.routing_controllers import ContinuousRouter\n",
    "\n",
    "\n",
    "\n",
    "######################################################\n",
    "############ modify everything below here ############\n",
    "######################################################\n",
    "\n",
    "# add 22 vehicles with the \"IDM\" acceleration controller from section a)\n",
    "vehicles = Vehicles()\n",
    "vehicles.add(\"human\",\n",
    "             acceleration_controller=(IDM, {}),\n",
    "             routing_controller=(ContinuousRouter, {}),\n",
    "             num_vehicles=22)\n",
    " ### modify this function call ###\n",
    "\n",
    "# modify the NetParams object to support a ring road of length 230 m\n",
    "net_params = NetParams(additional_params=ADDITIONAL_NET_PARAMS)  ### modify this class instantiation ###\n",
    "\n",
    "# start all vehicles with perturbation standard deviation of 1.0 m\n",
    "initial_config = InitialConfig(spacing=\"uniform\", perturbation=0)  ### modify this class instantiation ### \n",
    "#second run no perturbation\n",
    "\n",
    "# run the simulation with a simulation step of 0.1s and activate the GUI for visualization purposes\n",
    "sumo_params = SumoParams(sim_step=0.1, sumo_binary=\"sumo-gui\")  ### modify this class instantiation ###"
   ]
  },
  {
   "cell_type": "markdown",
   "metadata": {},
   "source": [
    "Once the above parameters are ready, we can start the simulation using the code snippet below to see how well the network performs when the vehicles are initially perturbed. If your model and network are designed correctly, then after some time the vehicles should begin bunching together and accelerating quickly when they are at the front of the backwards propagating queue. This is known as a \"stop-and-go wave\"."
   ]
  },
  {
   "cell_type": "code",
   "execution_count": 245,
   "metadata": {},
   "outputs": [
    {
     "name": "stdout",
     "output_type": "stream",
     "text": [
      "Round 0, return: 0\n",
      "Average, std return: 0.0, 0.0\n",
      "Average, std speed: 3.4169738608644606, 0.0\n",
      "------------------\n",
      "Average speed in final time step: 3.4540661790240335 m/s\n"
     ]
    }
   ],
   "source": [
    "from flow.core.experiment import SumoExperiment\n",
    "\n",
    "scenario = LoopScenario(name=\"ring_road\",\n",
    "                        generator_class=CircleGenerator,\n",
    "                        vehicles=vehicles,\n",
    "                        net_params=net_params,\n",
    "                        initial_config=initial_config)\n",
    "\n",
    "env = TestEnv(env_params, sumo_params, scenario)\n",
    "\n",
    "exp = SumoExperiment(env, scenario)\n",
    "info_dict = exp.run(1, 3000)\n",
    "\n",
    "print(\"------------------\")\n",
    "print(\"Average speed in final time step: {} m/s\".format(info_dict[\"velocities\"][0][-1]))"
   ]
  },
  {
   "cell_type": "markdown",
   "metadata": {},
   "source": [
    "Fill in the variable **v_perturbed** below to get the the average speed of all vehicles in the network at the end of the simulation when the vehicles are perturbed. Then, rerun the above simulation when the initial perturbation is set to 0.0 m, and fill in **v_nonperturbed** with this value."
   ]
  },
  {
   "cell_type": "code",
   "execution_count": 246,
   "metadata": {},
   "outputs": [],
   "source": [
    "# average speed of all vehicles in the network at the end of the simulation when the vehicles are perturbed\n",
    "v_perturbed =  2.381582250518761#m/s\n",
    "\n",
    "# average speed of all vehicles in the network at the end of the simulation when the vehicles are not perturbed\n",
    "v_nonperturbed = 3.4540661790240335 #m/s"
   ]
  },
  {
   "cell_type": "markdown",
   "metadata": {},
   "source": [
    "### c. Designing a stabilizing controller\n",
    "\n",
    "The perturbed a non-perturbed average speeds above given us a sense of how well the scenario can perform in the presence and absence of disturbances, respectively. Autonomous vehicles present a means of potentially alleviating the negative effects of the initial perturbation. Several approaches have been recommended to do so, some of which can roughly be reduced to:\n",
    "\n",
    "- Drive at a speed close to but below the optimal speed (v_nonperturbed).\n",
    "- Try to drive halfway between vehicle in front and behind.\n",
    "- Accelerate and decelerate slowly so as not to return to the location of the wave before it has partially been attenuated.\n",
    "\n",
    "Taking inspiration from these recommendations, or from your own understanding of the problem, design a controller in the code snippet below that can improve the performance of the network in terms of the final attained average velocity using only the speed of the ego vehicle and the speeds and bumper-to-bumper gaps with the lead and lag vehicles."
   ]
  },
  {
   "cell_type": "code",
   "execution_count": 279,
   "metadata": {},
   "outputs": [],
   "source": [
    "from flow.controllers import BaseController\n",
    "\n",
    "\n",
    "class StabilizingController(BaseController):\n",
    "\n",
    "    def get_accel(self, env):\n",
    "        # speed of the current vehicle\n",
    "        v = env.vehicles.get_speed(self.veh_id)\n",
    "\n",
    "        # bumper-to-bumper headway with the lead vehicle\n",
    "        h = env.vehicles.get_headway(self.veh_id)\n",
    "\n",
    "        # speed of the lead vehicle\n",
    "        v_l = env.vehicles.get_speed(env.vehicles.get_leader(self.veh_id))\n",
    "\n",
    "        # bumper-to-bumper headway with the lag vehicle\n",
    "        h_lag = env.vehicles.get_headway(env.vehicles.get_follower(self.veh_id))\n",
    "\n",
    "        # speed of the lag vehicle\n",
    "        v_lag = env.vehicles.get_speed(env.vehicles.get_follower(self.veh_id))\n",
    "\n",
    "        ######################################\n",
    "        ###### your implementation here ######\n",
    "        \"\"\"\n",
    "        #i just use IDM with different parameters here\n",
    "        #lower a and b so as to achieve a larger magnitude of s_star\n",
    "        #this will severely DECREASE acceleration so as to not crash the one in front; keeping it stable\n",
    "        #initiate hyperparams (params with more meta context)\n",
    "        #initial desired headway of vehicle\n",
    "        \"\"\"\n",
    "        '''\n",
    "        Draft 1: just do IDM with same parameters lol\n",
    "        '''\n",
    "        '''\n",
    "        self.s0 = 2\n",
    "        \n",
    "        #initial veloctiy to start simulation\n",
    "        self.v0 = 30\n",
    "        \n",
    "        #Headway calibration deterining weight of current speed for headway (time reaction)\n",
    "        self.T = 1\n",
    "        \n",
    "        #exponential of decreasing acceleration due to current velocity\n",
    "        self.delta = 4\n",
    "        \n",
    "        #base acceleration\n",
    "        self.a = 1\n",
    "        \n",
    "        #proportionality constant for high relative speed added headway\n",
    "        self.b = 1.5\n",
    "        \n",
    "        #desired headway function\n",
    "        ######################################\n",
    "        ######################################\n",
    "        lead_id = env.vehicles.get_leader(self.veh_id)\n",
    "        if abs(h) < 1e-3: #avoids div by 0\n",
    "            h = 1e-3\n",
    "\n",
    "        if lead_id is None or lead_id == '':  # no car ahead\n",
    "            s_star = 0\n",
    "        else:\n",
    "            s_star = self.s0 + max(0, \n",
    "                                   v * self.T + v*(v-v_l) / (2*np.sqrt(self.a*self.b)))        \n",
    "        acceleration = self.a*(1 - np.power((v/self.v0), self.delta) -  np.power((s_star/h),2))\n",
    "        # return the acceleration of the current vehicle\n",
    "        return acceleration'''\n",
    "        '''\n",
    "        Draft 2: Do what the hints say. \n",
    "        '''\n",
    "        T = 0.1\n",
    "        chase_opt = (v_nonperturbed - v)/T\n",
    "        #maintain the same headway, and stay roughly in middle of front and behind cars\n",
    "        #1/aT^2 = avg position of front and back = 1/2(v_lT + h_l + v_lagT - h_lag)\n",
    "        staymid = (v_l + v_lag)/T + (h-h_lag)/T**2\n",
    "        combo = 0.001*staymid + 0.999*chase_opt #linear combination that has sum(weights) = 1. turns out that chasing optimum \n",
    "        #is BETTER than just saying in middle, as all will have UNIFORM VEL DISTRIBUTION. this is determined only empirically not theoretically\n",
    "        acceleration = 0.7*combo #regularizes ie makes acceleration less and more stable\n",
    "        return acceleration"
   ]
  },
  {
   "cell_type": "markdown",
   "metadata": {},
   "source": [
    "Finally, run the below script to see how well your controller performs. You may use this simulation and the resulting plot to adjust the parameters of your hand-designed controller."
   ]
  },
  {
   "cell_type": "code",
   "execution_count": 280,
   "metadata": {
    "scrolled": false
   },
   "outputs": [
    {
     "name": "stdout",
     "output_type": "stream",
     "text": [
      "Round 0, return: 0\n",
      "Average, std return: 0.0, 0.0\n",
      "Average, std speed: 3.4283563787908062, 0.0\n"
     ]
    },
    {
     "data": {
      "image/png": "[encoded data removed]",
      "text/plain": [
       "<matplotlib.figure.Figure at 0x7f6708562da0>"
      ]
     },
     "metadata": {},
     "output_type": "display_data"
    }
   ],
   "source": [
    "##########################################\n",
    "######## Simulating AV controller ########\n",
    "##########################################\n",
    "\n",
    "# length of one simulation, in time steps\n",
    "NUM_STEPS = 3000\n",
    "\n",
    "# we now have 21 vehicles using the IDM model and one using the above AV controller\n",
    "vehicles = Vehicles()\n",
    "vehicles.add(veh_id=\"human\", \n",
    "             acceleration_controller=(IDM, {}),\n",
    "             routing_controller=(ContinuousRouter, {}),\n",
    "             num_vehicles=21)\n",
    "vehicles.add(veh_id=\"AV\", \n",
    "             acceleration_controller=(StabilizingController, {}),\n",
    "             routing_controller=(ContinuousRouter, {}),\n",
    "             num_vehicles=1)\n",
    "\n",
    "# the scenario and environment remain the same\n",
    "scenario = LoopScenario(name=\"ring_road\",\n",
    "                        generator_class=CircleGenerator,\n",
    "                        vehicles=vehicles,\n",
    "                        net_params=net_params,\n",
    "                        initial_config=initial_config)\n",
    "\n",
    "env = TestEnv(env_params, sumo_params, scenario)\n",
    "\n",
    "exp = SumoExperiment(env, scenario)\n",
    "info_dict = exp.run(1, NUM_STEPS)\n",
    "\n",
    "\n",
    "##########################################\n",
    "############ Plotting results ############\n",
    "##########################################\n",
    "\n",
    "import matplotlib.pyplot as plt\n",
    "\n",
    "plt.figure(figsize=(12,8))\n",
    "plt.title(\"Stabilizing Controller Performance\", fontsize=25)\n",
    "plt.xlabel(\"time step\", fontsize=20)\n",
    "plt.ylabel(\"average speed (m/s)\", fontsize=20)\n",
    "plt.plot(info_dict[\"velocities\"][0], c='k', label=\"average speed with one AV\")\n",
    "plt.plot([v_nonperturbed] * NUM_STEPS, '--', c='b', label=\"non-perturbed average speed\")\n",
    "plt.plot([v_perturbed] * NUM_STEPS, '--', c='r', label=\"perturbed average speed\")\n",
    "plt.legend(fontsize=20)\n",
    "plt.xticks(fontsize=15)\n",
    "plt.yticks(fontsize=15)\n",
    "plt.show()"
   ]
  },
  {
   "cell_type": "markdown",
   "metadata": {},
   "source": [
    "### d. Checking the generalizability of the controller\n",
    "\n",
    "Now that we have designed a control strategy that can at least somewhat dissipate the formation of waves in a 260 m ring road with 22 vehicles following a deterministic car-following model, let us consider a more difficult representation of the problem. In the below cell, we place the above controller on a denser 230 m ring road where the accelerations dictated to the individual vehicles by the Intelligent Driver Model are augmented by an additional exongenuous gaussian term $\\mathcal{N} \\sim (0, 0.2)$ to model the stochasticity of human driver behavior.\n",
    "\n",
    "Run the below cell (**note**: you do not have to modify your controller for this problem). Then, list 1-2 potential deficiencies of your controller. Some questions you may want to ask yourself include:\n",
    "- Is your controller generalizable enough to handle this new setting? \n",
    "- Is it transferable, for instance, to straight highways, and networks with multiple lanes were vehicles can move laterally as well?"
   ]
  },
  {
   "cell_type": "code",
   "execution_count": 281,
   "metadata": {},
   "outputs": [
    {
     "name": "stdout",
     "output_type": "stream",
     "text": [
      "Round 0, return: 0\n",
      "Average, std return: 0.0, 0.0\n",
      "Average, std speed: 3.4258985390336076, 0.0\n"
     ]
    },
    {
     "data": {
      "image/png": "[encoded data removed]",
      "text/plain": [
       "<matplotlib.figure.Figure at 0x7f67074c50b8>"
      ]
     },
     "metadata": {},
     "output_type": "display_data"
    }
   ],
   "source": [
    "#########################################################\n",
    "######## Simulating AV controller in new setting ########\n",
    "#########################################################\n",
    "\n",
    "# length of one simulation, in time steps\n",
    "NUM_STEPS = 3000\n",
    "\n",
    "# we now have 21 vehicles using the IDM model and one using the above AV controller\n",
    "vehicles = Vehicles()\n",
    "vehicles.add(veh_id=\"human\", \n",
    "             acceleration_controller=(IDM, {\"noise\": 0.2}),  # the \"noise\" term is used to add exogenous noise\n",
    "             routing_controller=(ContinuousRouter, {}),\n",
    "             num_vehicles=21)\n",
    "vehicles.add(veh_id=\"AV\", \n",
    "             acceleration_controller=(StabilizingController, {}),\n",
    "             routing_controller=(ContinuousRouter, {}),\n",
    "             num_vehicles=1)\n",
    "\n",
    "# we modify the length of the network from its net_params component\n",
    "net_params.additional_params[\"length\"] = 230\n",
    "\n",
    "# all other components of the scenario and environment remain the same\n",
    "new_scenario = LoopScenario(name=\"ring_road\",\n",
    "                            generator_class=CircleGenerator,\n",
    "                            vehicles=vehicles,\n",
    "                            net_params=net_params,\n",
    "                            initial_config=initial_config)\n",
    "\n",
    "env = TestEnv(env_params, sumo_params, new_scenario)\n",
    "\n",
    "exp = SumoExperiment(env, new_scenario)\n",
    "info_dict = exp.run(1, NUM_STEPS)\n",
    "\n",
    "\n",
    "##########################################\n",
    "############ Plotting results ############\n",
    "##########################################\n",
    "\n",
    "# v_perturbed and v_nonperturbed for this problem are different,\n",
    "# however, they can be calculated in the same way\n",
    "v_perturbed_new = 2.380637680521127\n",
    "v_nonperturbed_new = 3.4540661790240335\n",
    "\n",
    "import matplotlib.pyplot as plt\n",
    "\n",
    "plt.figure(figsize=(12,8))\n",
    "plt.title(\"Stabilizing Controller Performance\", fontsize=25)\n",
    "plt.xlabel(\"time step\", fontsize=20)\n",
    "plt.ylabel(\"average speed (m/s)\", fontsize=20)\n",
    "plt.plot(info_dict[\"velocities\"][0], c='k', label=\"average speed with one AV\")\n",
    "plt.plot([v_nonperturbed_new] * NUM_STEPS, '--', c='b', label=\"non-perturbed equilibrium\")\n",
    "plt.plot([v_perturbed_new] * NUM_STEPS, '--', c='r', label=\"perturbed equilibrium\")\n",
    "plt.legend(fontsize=20)\n",
    "plt.xticks(fontsize=15)\n",
    "plt.yticks(fontsize=15)\n",
    "plt.show()"
   ]
  },
  {
   "cell_type": "markdown",
   "metadata": {},
   "source": [
    "$$\\textbf{Student responses}$$\n",
    "\n",
    "Is your controller generalizable enough to handle this new setting?\n",
    "\n",
    "Based on the results, yes, but maybe less greedy approaches should be used. We should also calculate probabilities and variances of the next car's position due to the additional noise, and then choose a safer strategy that may have less pertubation and velocity variance.\n",
    "\n",
    "Is it transferable, for instance, to straight highways, and networks with multiple lanes were vehicles can move laterally as well?\n",
    "\n",
    "Yes I believe more so, since one person slowing down will not cause a loop effect, and rather just influence those behind. Those behind can then split themselves among lanes, easing the traffic flow.\n",
    "\n",
    "\n",
    "\n",
    "Weaknesses:  Main one is that it's too greedy. The cars in front don't have to follow out policy, so if one slows us down then the rest will slow down in a chain reaction. The staying in the middle is a good policy to follow to regularize this, as does our 0.7 regularization of the acceleration to slow it down a little to prevent instability. Some improvements could be made taking advantage of larger headways for example, and thus one car slowing down will not immediately force the next car to stay in the middle and be slow and instead go into the headway a little bit. We need to account for humans slowing everything down!\n",
    "\n",
    "\n"
   ]
  },
  {
   "cell_type": "markdown",
   "metadata": {},
   "source": [
    "# Question 3: Value/Bellman Iteration\n",
    "Value iteration is a key idea that underlies a lot of reinforcement learning, in particular Q-Learning, which 20 years later is still an incredibly popular algorithm. To make sure that you have a good understanding of value iteration as a solution to the Bellman equation, this exercise takes you through three ways of solving the Bellman equations.\n",
    "\n",
    "Let's take an over-simplified traffic light example. Imagine you have a two-way intersection with traffic travelling only North-South or East-West (similar to question 1). Because traffic can only flow in one direction at a time, whenever the light is green in one direction a queue will begin to form in the other. To keep the number of states small, let us characterize the queues that form as either High (corresponding to large number of vehicles) or Low (corresponding to very few vehicles in the queue). The state space of this problem is then:\n",
    "\n",
    "\\begin{equation}\n",
    "\\mathcal{S}: \\{\\text{Low-Low, Low-High, High-Low, High-High}\\}\n",
    "\\end{equation}\n",
    "\n",
    "where the first element is associated with the North-South queue and the second with the East-West queue. \n",
    "\n",
    "Treating the controllable agents in the problem as the traffic lights at the intersection, the actions are simply to switch the state of the traffic light to be green on either the North-South ($\\updownarrow$) or East-West ($\\leftrightarrow$) directions:\n",
    "\n",
    "\\begin{equation}\n",
    "\\mathcal{A}: \\{ \\updownarrow, \\leftrightarrow \\}\n",
    "\\end{equation}\n",
    "\n",
    "In this situation, we want to minimize total queue formation; subsequently, we formulate our reward $R(s,a)$ as\n",
    "\n",
    "$$\n",
    "\\begin{array}{|c|c|c|}\n",
    "\\hline \n",
    " s                & a & R(s,a) \\\\\n",
    "\\hline\n",
    " \\text{Low-Low}   & \\updownarrow / \\leftrightarrow & 3 \\\\ \\hline\n",
    " \\text{High-Low}  & \\updownarrow / \\leftrightarrow & 2 \\\\ \\hline\n",
    " \\text{Low-High}  & \\updownarrow / \\leftrightarrow & 2 \\\\ \\hline\n",
    " \\text{High-High} & \\updownarrow / \\leftrightarrow & 1 \\\\ \\hline\n",
    "\\end{array}\n",
    "$$\n",
    "\n",
    "In order to model the dynamics of the intersection, we will use a simplistic stochastic transition function $P(s' | s, a)$. Note that the true transition function is probably a good deal more complicated.\n",
    "\n",
    "$$\n",
    "\\begin{array}{|c|c|c|c|}\n",
    "\\hline\n",
    "s' & s & a & P(s'|s,a)\\\\ \\hline\n",
    "\\text{Low-High}  & \\text{Low-Low}   & \\updownarrow & 0.5  \\\\ \\hline\n",
    "\\text{Low-Low}   & \\text{Low-Low}   & \\updownarrow & 0.5  \\\\ \\hline\n",
    "\\text{High-Low}  & \\text{Low-Low}   & \\leftrightarrow & 1.0  \\\\ \\hline\n",
    "\\text{High-High} & \\text{High-Low}  & \\updownarrow & 0.25 \\\\ \\hline\n",
    "\\text{Low-High}  & \\text{High-Low}  & \\updownarrow & 0.25 \\\\ \\hline\n",
    "\\text{Low-Low}   & \\text{High-Low}  & \\updownarrow & 0.5  \\\\ \\hline\n",
    "\\text{High-Low}  & \\text{High-Low}  & \\leftrightarrow & 1.0 \\\\ \\hline\n",
    "\\text{High-Low}  & \\text{Low-High}  & \\leftrightarrow & 1.0 \\\\ \\hline\n",
    "\\text{Low-High}  & \\text{Low-High}  & \\updownarrow & 1.0 \\\\ \\hline\n",
    "\\text{Low-High}  & \\text{High-High} & \\updownarrow & 1.0 \\\\ \\hline\n",
    "\\text{High-Low}  & \\text{High-High} & \\leftrightarrow & 1.0 \\\\ \\hline\n",
    "\\end{array}\n",
    "$$\n",
    "\n",
    "### a. Explicit solutions of the Bellman equations\n",
    "The analytic form of the solution to the Bellman equations is:\n",
    "\n",
    "$$V^*(s) = \\underset{a}{\\text{max}} \\ \\left[R(s,a) + \\gamma \\sum_{s'}P(s'|s,a)V^*(s')\\right]$$\n",
    "\n",
    "Because of the \"max\" argument on the outside, this problem is non-linear and very difficult to solve analytically. However, if instead we want to just solve for the value function with respect to a fixed policy, then the maximization term disappears and we can instead solve a linear set of equations.\n",
    "\n",
    "Consider the following policy $\\pi$:\n",
    "$$\n",
    "\\begin{array}{|c|c|}\n",
    "\\hline \n",
    " s & \\pi(s) \\\\\n",
    "\\hline\n",
    " \\text{Low-Low} & \\updownarrow \\\\ \\hline\n",
    " \\text{High-Low} & \\updownarrow \\\\ \\hline\n",
    " \\text{Low-High} & \\leftrightarrow \\\\ \\hline\n",
    " \\text{High-High} & \\updownarrow \\\\ \\hline\n",
    "\\end{array}\n",
    "$$\n",
    "\n",
    "Set up a set of linear equations that can be used to solve for the value function $V^\\pi$ for each of the four states.\n",
    "\n",
    "$$\\textbf{STUDENT SOLUTION FOR PART A}$$\n",
    "$$V^{\\pi}(\\text{Low-Low}) = R(\\text{Low-Low}, \\updownarrow) + \\gamma \\sum_{s'}P(s'|\\text{Low-Low}, \\updownarrow)V^{\\pi}(s')\\\\\n",
    "V^{\\pi}(\\text{High-Low}) = R(\\text{High-Low}, \\updownarrow) + \\gamma \\sum_{s'}P(s'|\\text{High-Low}, \\updownarrow)V^{\\pi}(s')\\\\\n",
    "V^{\\pi}(\\text{Low-High}) = R(\\text{Low-High}, \\leftrightarrow) + \\gamma \\sum_{s'}P(s'|\\text{Low-High}, \\leftrightarrow )V^{\\pi}(s')\\\\\n",
    "V^{\\pi}(\\text{High-High}) = R(\\text{High-High}, \\updownarrow) + \\gamma \\sum_{s'}P(s'|\\text{High-High}, \\updownarrow)V^{\\pi}(s')$$\n",
    "\n",
    "simplifying, we obtain:\n",
    "\n",
    "\n",
    "$$V^{\\pi}(\\text{Low-Low}) = 3 + \\gamma (0.5V^{\\pi}(\\text{Low-High}) + 0.5V^{\\pi}(\\text{Low-Low}))\\\\\n",
    "V^{\\pi}(\\text{High-Low}) = 2 + \\gamma (0.25V^{\\pi}(\\text{High-High}) + 0.25V^{\\pi}(\\text{Low-High}) + 0.5V^{\\pi}(\\text{Low-Low}))\\\\\n",
    "V^{\\pi}(\\text{Low-High}) =2 + \\gamma V^{\\pi}(\\text{High-Low}) \\\\\n",
    "V^{\\pi}(\\text{High-High}) = 1 + \\gamma V^{\\pi}(\\text{Low-High}) $$\n",
    "\n",
    "This is a system of 4 equations and 4 variables (linearly independent) so can be analytically determined given a $\\gamma$ value.\n",
    "\n",
    "### b. Value iteration\n",
    "Now, suppose we want to solve for the value function for the optimal policy. Denoting the initial value function as $V^0(s)$, initialize the value function as $V^0(s) = R(s)$, and perform one round of policy iteration to compute $V^1(s)$. Assume a discount value $\\gamma = 0.5$.\n",
    "\n",
    "\n",
    "$$\\textbf{STUDENT SOLUTION FOR PART B}$$\n",
    "$$\n",
    "\\begin{array}{|c|c|}\n",
    "\\hline \n",
    " s & V^{0}(s) \\\\\n",
    "\\hline\n",
    " \\text{Low-Low} & 3 \\\\ \\hline\n",
    " \\text{High-Low} & 2 \\\\ \\hline\n",
    " \\text{Low-High} & 2 \\\\ \\hline\n",
    " \\text{High-High} & 1 \\\\ \\hline\n",
    "\\end{array}\n",
    "$$\n",
    "\n",
    "Using $$V^{t+1}(s) = \\underset{a}{\\text{max}} \\ \\left[R(s,a) + \\gamma \\sum_{s'}P(s'|s,a)V^t(s')\\right]$$ and choosing among the action set of \\begin{equation}\n",
    "\\mathcal{A}: \\{ \\updownarrow, \\leftrightarrow \\}\n",
    "\\end{equation}\n",
    "\n",
    "the maximum can be chosen discretely simply by searching over all possible actions (only 2), and by using all the values we have as known. Doing as such gives us\n",
    "\n",
    "$$\n",
    "\\begin{array}{|c|c|}\n",
    "\\hline \n",
    " s & V^{1}(s) \\\\\n",
    "\\hline\n",
    " \\text{Low-Low} & 4.25 \\\\ \\hline\n",
    " \\text{High-Low} & 3.125 \\\\ \\hline\n",
    " \\text{Low-High} & 3 \\\\ \\hline\n",
    " \\text{High-High} & 2 \\\\ \\hline\n",
    "\\end{array}\n",
    "$$\n",
    "\n",
    "\n",
    "### c. Computational solution\n",
    "Computing one round of policy iteration takes quite a while by hand. So now that you've built up some intuition for it, set up some code to perform further value of iterations. Run the code until one of these two conditions are reached:\n",
    "\n",
    "1. 150 sets of value iteration have occured.\n",
    "2. The smallest change in the value function of any state is less than .01. In more mathematical terms, the termination condition is: $ \\text{min }|V^t(s) - V^{t+1}(s)|<.01 \\ \\ \\  \\forall s\\in \\mathcal{S} $\n",
    "\n",
    "Note that the second condition should be reached well before the first. If you're hitting the first, there's probably something wrong with your code."
   ]
  },
  {
   "cell_type": "code",
   "execution_count": 29,
   "metadata": {},
   "outputs": [
    {
     "name": "stdout",
     "output_type": "stream",
     "text": [
      "number of iterations 8\n",
      "[5.3662109375, 4.2412109375, 4.1162109375, 3.1162109375]\n",
      "['ud', 'ud', 'lr', 'lr']\n"
     ]
    }
   ],
   "source": [
    "#############################################\n",
    "####### add value iteration code here #######\n",
    "#############################################\n",
    "#set the lowlow state as 0 index, hl = 1, lh = 2, hh = 3\n",
    "GAMMA = 0.5\n",
    "\n",
    "V_0 = [3,2,2,1]\n",
    "V_t = V_0.copy()#don't point to same thing\n",
    "V_tplus1 = V_t.copy() #don't point to same thing\n",
    "policy = [0]*4\n",
    "num_iter = 150\n",
    "i=0\n",
    "while i < num_iter:\n",
    "    i += 1\n",
    "    #just do case work for each state and choosing the actions, since coding the table will be inconvenient to begin with\n",
    "    #we are already in a very limited state with few states and actions so should not be hard\n",
    "    \n",
    "    #update V(l,l)\n",
    "    V_ll_ud = 3 + GAMMA * (0.5*V_t[0] + 0.5*V_t[2])\n",
    "    V_ll_lr = 3 + GAMMA * (V_t[1])\n",
    "    \n",
    "    if V_ll_ud >= V_ll_lr:\n",
    "        V_tplus1[0] = V_ll_ud\n",
    "        policy[0] = \"ud\"\n",
    "    else:\n",
    "        V_tplus1[0] = V_ll_lr\n",
    "        policy[0] = \"lr\"\n",
    "        \n",
    "    #update V(hl)\n",
    "    V_hl_ud = 2 + GAMMA * (0.5*V_t[0] + 0.25*V_t[2] + 0.25*V_t[3])\n",
    "    V_hl_lr = 2 + GAMMA * (V_t[1])\n",
    "    \n",
    "    if V_hl_ud >= V_hl_lr:\n",
    "        V_tplus1[1] = V_hl_ud\n",
    "        policy[1] = \"ud\"\n",
    "    else:\n",
    "        V_tplus1[1] = V_hl_lr\n",
    "        policy[1] = \"lr\"\n",
    "   \n",
    "    #update V(lh)\n",
    "    V_lh_ud = 2 + GAMMA * (V_t[2])\n",
    "    V_lh_lr = 2 + GAMMA * (V_t[1])\n",
    "    \n",
    "    if V_lh_ud >= V_lh_lr:\n",
    "        V_tplus1[2] = V_lh_ud\n",
    "        policy[2] = \"ud\"\n",
    "    else:\n",
    "        V_tplus1[2] = V_lh_lr\n",
    "        policy[2] = \"lr\"\n",
    "        \n",
    "    #update V(hh)\n",
    "    V_hh_ud = 1 + GAMMA * (V_t[2])\n",
    "    V_hh_lr = 1 + GAMMA * (V_t[1])\n",
    "    \n",
    "    if V_hh_ud >= V_hh_lr:\n",
    "        V_tplus1[3] = V_hh_ud\n",
    "        policy[3] = \"ud\"\n",
    "    else:\n",
    "        V_tplus1[3] = V_hh_lr\n",
    "        policy[3] = \"lr\"\n",
    "    \n",
    "    #the spec said the min difference can be less than 0.01 but that doesn't guarantee that they all converge\n",
    "    #aboudy said it should actually be the max difference such that they all converge, so this is what I use\n",
    "    if max([vp1 - v for (vp1, v) in zip(V_tplus1, V_t)]) < 0.01:\n",
    "        break\n",
    "    V_t = V_tplus1.copy() #next iteration with new values; don't point to same things\n",
    "    \n",
    "\n",
    "print(\"number of iterations\", i)\n",
    "print(V_tplus1)\n",
    "print(policy)\n"
   ]
  },
  {
   "cell_type": "code",
   "execution_count": 30,
   "metadata": {},
   "outputs": [
    {
     "name": "stdout",
     "output_type": "stream",
     "text": [
      "low-low value 5.3662109375 low-low-action ud\n",
      "high-low value 4.2412109375 high-low-action ud\n",
      "low-high value 4.1162109375 low-high-action lr\n",
      "high-high value 3.1162109375 high-high-action lr\n"
     ]
    }
   ],
   "source": [
    "print('low-low value', V_tplus1[0], 'low-low-action', policy[0])\n",
    "print('high-low value', V_tplus1[1], 'high-low-action', policy[1])\n",
    "print('low-high value', V_tplus1[2], 'low-high-action', policy[2])\n",
    "print('high-high value', V_tplus1[3], 'high-high-action', policy[3])"
   ]
  },
  {
   "cell_type": "code",
   "execution_count": 55,
   "metadata": {},
   "outputs": [],
   "source": [
    "#generalize\n",
    "def value_iter(convergence_thresh=0.01, GAMMA = 0.5, max_iter=150):\n",
    "    V_0 = [3,2,2,1]\n",
    "    V_t = V_0.copy()#don't point to same thing\n",
    "    V_tplus1 = V_t.copy() #don't point to same thing\n",
    "    policy = [0]*4\n",
    "    num_iter = max_iter\n",
    "    i=0\n",
    "    while i < num_iter:\n",
    "        i += 1\n",
    "        #just do case work for each state and choosing the actions, since coding the table will be inconvenient to begin with\n",
    "        #we are already in a very limited state with few states and actions so should not be hard\n",
    "\n",
    "        #update V(l,l)\n",
    "        V_ll_ud = 3 + GAMMA * (0.5*V_t[0] + 0.5*V_t[2])\n",
    "        V_ll_lr = 3 + GAMMA * (V_t[1])\n",
    "\n",
    "        if V_ll_ud >= V_ll_lr:\n",
    "            V_tplus1[0] = V_ll_ud\n",
    "            policy[0] = \"ud\"\n",
    "        else:\n",
    "            V_tplus1[0] = V_ll_lr\n",
    "            policy[0] = \"lr\"\n",
    "\n",
    "        #update V(hl)\n",
    "        V_hl_ud = 2 + GAMMA * (0.5*V_t[0] + 0.25*V_t[2] + 0.25*V_t[3])\n",
    "        V_hl_lr = 2 + GAMMA * (V_t[1])\n",
    "\n",
    "        if V_hl_ud >= V_hl_lr:\n",
    "            V_tplus1[1] = V_hl_ud\n",
    "            policy[1] = \"ud\"\n",
    "        else:\n",
    "            V_tplus1[1] = V_hl_lr\n",
    "            policy[1] = \"lr\"\n",
    "\n",
    "        #update V(lh)\n",
    "        V_lh_ud = 2 + GAMMA * (V_t[2])\n",
    "        V_lh_lr = 2 + GAMMA * (V_t[1])\n",
    "\n",
    "        if V_lh_ud >= V_lh_lr:\n",
    "            V_tplus1[2] = V_lh_ud\n",
    "            policy[2] = \"ud\"\n",
    "        else:\n",
    "            V_tplus1[2] = V_lh_lr\n",
    "            policy[2] = \"lr\"\n",
    "\n",
    "        #update V(hh)\n",
    "        V_hh_ud = 1 + GAMMA * (V_t[2])\n",
    "        V_hh_lr = 1 + GAMMA * (V_t[1])\n",
    "\n",
    "        if V_hh_ud >= V_hh_lr:\n",
    "            V_tplus1[3] = V_hh_ud\n",
    "            policy[3] = \"ud\"\n",
    "        else:\n",
    "            V_tplus1[3] = V_hh_lr\n",
    "            policy[3] = \"lr\"\n",
    "\n",
    "        #the spec said the min difference can be less than 0.01 but that doesn't guarantee that they all converge\n",
    "        #aboudy said it should actually be the max difference such that they all converge, so this is what I use\n",
    "        if max([vp1 - v for (vp1, v) in zip(V_tplus1, V_t)]) <= convergence_thresh: #made equal to account for 0\n",
    "            print(\"num iter\", i)\n",
    "            return V_tplus1, policy\n",
    "        V_t = V_tplus1.copy() #next iteration with new values; don't point to same things\n",
    "    print(\"num iter\", i)\n",
    "    return V_tplus1, policy\n",
    "    "
   ]
  },
  {
   "cell_type": "code",
   "execution_count": 56,
   "metadata": {},
   "outputs": [
    {
     "name": "stdout",
     "output_type": "stream",
     "text": [
      "num iter 54\n",
      "[5.375, 4.25, 4.125, 3.125]\n",
      "['ud', 'ud', 'lr', 'lr']\n"
     ]
    }
   ],
   "source": [
    "value, optpol = value_iter(0,0.5,150)\n",
    "print(value) #true optimum since converged!\n",
    "print(optpol)"
   ]
  },
  {
   "cell_type": "markdown",
   "metadata": {},
   "source": [
    "### d. Conceptual check\n",
    "\n",
    "Pretend for a second that the value functions you've computed above are the optimal value functions (which they would be if you ran them long enough to make the error essentially zero). Given the optimal value functions and the transition functions, how would you find the optimal policy for any given state?\n",
    "\n",
    "\n",
    "Student solution: I already did that - I set the argmax of the Q value to be the optimal action of that state, in my policy vector. If I didn't do that, we can simply calculate the $Q(s,a)$ value state by state (using our optimal $V^*$ values guaranteeing that the policy is truly optimal), iterating through actions. In each state just choose the optimal action."
   ]
  },
  {
   "cell_type": "markdown",
   "metadata": {},
   "source": [
    "# Question 4: Why Stochastic Gradient Descent?\n",
    "\n",
    "In this problem we're going to explore the value of stochastic gradient descent and answer the following question: If you know the true gradient, what's the point of using stochastic gradient descent?\n",
    "\n",
    "Before we move on to trying out gradient descent and its variants to an interesting transportation problem, let's try a few examples to illustrate the power of gradient descent and the speed-boost we can pick up from stochastic gradient descent. \n",
    "\n",
    "We are trying to find a linear function that can be used to identify when a point is in one of two classes. The goal here is to find a weight vector $\\vec{w} \\in \\mathbb{R}^n$ that we can use to classify a sample $x_i$ as label -1 if $\\vec{w} \\cdot \\vec{x_i} > 0$ and label 1 if $\\vec{w} \\cdot \\vec{x_i} < 0$. Geometrically, a sample is in class 1 if it is on the same side of the hyper-plane as the weight vector. \n",
    "\n",
    "Let's start with a low-dimensional linear-classification example. First, let's generate some data. Because of the way we generate this data, we can guarantee that it can be separated by a hyper-plane. "
   ]
  },
  {
   "cell_type": "code",
   "execution_count": 6,
   "metadata": {},
   "outputs": [],
   "source": [
    "import numpy as np\n",
    "import matplotlib.pyplot as plt\n",
    "\n",
    "def generate_data(dim, batch_size=5000, visualize=False):\n",
    "    \"\"\"\n",
    "    Returns batch_size of vectors of length-dim, their associated labels, and the hyperplane used to generate them. \n",
    "    Labels are sampled from a random hyper-plane\n",
    "    \"\"\"\n",
    "    weights = np.random.rand(dim)\n",
    "    data = np.random.rand(batch_size, dim) - 0.5\n",
    "    labels = np.zeros(batch_size)\n",
    "    labels[np.dot(data, weights) > 0] = -1 #you can only do this syntax hacking with np.dot!\n",
    "    labels[np.dot(data, weights) <= 0] = 1\n",
    "    if visualize:\n",
    "        fig = plt.scatter(data[:,0], data[:,1], c=labels, cmap='bwr')\n",
    "        plt.show()\n",
    "    return data, labels, weights"
   ]
  },
  {
   "cell_type": "code",
   "execution_count": 7,
   "metadata": {
    "scrolled": false
   },
   "outputs": [
    {
     "data": {
      "image/png": "[encoded data removed]",
      "text/plain": [
       "<matplotlib.figure.Figure at 0x7f674c258a90>"
      ]
     },
     "metadata": {},
     "output_type": "display_data"
    },
    {
     "name": "stdout",
     "output_type": "stream",
     "text": [
      "The weights of the hyper-plane are: [ 0.56253349  0.80386137]\n"
     ]
    }
   ],
   "source": [
    "data, labels, true_weight = generate_data(dim=2, batch_size=2000, visualize=True)#changed from 200 to 2000 just to make a more dense illustration\n",
    "print(\"The weights of the hyper-plane are:\", true_weight)"
   ]
  },
  {
   "cell_type": "markdown",
   "metadata": {},
   "source": [
    "Now, for the purposes of illustration, we've actually returned the true weight vector but in general you might get data sampled from some random distribution and want to classify it. So, let's pretend we don't know the weight vector and attempt to recover it via gradient descent. To do so, we need a metric that tells you whether the weight vector is classifying things correctly. \n",
    "There are a lot of popular choices for loss functions, but for the purpose of simplicity let's use the following classification scheme.\n",
    "\n",
    "Notice from the sample implementation that if a data-point $x_i$ has $\\vec{w}\\cdot x_i > 0$ then its label $l_i$ is -1 so define:\n",
    "\n",
    "$$z_i = \\vec{w}\\cdot x_i$$\n",
    "\n",
    "We have that $l_i z_i < 0$ for everything with label -1. The same is true for all the points with label 1! So, if we compute $z_i$ for a given point with our test weight vector and it's positive, then we've got a misclassified sample! Motivated by this, let's define the loss as \n",
    "\n",
    "\\begin{equation}\n",
    "L = \\frac{1}{N} \\sum_{i=0}^N L(z_i, l_i)\n",
    "\\end{equation}\n",
    "\n",
    "where:\n",
    "\n",
    "\\begin{equation}\n",
    "L(z_i, l_i) =\n",
    "\\begin{cases}\n",
    "0 & l_i z_i < 0 \\\\\n",
    "l_i z_i & l_i z_i > 0 \\\\\n",
    "\\end{cases}\n",
    "\\end{equation}\n",
    "\n",
    "Now if we sum up over these, if the sum isn't zero, there's still a mis-classified point."
   ]
  },
  {
   "cell_type": "code",
   "execution_count": 8,
   "metadata": {},
   "outputs": [],
   "source": [
    "# an initial weight\n",
    "w0 = np.random.rand(2)#random\n",
    "#separate cell so as to not run this again! don't correupt experiement with randomness"
   ]
  },
  {
   "cell_type": "code",
   "execution_count": 178,
   "metadata": {},
   "outputs": [
    {
     "name": "stdout",
     "output_type": "stream",
     "text": [
      "0.00537673045241\n"
     ]
    }
   ],
   "source": [
    "def loss(weight, data, labels):\n",
    "    errors =  labels * np.dot(data, weight) #NOTE: THIS DOES A HADAMARD POINTWISE, NOT DOT PRODUCT\n",
    "    errors = errors[errors > 0]#get rid of and condense the negative and 0 elements so as to compute loss without them\n",
    "    return 1/data.shape[0] * np.sum(errors)\n",
    "\n",
    "# evaluate the loss to start\n",
    "print(loss(w0, data, labels))\n",
    "#print(w0)"
   ]
  },
  {
   "cell_type": "markdown",
   "metadata": {},
   "source": [
    "Now that we've shown how to set up a classification loss and generate the data, please solve the following problems:\n",
    "\n",
    "1. Generate a batch of 100000 data points of dimension two. For this data, compute the time to reduce the loss below .001 for batch sizes from 100 to a full batch in 10x increments. The full batch corresponds to normal gradient descent. Plot the batch-size vs. the time taken to convergence. Finally, in order to validate that your SGD operation is in fact converging to the right solution, print the normalized set of true hyper-plane parameters and the parameters you received in the 100 batch size case. **Warning**: do not recreate the data for each batch-size test as this can corrupt your results.\n",
    "2. Repeat the above problem but make the dimension of the data 50. \n",
    "\n",
    "**Hints**: \n",
    "- You can play around with the step-size, but a good starting point is often .01\n",
    "- Make sure to keep the step-size the same across batches, otherwise your comparison is invalid.\n",
    "\n",
    "Hopefully after this you can see why stochastic gradient descent is such a beloved technique, at least from the perspective of sample efficiency."
   ]
  },
  {
   "cell_type": "code",
   "execution_count": 96,
   "metadata": {},
   "outputs": [],
   "source": [
    "#import dependencies\n",
    "#EVERYTHING BELOW IS STUDENT EDITS\n",
    "import datetime\n",
    "import time\n",
    "from sklearn.model_selection import train_test_split\n",
    "import numpy.linalg"
   ]
  },
  {
   "cell_type": "code",
   "execution_count": 173,
   "metadata": {},
   "outputs": [
    {
     "data": {
      "image/png": "[encoded data removed]",
      "text/plain": [
       "<matplotlib.figure.Figure at 0x7f6707ff1550>"
      ]
     },
     "metadata": {},
     "output_type": "display_data"
    }
   ],
   "source": [
    "#################################\n",
    "####### add SGD code here #######\n",
    "#################################\n",
    "#Generate a batch of 100000 data points of dimension two. \n",
    "data, labels, true_weight = generate_data(dim=2, batch_size=100000, visualize=True)\n",
    "#Run only ONCE PER EXPERIMENT; DO NOT RERUN "
   ]
  },
  {
   "cell_type": "code",
   "execution_count": 174,
   "metadata": {},
   "outputs": [
    {
     "name": "stdout",
     "output_type": "stream",
     "text": [
      "[ 0.9304067   0.23389626]\n"
     ]
    }
   ],
   "source": [
    "print(true_weight) #the optimum of our gradient descent"
   ]
  },
  {
   "cell_type": "code",
   "execution_count": 175,
   "metadata": {},
   "outputs": [],
   "source": [
    "#For this data, compute the time to reduce the loss below .001 for batch sizes from 100 to a full batch in 10x increments.\n",
    "STEPSIZE = 0.01\n",
    "\n",
    "batch_sizes = [100, 1000, 10000, 100000]\n",
    "#batch_sizes[3] - data.shape[0] = 0 verifies that the full batch is the last batch size"
   ]
  },
  {
   "cell_type": "markdown",
   "metadata": {},
   "source": [
    "Note that the gradient of the function $$L(z_i, l_i)$$ with respect to the weight vector $$w = [w_1 w_2]^T$$ is given by the piecewise function\n",
    "\n",
    "$$\\nabla_w(L(z_i, l_i)) = \\begin{cases} 0 & l_iz_i < 0 \\\\ l_ix_i & l_iz_i \\geq 0 \\end{cases}$$  \n",
    "\n",
    "Therefore, using the linearity of the derivative and gradient operator, we have that:\n",
    "\n",
    "$$\\nabla_wL = \\frac{1}{N}\\sum\\limits_{l_iz_i > 0}{l_ix_i}$$"
   ]
  },
  {
   "cell_type": "code",
   "execution_count": 70,
   "metadata": {},
   "outputs": [
    {
     "name": "stdout",
     "output_type": "stream",
     "text": [
      "[-0.45355899  0.48084134]\n",
      "[-0.45355899  0.48084134]\n"
     ]
    }
   ],
   "source": [
    "#print(data) #visualizes the data\n",
    "#print(local_loss_grad(np.array([-0.1,0.2]), data[10], labels[10]))\n",
    "#print(np.add(np.array([0,0]), local_loss_grad(np.array([-0.1,0.2]), data[10], labels[10])))"
   ]
  },
  {
   "cell_type": "code",
   "execution_count": 188,
   "metadata": {},
   "outputs": [],
   "source": [
    "def local_loss_grad(weight, data, label):\n",
    "    if np.dot(weight, data)*label < 0:\n",
    "        return 0\n",
    "    else:\n",
    "        return label*data\n",
    "def gradient_of_loss(weight, data, labels):#slow\n",
    "    init_grad = np.array([0,0])\n",
    "    for i in range(len(labels)):\n",
    "        localloss = local_loss_grad(weight, data[i], labels[i])\n",
    "        init_grad = np.add(init_grad, localloss)\n",
    "    total_grad = init_grad\n",
    "    return total_grad/len(labels)\n",
    "def gradient_of_loss_2vec(weight, data, labels):\n",
    "    return sum([local_loss_grad(weight, datapt, label) for (datapt, label) in zip(data, labels)])"
   ]
  },
  {
   "cell_type": "code",
   "execution_count": 180,
   "metadata": {},
   "outputs": [],
   "source": [
    "weight_init = np.random.rand(2) #from the same distribution but not the same"
   ]
  },
  {
   "cell_type": "code",
   "execution_count": 181,
   "metadata": {},
   "outputs": [],
   "source": [
    "'''Playing around with the time \n",
    "start = time.time()\n",
    "totsum = sum([i for i in range(100000000)])\n",
    "end = time.time()\n",
    "print(end-start)\n",
    "For this data, compute the time to reduce the loss below .001 for batch sizes from 100 to a full batch in 10x increments.\n",
    "The full batch corresponds to normal gradient descent. Plot the batch-size vs. the time taken to convergence.\n",
    "'''\n",
    "times = [0]*len(batch_sizes)\n",
    "weights = [0]*len(batch_sizes)\n",
    "for i in range(len(batch_sizes)):\n",
    "    labeleddata = np.array(list(zip(data, labels)))\n",
    "    batchindices = np.random.choice(len(labeleddata), batch_sizes[i], replace = False)\n",
    "    batch = labeleddata[batchindices]\n",
    "    batch_labels = np.array([a[1] for a in batch])\n",
    "    batch_data = np.array([a[0] for a in batch])\n",
    "    weight = weight_init\n",
    "    start = time.clock()\n",
    "    while (loss(weight, batch_data, batch_labels) > 0.001):\n",
    "        gradient = gradient_of_loss_2vec(weight, batch_data, batch_labels)\n",
    "        weight = np.add(weight, -STEPSIZE*gradient)\n",
    "    end = time.clock()\n",
    "    times[i] = end-start\n",
    "    weights[i] = weight"
   ]
  },
  {
   "cell_type": "code",
   "execution_count": 183,
   "metadata": {},
   "outputs": [
    {
     "name": "stdout",
     "output_type": "stream",
     "text": [
      "[array([ 0.92461435,  0.38090459]), array([ 0.92461435,  0.38090459]), array([ 0.92461435,  0.38090459]), array([ 0.92461435,  0.38090459])]\n",
      "[ 0.96982416  0.24380547]\n",
      "difference [0.14436098495608685, 0.14436098495608685, 0.14436098495608685, 0.14436098495608685]\n"
     ]
    }
   ],
   "source": [
    "normalized_weights = [w/np.linalg.norm(w) for w in weights]\n",
    "print(normalized_weights)\n",
    "normalized_true_weight = true_weight/np.linalg.norm(true_weight)\n",
    "print(normalized_true_weight)\n",
    "print(\"difference\",[np.linalg.norm(nw - normalized_true_weight) for nw in normalized_weights])"
   ]
  },
  {
   "cell_type": "code",
   "execution_count": 184,
   "metadata": {},
   "outputs": [
    {
     "name": "stdout",
     "output_type": "stream",
     "text": [
      "weights: [array([ 0.66819247,  0.2752689 ]), array([ 0.66819247,  0.2752689 ]), array([ 0.66819247,  0.2752689 ]), array([ 0.66819247,  0.2752689 ])]\n",
      "optimum weight: [ 0.9304067   0.23389626]\n",
      "times: [5.000000055588316e-05, 7.000000005064066e-05, 0.0011020000001735752, 0.004382000000077824]\n"
     ]
    }
   ],
   "source": [
    "print(\"weights:\", weights)\n",
    "print(\"optimum weight:\", true_weight)\n",
    "print(\"times:\", times)"
   ]
  },
  {
   "cell_type": "code",
   "execution_count": 185,
   "metadata": {
    "scrolled": true
   },
   "outputs": [
    {
     "name": "stdout",
     "output_type": "stream",
     "text": [
      "[ 0.66819247  0.2752689 ]\n",
      "0.0\n",
      "0.000711023525592\n",
      "[0.00071102352559152373, 0.00071102352559152373, 0.00071102352559152373, 0.00071102352559152373]\n"
     ]
    }
   ],
   "source": [
    "print(weight_init)\n",
    "print(loss(true_weight, data, labels))\n",
    "print(loss(weight_init, data, labels))\n",
    "print([loss(weights[i], data, labels) for i in range(len(weights))])"
   ]
  },
  {
   "cell_type": "code",
   "execution_count": 112,
   "metadata": {},
   "outputs": [],
   "source": [
    "import matplotlib.pyplot as plt"
   ]
  },
  {
   "cell_type": "markdown",
   "metadata": {},
   "source": [
    "Plots for 2 dimensional case are given below with the batch size in the x axis"
   ]
  },
  {
   "cell_type": "code",
   "execution_count": 187,
   "metadata": {},
   "outputs": [
    {
     "data": {
      "text/plain": [
       "Text(0,0.5,'Time, in seconds')"
      ]
     },
     "execution_count": 187,
     "metadata": {},
     "output_type": "execute_result"
    },
    {
     "data": {
      "image/png": "[encoded data removed]",
      "text/plain": [
       "<matplotlib.figure.Figure at 0x7f67074845f8>"
      ]
     },
     "metadata": {},
     "output_type": "display_data"
    }
   ],
   "source": [
    "plt.plot(batch_sizes, times, 'ro')\n",
    "plt.xscale('log')\n",
    "plt.title('Batch size vs time correlation with logarithmic scale in the x axis' )\n",
    "plt.grid(True)\n",
    "plt.xlabel('Batch Size')\n",
    "plt.ylabel('Time, in seconds')"
   ]
  },
  {
   "cell_type": "markdown",
   "metadata": {},
   "source": [
    "Now, we do 50 DIMENSIONS OF SGD"
   ]
  },
  {
   "cell_type": "code",
   "execution_count": 122,
   "metadata": {},
   "outputs": [],
   "source": [
    "#generate the data\n",
    "#################################\n",
    "####### add SGD code here #######\n",
    "#################################\n",
    "#Generate a batch of 100000 data points of dimension 50\n",
    "data, labels, true_weight = generate_data(dim=50, batch_size=100000, visualize=False)#can't visualize 50 d accurately\n",
    "#as a 2d projection does do it justice\n",
    "#Run only ONCE PER EXPERIMENT; DO NOT RERUN "
   ]
  },
  {
   "cell_type": "code",
   "execution_count": 123,
   "metadata": {},
   "outputs": [
    {
     "name": "stdout",
     "output_type": "stream",
     "text": [
      "Optimum weight [ 0.44593578  0.73708697  0.83081289  0.34801974  0.73342596  0.22917023\n",
      "  0.43324391  0.9008106   0.33989193  0.36861853  0.78581493  0.83802684\n",
      "  0.75916086  0.74662081  0.10121134  0.89436363  0.25262807  0.26279223\n",
      "  0.39516854  0.94735079  0.28928044  0.35899923  0.36069599  0.58301969\n",
      "  0.6932478   0.90707319  0.89650499  0.73186624  0.12083741  0.73727048\n",
      "  0.70348697  0.88263228  0.16644815  0.22417859  0.45290122  0.78733469\n",
      "  0.90988357  0.90342262  0.3725944   0.06846944  0.23099891  0.66438548\n",
      "  0.12195685  0.1546207   0.14355442  0.06104522  0.18033076  0.30140014\n",
      "  0.73515639  0.42731735]\n"
     ]
    }
   ],
   "source": [
    "print(\"Optimum weight\", true_weight)"
   ]
  },
  {
   "cell_type": "markdown",
   "metadata": {},
   "source": [
    "The gradient remains the same as before since we took the gradient WLOG to the dimension. Keep in mind here that $x_i$ is actually dimension 50 instead though"
   ]
  },
  {
   "cell_type": "code",
   "execution_count": 170,
   "metadata": {},
   "outputs": [],
   "source": [
    "def local_loss_grad_50(weight, data, label):\n",
    "    assert len(data) == 50, \"Please make sure this is a 50 dimensional piece of data\"\n",
    "    if np.dot(weight, data)*label < 0:\n",
    "        return np.zeros(50)#should be a vector NOT A SCALAR as it is a GRADIENT\n",
    "    else:\n",
    "        return label*data #in R^50\n",
    "def gradient_of_loss_50(weight, data, labels):\n",
    "    init_grad = np.zeros(50)\n",
    "    for i in range(len(labels)):\n",
    "        localloss = local_loss_grad(weight, data[i], labels[i])\n",
    "        init_grad = np.add(init_grad, localloss)\n",
    "    total_grad = init_grad\n",
    "    return total_grad/len(labels)\n",
    "def gradient_of_loss_50vec(weight, data, labels):\n",
    "    return sum([local_loss_grad_50(weight, datapt, label) for (datapt, label) in zip(data, labels)])"
   ]
  },
  {
   "cell_type": "code",
   "execution_count": 157,
   "metadata": {},
   "outputs": [
    {
     "data": {
      "text/plain": [
       "array([ 0.,  0.,  0.,  0.,  0.,  0.,  0.,  0.,  0.,  0.,  0.,  0.,  0.,\n",
       "        0.,  0.,  0.,  0.,  0.,  0.,  0.,  0.,  0.,  0.,  0.,  0.,  0.,\n",
       "        0.,  0.,  0.,  0.,  0.,  0.,  0.,  0.,  0.,  0.,  0.,  0.,  0.,\n",
       "        0.,  0.,  0.,  0.,  0.,  0.,  0.,  0.,  0.,  0.,  0.])"
      ]
     },
     "execution_count": 157,
     "metadata": {},
     "output_type": "execute_result"
    }
   ],
   "source": [
    "#test the dimension\n",
    "#local_loss_grad50(np.random.rand(50), np.random.rand(50)-0.5, 1)\n",
    "#gradient_of_loss_50vec(np.ones(50), np.array([np.zeros(50), np.ones(50)]), np.array([1,-1])) #tests the vectorization"
   ]
  },
  {
   "cell_type": "code",
   "execution_count": 158,
   "metadata": {},
   "outputs": [],
   "source": [
    "#ONLY RUN ONCE PER EXPERIMENT TO HAVE CONSISTENT INITIALIZATION\n",
    "weight_init = np.random.rand(50) #from the same distribution but not the same vector normalized necessarily (unless you got luck)"
   ]
  },
  {
   "cell_type": "code",
   "execution_count": 159,
   "metadata": {},
   "outputs": [],
   "source": [
    "times = [0]*len(batch_sizes)\n",
    "weights = [0]*len(batch_sizes)\n",
    "for i in range(len(batch_sizes)):\n",
    "    labeleddata = np.array(list(zip(data, labels)))\n",
    "    batchindices = np.random.choice(len(labeleddata), batch_sizes[i], replace = False)\n",
    "    batch = labeleddata[batchindices]\n",
    "    batch_labels = np.array([a[1] for a in batch])\n",
    "    batch_data = np.array([a[0] for a in batch])\n",
    "    weight = weight_init\n",
    "    start = time.clock()\n",
    "    while (loss(weight, batch_data, batch_labels) > 0.001):\n",
    "        gradient = gradient_of_loss_50vec(weight, batch_data, batch_labels)\n",
    "        weight = np.add(weight, -STEPSIZE*gradient)\n",
    "    end = time.clock()\n",
    "    times[i] = end-start\n",
    "    weights[i] = weight"
   ]
  },
  {
   "cell_type": "code",
   "execution_count": 163,
   "metadata": {},
   "outputs": [
    {
     "name": "stdout",
     "output_type": "stream",
     "text": [
      "sgd weights [array([ 0.10320308,  0.10648944,  0.04168086,  0.09847187,  0.02501825,\n",
      "       -0.05121929,  0.10414867,  0.13158953,  0.03862683,  0.05605057,\n",
      "        0.08956891,  0.15091973,  0.01347815,  0.25005229,  0.09472368,\n",
      "        0.19852068,  0.21753814,  0.19765463,  0.00187814,  0.27086718,\n",
      "        0.06959102,  0.16532836,  0.20841258,  0.1866998 ,  0.06069443,\n",
      "        0.16303261,  0.12357875,  0.18714694,  0.0865375 ,  0.25956986,\n",
      "        0.09121726,  0.23381528,  0.16539728,  0.04158379,  0.16639529,\n",
      "        0.18659047,  0.12817214,  0.10583202,  0.16170224,  0.20333593,\n",
      "        0.0370822 ,  0.16133884,  0.02776554,  0.04291717,  0.05529186,\n",
      "       -0.01641134,  0.18333613,  0.0642867 ,  0.15291236,  0.13715173]), array([ 0.11041711,  0.14176272,  0.18815476,  0.08572309,  0.14494441,\n",
      "        0.0774507 ,  0.08063085,  0.23143344,  0.07393197,  0.07001405,\n",
      "        0.16206357,  0.18791859,  0.17893215,  0.19704139,  0.01846431,\n",
      "        0.22263698,  0.09854652,  0.08701341,  0.11968847,  0.23183829,\n",
      "        0.08661909,  0.09735989,  0.10998946,  0.18424186,  0.17650999,\n",
      "        0.23827689,  0.194488  ,  0.19829485,  0.04207527,  0.16169571,\n",
      "        0.19329131,  0.23530328,  0.04973941,  0.028957  ,  0.11415555,\n",
      "        0.16929998,  0.17565635,  0.21615977,  0.12675523,  0.03767051,\n",
      "        0.0284033 ,  0.16430203,  0.07481417,  0.05300845,  0.0328315 ,\n",
      "       -0.0006012 ,  0.05428378,  0.0806547 ,  0.1231645 ,  0.09543792]), array([ 0.11002969,  0.17629436,  0.20145431,  0.09248249,  0.179775  ,\n",
      "        0.06043297,  0.10572414,  0.210607  ,  0.08222051,  0.08561968,\n",
      "        0.18769497,  0.19723619,  0.18909387,  0.18481857,  0.02160965,\n",
      "        0.22212849,  0.06318802,  0.06549225,  0.09201906,  0.22325038,\n",
      "        0.06902293,  0.08017844,  0.08920239,  0.13524186,  0.17833581,\n",
      "        0.22784963,  0.21518847,  0.16705448,  0.02322745,  0.17332681,\n",
      "        0.17943283,  0.22155309,  0.03050736,  0.04982709,  0.10382347,\n",
      "        0.18753845,  0.22706272,  0.21972472,  0.08351991,  0.00710983,\n",
      "        0.05196364,  0.1492166 ,  0.02549717,  0.02798844,  0.03407142,\n",
      "        0.00990852,  0.0420858 ,  0.07132301,  0.18062521,  0.10504094]), array([ 0.10799979,  0.1777599 ,  0.20004861,  0.08500046,  0.1760324 ,\n",
      "        0.05536606,  0.10611362,  0.21817229,  0.08347768,  0.08992648,\n",
      "        0.19019001,  0.20360041,  0.18325699,  0.18005024,  0.02547286,\n",
      "        0.21678623,  0.0614284 ,  0.06390224,  0.09444959,  0.23013985,\n",
      "        0.06924511,  0.08630061,  0.08735731,  0.14217329,  0.16701442,\n",
      "        0.21961876,  0.21631037,  0.17664643,  0.02986287,  0.17926833,\n",
      "        0.1703899 ,  0.21105866,  0.04018322,  0.05506189,  0.11044551,\n",
      "        0.18904378,  0.22026034,  0.21869167,  0.09016586,  0.01811556,\n",
      "        0.05513379,  0.1608175 ,  0.03064797,  0.03791052,  0.03401618,\n",
      "        0.01539285,  0.04379387,  0.07342005,  0.17786853,  0.10342978])]\n",
      "optimum weight [ 0.10784812  0.17826209  0.2009294   0.08416744  0.17737669  0.05542408\n",
      "  0.10477863  0.21785812  0.08220176  0.0891492   0.19004679  0.20267407\n",
      "  0.18360059  0.18056782  0.02447763  0.21629894  0.06109728  0.06355545\n",
      "  0.09557023  0.22911371  0.06996154  0.0868228   0.08723315  0.14100142\n",
      "  0.16765973  0.21937271  0.21681682  0.17699948  0.02922414  0.17830647\n",
      "  0.17013604  0.21346175  0.04025494  0.05421687  0.10953269  0.19041434\n",
      "  0.22005239  0.21848983  0.09011075  0.01655911  0.05586634  0.16067947\n",
      "  0.02949487  0.03739451  0.03471817  0.01476359  0.04361241  0.07289265\n",
      "  0.17779519  0.10334531]\n",
      "difference [0.58886816865258385, 0.1589326307671601, 0.039584274840256929, 0.0056753108405605207]\n"
     ]
    }
   ],
   "source": [
    "normalized_weights = [w/np.linalg.norm(w) for w in weights]\n",
    "print(\"sgd weights\", normalized_weights)\n",
    "normalized_true_weight = true_weight/np.linalg.norm(true_weight)\n",
    "print(\"optimum weight\", normalized_true_weight)\n",
    "print(\"difference\",[np.linalg.norm(nw - normalized_true_weight) for nw in normalized_weights])"
   ]
  },
  {
   "cell_type": "code",
   "execution_count": 166,
   "metadata": {},
   "outputs": [
    {
     "name": "stdout",
     "output_type": "stream",
     "text": [
      "[ 0.33376627  0.44353489  0.10570823  0.31904311  0.16205098  0.07871254\n",
      "  0.32271682  0.75742986  0.27450502  0.28976539  0.0890302   0.41109421\n",
      "  0.0091839   0.61761301  0.33333771  0.71857852  0.86084437  0.66729955\n",
      "  0.50877068  0.98664837  0.29335515  0.4406666   0.9616375   0.9477806\n",
      "  0.21157467  0.38891209  0.11437495  0.5557952   0.93426667  0.58535562\n",
      "  0.17863113  0.55800081  0.71598601  0.02914185  0.57059562  0.13016384\n",
      "  0.06541833  0.17616252  0.72257893  0.74964876  0.134283    0.67291383\n",
      "  0.33838448  0.36725891  0.17245504  0.48303336  0.79661444  0.15204469\n",
      "  0.23075031  0.57825979]\n"
     ]
    }
   ],
   "source": [
    "print(weight_init)"
   ]
  },
  {
   "cell_type": "code",
   "execution_count": 167,
   "metadata": {
    "scrolled": true
   },
   "outputs": [
    {
     "name": "stdout",
     "output_type": "stream",
     "text": [
      "0.0\n",
      "0.125159341943\n",
      "[0.06718400126087061, 0.0048012782221446204, 0.00088752282559905924, 0.00017753363117258645]\n"
     ]
    }
   ],
   "source": [
    "print(loss(true_weight, data, labels)) #should be 0\n",
    "print(loss(weight_init, data, labels)) #hopefully much higher than our resultant\n",
    "print([loss(weights[i], data, labels) for i in range(len(weights))]) #our resultant"
   ]
  },
  {
   "cell_type": "code",
   "execution_count": 169,
   "metadata": {},
   "outputs": [
    {
     "data": {
      "text/plain": [
       "Text(0,0.5,'Time, in seconds')"
      ]
     },
     "execution_count": 169,
     "metadata": {},
     "output_type": "execute_result"
    },
    {
     "data": {
      "image/png": "[encoded data removed]",
      "text/plain": [
       "<matplotlib.figure.Figure at 0x7f67181d7a58>"
      ]
     },
     "metadata": {},
     "output_type": "display_data"
    }
   ],
   "source": [
    "plt.plot(batch_sizes, times, 'ro')\n",
    "plt.xscale('log')\n",
    "plt.title('50 dimensions: Batch size vs time correlation with logarithmic scale in the x axis' )\n",
    "plt.grid(True)\n",
    "plt.xlabel('Batch Size')\n",
    "plt.ylabel('Time, in seconds')"
   ]
  }
 ],
 "metadata": {
  "kernelspec": {
   "display_name": "Python 3",
   "language": "python",
   "name": "python3"
  },
  "language_info": {
   "codemirror_mode": {
    "name": "ipython",
    "version": 3
   },
   "file_extension": ".py",
   "mimetype": "text/x-python",
   "name": "python",
   "nbconvert_exporter": "python",
   "pygments_lexer": "ipython3",
   "version": "3.5.5"
  },
  "widgets": {
   "state": {},
   "version": "1.1.2"
  }
 },
 "nbformat": 4,
 "nbformat_minor": 2
}
